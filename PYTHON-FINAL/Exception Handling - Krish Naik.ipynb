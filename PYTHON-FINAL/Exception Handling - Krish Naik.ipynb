{
 "cells": [
  {
   "cell_type": "markdown",
   "id": "58839b28",
   "metadata": {},
   "source": [
    "# Exception Handling in Python "
   ]
  },
  {
   "cell_type": "code",
   "execution_count": 1,
   "id": "7867370f",
   "metadata": {},
   "outputs": [
    {
     "ename": "NameError",
     "evalue": "name 'b' is not defined",
     "output_type": "error",
     "traceback": [
      "\u001b[1;31m---------------------------------------------------------------------------\u001b[0m",
      "\u001b[1;31mNameError\u001b[0m                                 Traceback (most recent call last)",
      "\u001b[1;32mC:\\Users\\PCWORL~1\\AppData\\Local\\Temp/ipykernel_2824/4291063575.py\u001b[0m in \u001b[0;36m<module>\u001b[1;34m\u001b[0m\n\u001b[1;32m----> 1\u001b[1;33m \u001b[0ma\u001b[0m \u001b[1;33m=\u001b[0m \u001b[0mb\u001b[0m\u001b[1;33m\u001b[0m\u001b[1;33m\u001b[0m\u001b[0m\n\u001b[0m",
      "\u001b[1;31mNameError\u001b[0m: name 'b' is not defined"
     ]
    }
   ],
   "source": [
    "a = b"
   ]
  },
  {
   "cell_type": "code",
   "execution_count": null,
   "id": "b17f5708",
   "metadata": {},
   "outputs": [],
   "source": [
    "# We can handle the above error in a better way"
   ]
  },
  {
   "cell_type": "code",
   "execution_count": null,
   "id": "031b60a9",
   "metadata": {},
   "outputs": [],
   "source": [
    "try:\n",
    "# code block where exception can occur\n",
    "  a = b\n",
    "except:\n",
    "    print(\"Some error has occured\")\n"
   ]
  },
  {
   "cell_type": "code",
   "execution_count": null,
   "id": "61441e88",
   "metadata": {},
   "outputs": [],
   "source": [
    "# try another way\n",
    "try:\n",
    "    a = b\n",
    "except Exception as ex:\n",
    "    print(ex)"
   ]
  },
  {
   "cell_type": "code",
   "execution_count": null,
   "id": "c4377154",
   "metadata": {},
   "outputs": [],
   "source": [
    "# try another way\n",
    "try:\n",
    "    a = b\n",
    "except NameError:\n",
    "    print(\"You have not defined the variable\")\n",
    "except Exception as ex:\n",
    "    print(ex)"
   ]
  },
  {
   "cell_type": "code",
   "execution_count": null,
   "id": "72a6af38",
   "metadata": {},
   "outputs": [],
   "source": [
    "# another beautiful method\n",
    "a = str(input(\"Please write words\"))\n",
    "b = int(input(\"Please write number\"))\n",
    "print(b + a)"
   ]
  },
  {
   "cell_type": "code",
   "execution_count": null,
   "id": "a863ade9",
   "metadata": {},
   "outputs": [],
   "source": [
    "#try else block\n",
    "\n",
    "try:\n",
    "    a = str(input(\"Please write words\"))\n",
    "    b = int(input(\"Please write number\"))\n",
    "\n",
    "    c = a + b\n",
    "except NameError:\n",
    "    print(\"Please define variable\")\n",
    "except TypeError:\n",
    "    print(\"You cann't combine stings with numbers\")\n",
    "except Exception as ex:\n",
    "    print(ex)\n",
    "else:\n",
    "    print(c)"
   ]
  },
  {
   "cell_type": "markdown",
   "id": "83014a89",
   "metadata": {},
   "source": [
    "## Try - else "
   ]
  },
  {
   "cell_type": "code",
   "execution_count": null,
   "id": "be868ad7",
   "metadata": {},
   "outputs": [],
   "source": [
    "try:\n",
    "    a = int(input(\"Write First Number \"))\n",
    "    b = int(input(\"Write Second Number\"))\n",
    "    c = a/b\n",
    "    d = a*b\n",
    "    e = a+b\n",
    "except NameError:\n",
    "    print(\"Please define Variable\")\n",
    "except ZeroDivisionError:\n",
    "    print(\"You cann't divide any number with 0, Please write different number\")\n",
    "except TypeError:\n",
    "    print(\"You cann't combine number with words\")\n",
    "except Exception as ex:\n",
    "    print(ex)\n",
    "else:\n",
    "    print(c)\n",
    "    print(d)\n",
    "    print(e)"
   ]
  },
  {
   "cell_type": "markdown",
   "id": "97cba052",
   "metadata": {},
   "source": [
    "### Important\n",
    "\n",
    "When error occurs in program for any reason then the program will finish on else block, if some other function \n",
    "are okay to run but else function will finish on that program. like division with 0 , else don't work on the rest of the operation but finally will print the value of subtraction,addittion and multiplication."
   ]
  },
  {
   "cell_type": "markdown",
   "id": "5e4f62ef",
   "metadata": {},
   "source": [
    "## Try - else - finally"
   ]
  },
  {
   "cell_type": "code",
   "execution_count": null,
   "id": "5eb66595",
   "metadata": {},
   "outputs": [],
   "source": [
    "# program\n",
    "try:\n",
    "    a = int(input(\"Please write number 1 \"))\n",
    "    b = int(input(\"Please write number 2 \"))\n",
    "    c = a/b\n",
    "    d = a + b\n",
    "    e = a*b \n",
    "    \n",
    "except NameError:\n",
    "    print(\"Please define variable\")\n",
    "except ZeroDivisionError:\n",
    "    print(\"Please write number greater than 0, Divison cann't be performed on zero\")\n",
    "except TypeError:\n",
    "    print(\"You cann't combine stings with numbers\")\n",
    "except Exception as ex:\n",
    "    print(ex)\n",
    "else:\n",
    "    print(c)\n",
    "finally:\n",
    "    print(\"Addittion =  \", d)\n",
    "    print(\"Multiplication = \", e)"
   ]
  },
  {
   "cell_type": "markdown",
   "id": "711fcf87",
   "metadata": {},
   "source": [
    "## If __Exception/Error__ occurs in program then else will not printed but finally will be printed"
   ]
  },
  {
   "cell_type": "markdown",
   "id": "b7edf67b",
   "metadata": {},
   "source": [
    "**Example**\n",
    "\n",
    "Suppose you are connected with database/multiple databases in **try block** and you are performing multiple functions like inserting , deleting and adding etc, anyhow some error has occured and It will be  shown in **else** block remember data base is still open but you can use **finally** to close that database."
   ]
  },
  {
   "cell_type": "markdown",
   "id": "93dff934",
   "metadata": {},
   "source": [
    "## Custom Exception Handling"
   ]
  },
  {
   "cell_type": "code",
   "execution_count": 10,
   "id": "bf8d54e8",
   "metadata": {},
   "outputs": [],
   "source": [
    "class Error(Exception):\n",
    "    pass\n",
    "class dobexception(Error):\n",
    "    pass"
   ]
  },
  {
   "cell_type": "code",
   "execution_count": 11,
   "id": "f2a41ac1",
   "metadata": {},
   "outputs": [
    {
     "name": "stdout",
     "output_type": "stream",
     "text": [
      "Please enter your year of birth1998\n",
      "You are eligible for this job\n"
     ]
    }
   ],
   "source": [
    "import datetime\n",
    "x = datetime.datetime.now()\n",
    "y = x.year # current year\n",
    "\n",
    "year = int(input(\"Please enter your year of birth\"))\n",
    "z = y-year\n",
    "try:\n",
    "    if z<=30 & z>20:\n",
    "        print(\"You are eligible for this job\")\n",
    "    else:\n",
    "        raise dobexception\n",
    "except dobexception:\n",
    "    print(\"You are not eligible for this job, must be between 20 and 30 and your age is\")"
   ]
  },
  {
   "cell_type": "code",
   "execution_count": null,
   "id": "e3d35494",
   "metadata": {},
   "outputs": [],
   "source": []
  }
 ],
 "metadata": {
  "kernelspec": {
   "display_name": "Python 3 (ipykernel)",
   "language": "python",
   "name": "python3"
  },
  "language_info": {
   "codemirror_mode": {
    "name": "ipython",
    "version": 3
   },
   "file_extension": ".py",
   "mimetype": "text/x-python",
   "name": "python",
   "nbconvert_exporter": "python",
   "pygments_lexer": "ipython3",
   "version": "3.9.7"
  }
 },
 "nbformat": 4,
 "nbformat_minor": 5
}
