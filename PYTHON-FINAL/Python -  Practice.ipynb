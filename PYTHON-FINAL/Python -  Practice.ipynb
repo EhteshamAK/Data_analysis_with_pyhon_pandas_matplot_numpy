{
 "cells": [
  {
   "cell_type": "code",
   "execution_count": 1,
   "id": "f11cb997",
   "metadata": {},
   "outputs": [],
   "source": [
    "fruits = ['banana','orange','grapes','tomatoes','mango','pineapple','blue berries','black berries']\n",
    "fruits_n = []\n",
    "for fruit in fruits:\n",
    "     if 'n' in fruit:\n",
    "            fruits_n.append(fruit)"
   ]
  },
  {
   "cell_type": "code",
   "execution_count": 2,
   "id": "bedf3829",
   "metadata": {},
   "outputs": [
    {
     "name": "stdout",
     "output_type": "stream",
     "text": [
      "['banana', 'orange', 'mango', 'pineapple']\n"
     ]
    }
   ],
   "source": [
    "print(fruits_n)"
   ]
  },
  {
   "cell_type": "code",
   "execution_count": 3,
   "id": "e69809b9",
   "metadata": {},
   "outputs": [
    {
     "name": "stdout",
     "output_type": "stream",
     "text": [
      "['blue berries', 'black berries']\n"
     ]
    }
   ],
   "source": [
    "# using list comprehension\n",
    "new_list = [x for x in fruits if 'berries' in x]\n",
    "print(new_list)"
   ]
  },
  {
   "cell_type": "code",
   "execution_count": 4,
   "id": "2c68c9ab",
   "metadata": {},
   "outputs": [],
   "source": [
    "# addding two lists together\n",
    "a = [1,2,3,4,5,6]\n",
    "b= [3,4,5,6,4,32]\n",
    "a.extend(b)"
   ]
  },
  {
   "cell_type": "code",
   "execution_count": 5,
   "id": "72060a90",
   "metadata": {},
   "outputs": [
    {
     "data": {
      "text/plain": [
       "[1, 2, 3, 4, 5, 6, 3, 4, 5, 6, 4, 32]"
      ]
     },
     "execution_count": 5,
     "metadata": {},
     "output_type": "execute_result"
    }
   ],
   "source": [
    "a"
   ]
  },
  {
   "cell_type": "code",
   "execution_count": 6,
   "id": "556ea5d4",
   "metadata": {},
   "outputs": [],
   "source": [
    "# printing odd numbers list\n",
    "\n",
    "empty = []\n",
    "new_list = [i for  i in range(100)if i % 2 != 0]\n",
    "empty.append(new_list)"
   ]
  },
  {
   "cell_type": "code",
   "execution_count": 7,
   "id": "ebbd9533",
   "metadata": {},
   "outputs": [
    {
     "name": "stdout",
     "output_type": "stream",
     "text": [
      "[[1, 3, 5, 7, 9, 11, 13, 15, 17, 19, 21, 23, 25, 27, 29, 31, 33, 35, 37, 39, 41, 43, 45, 47, 49, 51, 53, 55, 57, 59, 61, 63, 65, 67, 69, 71, 73, 75, 77, 79, 81, 83, 85, 87, 89, 91, 93, 95, 97, 99]]\n"
     ]
    }
   ],
   "source": [
    "print(empty)"
   ]
  },
  {
   "cell_type": "code",
   "execution_count": 8,
   "id": "93c20934",
   "metadata": {},
   "outputs": [],
   "source": [
    "# printing even numbers list\n",
    "empty_even = []\n",
    "even_numbers = [x for x in range(100)if x%2==0]\n",
    "empty_even.append(even_numbers)"
   ]
  },
  {
   "cell_type": "code",
   "execution_count": 9,
   "id": "4f2adbc8",
   "metadata": {},
   "outputs": [
    {
     "name": "stdout",
     "output_type": "stream",
     "text": [
      "[[0, 2, 4, 6, 8, 10, 12, 14, 16, 18, 20, 22, 24, 26, 28, 30, 32, 34, 36, 38, 40, 42, 44, 46, 48, 50, 52, 54, 56, 58, 60, 62, 64, 66, 68, 70, 72, 74, 76, 78, 80, 82, 84, 86, 88, 90, 92, 94, 96, 98]]\n"
     ]
    }
   ],
   "source": [
    "print(empty_even)"
   ]
  },
  {
   "cell_type": "code",
   "execution_count": 10,
   "id": "e8d3616f",
   "metadata": {},
   "outputs": [],
   "source": [
    "empty_even1 = []\n",
    "even_numbers1 = [x for x in range(100)if x%2==0]\n",
    "empty_even1.append(even_numbers1)"
   ]
  },
  {
   "cell_type": "code",
   "execution_count": 11,
   "id": "8d01633a",
   "metadata": {},
   "outputs": [
    {
     "name": "stdout",
     "output_type": "stream",
     "text": [
      "[[0, 2, 4, 6, 8, 10, 12, 14, 16, 18, 20, 22, 24, 26, 28, 30, 32, 34, 36, 38, 40, 42, 44, 46, 48, 50, 52, 54, 56, 58, 60, 62, 64, 66, 68, 70, 72, 74, 76, 78, 80, 82, 84, 86, 88, 90, 92, 94, 96, 98]]\n"
     ]
    }
   ],
   "source": [
    "print(empty_even1)"
   ]
  },
  {
   "cell_type": "code",
   "execution_count": 12,
   "id": "c25ff67a",
   "metadata": {},
   "outputs": [
    {
     "data": {
      "text/plain": [
       "['Ehtesham', 'Reema', 5, 7, 23, True]"
      ]
     },
     "metadata": {},
     "output_type": "display_data"
    }
   ],
   "source": [
    "lis1 = [\"Ehtesham\",\"Reema\",5,7,23,True]\n",
    "display(lis1)"
   ]
  },
  {
   "cell_type": "code",
   "execution_count": 13,
   "id": "3b2137d6",
   "metadata": {},
   "outputs": [],
   "source": [
    "lis1.append(\"Hassan\")"
   ]
  },
  {
   "cell_type": "code",
   "execution_count": 14,
   "id": "1f62e77c",
   "metadata": {},
   "outputs": [
    {
     "data": {
      "text/plain": [
       "['Ehtesham', 'Reema', 5, 7, 23, True, 'Hassan']"
      ]
     },
     "execution_count": 14,
     "metadata": {},
     "output_type": "execute_result"
    }
   ],
   "source": [
    "lis1"
   ]
  },
  {
   "cell_type": "code",
   "execution_count": 15,
   "id": "8c0bc8c0",
   "metadata": {},
   "outputs": [],
   "source": [
    "#  for insert mention index number where you want to have it\n",
    "\n",
    "lis1.insert(1,'Shumaila')"
   ]
  },
  {
   "cell_type": "code",
   "execution_count": 16,
   "id": "b4595633",
   "metadata": {},
   "outputs": [
    {
     "data": {
      "text/plain": [
       "['Ehtesham', 'Shumaila', 'Reema', 5, 7, 23, True, 'Hassan']"
      ]
     },
     "execution_count": 16,
     "metadata": {},
     "output_type": "execute_result"
    }
   ],
   "source": [
    "lis1"
   ]
  },
  {
   "cell_type": "code",
   "execution_count": 17,
   "id": "6585981c",
   "metadata": {},
   "outputs": [
    {
     "data": {
      "text/plain": [
       "'Hassan'"
      ]
     },
     "execution_count": 17,
     "metadata": {},
     "output_type": "execute_result"
    }
   ],
   "source": [
    "lis1.pop()"
   ]
  },
  {
   "cell_type": "code",
   "execution_count": 18,
   "id": "7f89401c",
   "metadata": {},
   "outputs": [
    {
     "data": {
      "text/plain": [
       "['Ehtesham', 'Shumaila', 'Reema', 5, 7, 23, True]"
      ]
     },
     "execution_count": 18,
     "metadata": {},
     "output_type": "execute_result"
    }
   ],
   "source": [
    "lis1"
   ]
  },
  {
   "cell_type": "code",
   "execution_count": 19,
   "id": "2845426e",
   "metadata": {},
   "outputs": [],
   "source": [
    "lis1.append(\"Hassan\")"
   ]
  },
  {
   "cell_type": "code",
   "execution_count": 20,
   "id": "77a7f127",
   "metadata": {},
   "outputs": [
    {
     "data": {
      "text/plain": [
       "['Ehtesham', 'Shumaila', 'Reema', 5, 7, 23, True, 'Hassan']"
      ]
     },
     "execution_count": 20,
     "metadata": {},
     "output_type": "execute_result"
    }
   ],
   "source": [
    "lis1"
   ]
  },
  {
   "cell_type": "code",
   "execution_count": 21,
   "id": "e58a03a6",
   "metadata": {},
   "outputs": [
    {
     "data": {
      "text/plain": [
       "8"
      ]
     },
     "execution_count": 21,
     "metadata": {},
     "output_type": "execute_result"
    }
   ],
   "source": [
    "len(lis1)"
   ]
  },
  {
   "cell_type": "code",
   "execution_count": 22,
   "id": "b2eb2545",
   "metadata": {},
   "outputs": [],
   "source": [
    "# using slice to get the desired index number\n",
    "lis1_slice = lis1[-5:]"
   ]
  },
  {
   "cell_type": "code",
   "execution_count": 23,
   "id": "8eea8fcb",
   "metadata": {},
   "outputs": [
    {
     "data": {
      "text/plain": [
       "[5, 7, 23, True, 'Hassan']"
      ]
     },
     "execution_count": 23,
     "metadata": {},
     "output_type": "execute_result"
    }
   ],
   "source": [
    "lis1_slice"
   ]
  },
  {
   "cell_type": "code",
   "execution_count": 24,
   "id": "5768e83e",
   "metadata": {},
   "outputs": [
    {
     "name": "stdout",
     "output_type": "stream",
     "text": [
      "['Even', 'Odd', 'Even', 'Odd', 'Even', 'Odd', 'Even', 'Odd', 'Even', 'Odd', 'Even', 'Odd', 'Even', 'Odd', 'Even', 'Odd', 'Even', 'Odd', 'Even', 'Odd', 'Even', 'Odd', 'Even', 'Odd', 'Even', 'Odd', 'Even', 'Odd', 'Even', 'Odd', 'Even', 'Odd', 'Even', 'Odd', 'Even', 'Odd', 'Even', 'Odd', 'Even', 'Odd', 'Even', 'Odd', 'Even', 'Odd', 'Even', 'Odd', 'Even', 'Odd', 'Even', 'Odd']\n"
     ]
    }
   ],
   "source": [
    "obj = [\"Even\" if i%2==0 else \"Odd\" for i in range(50)]\n",
    "print(obj)"
   ]
  },
  {
   "cell_type": "code",
   "execution_count": 25,
   "id": "b5172e60",
   "metadata": {},
   "outputs": [
    {
     "name": "stdout",
     "output_type": "stream",
     "text": [
      "['Even', 'Odd', 'Even', 'Odd', 'Even', 'Odd', 'Even', 'Odd', 'Even', 'Odd', 'Even', 'Odd', 'Even', 'Odd', 'Even', 'Odd', 'Even', 'Odd', 'Even']\n"
     ]
    }
   ],
   "source": [
    "ob = [\"Even\" if i%2==0 else \"Odd\" for i in range(19)]\n",
    "print(ob)"
   ]
  },
  {
   "cell_type": "markdown",
   "id": "937dea53",
   "metadata": {},
   "source": [
    "# List slice"
   ]
  },
  {
   "cell_type": "code",
   "execution_count": 26,
   "id": "2e519590",
   "metadata": {},
   "outputs": [],
   "source": [
    "list_1 = [10,11,12,13,14,15,16,17,18,19,20,21,22,23,24,25,26,27,28,29,30,31,32,33,34,35,36,37,38,39,40]"
   ]
  },
  {
   "cell_type": "code",
   "execution_count": 27,
   "id": "ce8143f1",
   "metadata": {},
   "outputs": [
    {
     "data": {
      "text/plain": [
       "31"
      ]
     },
     "execution_count": 27,
     "metadata": {},
     "output_type": "execute_result"
    }
   ],
   "source": [
    "len(list_1)"
   ]
  },
  {
   "cell_type": "code",
   "execution_count": 28,
   "id": "03c18bfa",
   "metadata": {},
   "outputs": [
    {
     "name": "stdout",
     "output_type": "stream",
     "text": [
      "[10, 12, 14, 16, 18, 20, 22, 24, 26, 28, 30, 32, 34, 36, 38]\n"
     ]
    }
   ],
   "source": [
    "print(list_1[:-1:2])"
   ]
  },
  {
   "cell_type": "code",
   "execution_count": 29,
   "id": "fa2748b2",
   "metadata": {},
   "outputs": [
    {
     "name": "stdout",
     "output_type": "stream",
     "text": [
      "[10, 11, 12, 13, 14, 15, 16, 17, 18, 19, 20, 21, 22, 23, 24, 25, 26, 27, 28, 29, 30]\n"
     ]
    }
   ],
   "source": [
    "print(list_1[-31:-10])"
   ]
  },
  {
   "cell_type": "code",
   "execution_count": 30,
   "id": "ac6fee6e",
   "metadata": {},
   "outputs": [
    {
     "name": "stdout",
     "output_type": "stream",
     "text": [
      "[40]\n"
     ]
    }
   ],
   "source": [
    "# print the last element in the list 40\n",
    "print(list_1[-1::])"
   ]
  },
  {
   "cell_type": "markdown",
   "id": "f2f4dc84",
   "metadata": {},
   "source": [
    "# Dictionary"
   ]
  },
  {
   "cell_type": "code",
   "execution_count": 31,
   "id": "ae65f072",
   "metadata": {},
   "outputs": [
    {
     "name": "stdout",
     "output_type": "stream",
     "text": [
      "{'name': 'Ehtesham Ali Khan', 'Age': 28, 'Address': 'London', 'Profession': 'Enterpreneur'}\n"
     ]
    }
   ],
   "source": [
    "dict1 = {\n",
    "    'name':'Ehtesham Ali Khan',\n",
    "    'Age': 28,\n",
    "    'Address': 'London',\n",
    "    'Profession': 'Enterpreneur'\n",
    "}\n",
    "print(dict1)"
   ]
  },
  {
   "cell_type": "code",
   "execution_count": 32,
   "id": "580dc0b4",
   "metadata": {},
   "outputs": [
    {
     "data": {
      "text/plain": [
       "28"
      ]
     },
     "execution_count": 32,
     "metadata": {},
     "output_type": "execute_result"
    }
   ],
   "source": [
    "dict1['Age']"
   ]
  },
  {
   "cell_type": "code",
   "execution_count": 33,
   "id": "81a3bde0",
   "metadata": {},
   "outputs": [
    {
     "name": "stdout",
     "output_type": "stream",
     "text": [
      "{'name': 'Ehtesham Ali Khan', 'Age': 28, 'Address': 'London', 'Profession': 'Enterpreneur'}\n"
     ]
    }
   ],
   "source": [
    "print(dict1)"
   ]
  },
  {
   "cell_type": "code",
   "execution_count": 34,
   "id": "56ca39be",
   "metadata": {},
   "outputs": [
    {
     "data": {
      "text/plain": [
       "28"
      ]
     },
     "execution_count": 34,
     "metadata": {},
     "output_type": "execute_result"
    }
   ],
   "source": [
    "dict1.get('Age')"
   ]
  },
  {
   "cell_type": "code",
   "execution_count": 35,
   "id": "7562a194",
   "metadata": {},
   "outputs": [
    {
     "data": {
      "text/plain": [
       "'Ehtesham Ali Khan'"
      ]
     },
     "execution_count": 35,
     "metadata": {},
     "output_type": "execute_result"
    }
   ],
   "source": [
    "dict1['name']"
   ]
  },
  {
   "cell_type": "code",
   "execution_count": 36,
   "id": "069e5289",
   "metadata": {},
   "outputs": [
    {
     "name": "stdout",
     "output_type": "stream",
     "text": [
      "name\n",
      "Age\n",
      "Address\n",
      "Profession\n"
     ]
    }
   ],
   "source": [
    "for key in dict1:\n",
    "    print(key)"
   ]
  },
  {
   "cell_type": "markdown",
   "id": "f4fe1a7d",
   "metadata": {},
   "source": [
    "# Use [items] to iterate thorough a dictionary keys and values"
   ]
  },
  {
   "cell_type": "code",
   "execution_count": 37,
   "id": "3fee361f",
   "metadata": {},
   "outputs": [
    {
     "name": "stdout",
     "output_type": "stream",
     "text": [
      "('name', 'Ehtesham Ali Khan')\n",
      "('Age', 28)\n",
      "('Address', 'London')\n",
      "('Profession', 'Enterpreneur')\n"
     ]
    }
   ],
   "source": [
    "#iterate thorough an item\n",
    "a = dict1.items()\n",
    "for items in a:\n",
    "    print(items)"
   ]
  },
  {
   "cell_type": "code",
   "execution_count": 38,
   "id": "4c4caa5a",
   "metadata": {},
   "outputs": [
    {
     "name": "stdout",
     "output_type": "stream",
     "text": [
      "('name', 'Ehtesham Ali Khan')\n",
      "<class 'tuple'>\n",
      "('Age', 28)\n",
      "<class 'tuple'>\n",
      "('Address', 'London')\n",
      "<class 'tuple'>\n",
      "('Profession', 'Enterpreneur')\n",
      "<class 'tuple'>\n"
     ]
    }
   ],
   "source": [
    "#This is the another method\n",
    "for items in dict1.items():\n",
    "    print(items)\n",
    "    print(type(items))"
   ]
  },
  {
   "cell_type": "code",
   "execution_count": 39,
   "id": "ee88546c",
   "metadata": {},
   "outputs": [],
   "source": [
    "# Changing the value of name to Hassan Ali Khan\n",
    "dict1['name'] = 'Hassan Ali Khan'"
   ]
  },
  {
   "cell_type": "code",
   "execution_count": 40,
   "id": "ac709ae4",
   "metadata": {},
   "outputs": [
    {
     "data": {
      "text/plain": [
       "dict_items([('name', 'Hassan Ali Khan'), ('Age', 28), ('Address', 'London'), ('Profession', 'Enterpreneur')])"
      ]
     },
     "execution_count": 40,
     "metadata": {},
     "output_type": "execute_result"
    }
   ],
   "source": [
    "dict1.items()"
   ]
  },
  {
   "cell_type": "markdown",
   "id": "b13ca298",
   "metadata": {},
   "source": [
    "## To access  single [value] in dictionary use .get(), and for [keys] use .keys(), for accessing all the values in dictionary use .values()"
   ]
  },
  {
   "cell_type": "code",
   "execution_count": 41,
   "id": "358f2614",
   "metadata": {},
   "outputs": [
    {
     "data": {
      "text/plain": [
       "dict_keys(['name', 'Age', 'Address', 'Profession'])"
      ]
     },
     "execution_count": 41,
     "metadata": {},
     "output_type": "execute_result"
    }
   ],
   "source": [
    "dict1.keys()"
   ]
  },
  {
   "cell_type": "code",
   "execution_count": 42,
   "id": "ad9c1128",
   "metadata": {},
   "outputs": [
    {
     "data": {
      "text/plain": [
       "'Hassan Ali Khan'"
      ]
     },
     "execution_count": 42,
     "metadata": {},
     "output_type": "execute_result"
    }
   ],
   "source": [
    "dict1.get('name')"
   ]
  },
  {
   "cell_type": "code",
   "execution_count": 43,
   "id": "704b7e89",
   "metadata": {},
   "outputs": [
    {
     "data": {
      "text/plain": [
       "dict_values(['Hassan Ali Khan', 28, 'London', 'Enterpreneur'])"
      ]
     },
     "execution_count": 43,
     "metadata": {},
     "output_type": "execute_result"
    }
   ],
   "source": [
    "dict1.values()"
   ]
  },
  {
   "cell_type": "markdown",
   "id": "2b563a72",
   "metadata": {},
   "source": [
    "### items() is used for accessing key value pairs"
   ]
  },
  {
   "cell_type": "code",
   "execution_count": 44,
   "id": "646ed378",
   "metadata": {},
   "outputs": [
    {
     "data": {
      "text/plain": [
       "{'name': 'Hassan Ali Khan',\n",
       " 'Age': 28,\n",
       " 'Address': 'London',\n",
       " 'Profession': 'Enterpreneur'}"
      ]
     },
     "metadata": {},
     "output_type": "display_data"
    }
   ],
   "source": [
    "display(dict1)"
   ]
  },
  {
   "cell_type": "markdown",
   "id": "4ed53af3",
   "metadata": {},
   "source": [
    "### use update method to change all the items in the dictionary"
   ]
  },
  {
   "cell_type": "code",
   "execution_count": 45,
   "id": "1d2081e1",
   "metadata": {},
   "outputs": [],
   "source": [
    "dict1.update({'name':\"Seemab Shaheen\",'Age':25,'Address':'London','Profession':'Teacher'})"
   ]
  },
  {
   "cell_type": "code",
   "execution_count": 46,
   "id": "165d6790",
   "metadata": {},
   "outputs": [
    {
     "name": "stdout",
     "output_type": "stream",
     "text": [
      "{'name': 'Seemab Shaheen', 'Age': 25, 'Address': 'London', 'Profession': 'Teacher'}\n"
     ]
    }
   ],
   "source": [
    "print(dict1)"
   ]
  },
  {
   "cell_type": "markdown",
   "id": "e38d9d48",
   "metadata": {},
   "source": [
    "### use pop() fo removing items"
   ]
  },
  {
   "cell_type": "code",
   "execution_count": 47,
   "id": "b1795757",
   "metadata": {},
   "outputs": [
    {
     "data": {
      "text/plain": [
       "'Teacher'"
      ]
     },
     "execution_count": 47,
     "metadata": {},
     "output_type": "execute_result"
    }
   ],
   "source": [
    "dict1.pop('Profession')"
   ]
  },
  {
   "cell_type": "code",
   "execution_count": 48,
   "id": "f12efa61",
   "metadata": {},
   "outputs": [
    {
     "data": {
      "text/plain": [
       "{'name': 'Seemab Shaheen', 'Age': 25, 'Address': 'London'}"
      ]
     },
     "execution_count": 48,
     "metadata": {},
     "output_type": "execute_result"
    }
   ],
   "source": [
    "dict1"
   ]
  },
  {
   "cell_type": "code",
   "execution_count": 49,
   "id": "213b737f",
   "metadata": {},
   "outputs": [],
   "source": [
    "# del is also used for removing \n",
    "del dict1['Address']"
   ]
  },
  {
   "cell_type": "code",
   "execution_count": 50,
   "id": "96d76550",
   "metadata": {},
   "outputs": [
    {
     "data": {
      "text/plain": [
       "{'name': 'Seemab Shaheen', 'Age': 25}"
      ]
     },
     "execution_count": 50,
     "metadata": {},
     "output_type": "execute_result"
    }
   ],
   "source": [
    "dict1"
   ]
  },
  {
   "cell_type": "code",
   "execution_count": 51,
   "id": "2000357b",
   "metadata": {},
   "outputs": [],
   "source": [
    "# clear () method empties the dictionary"
   ]
  },
  {
   "cell_type": "code",
   "execution_count": 52,
   "id": "cda3c875",
   "metadata": {},
   "outputs": [],
   "source": [
    "dict1.clear()"
   ]
  },
  {
   "cell_type": "code",
   "execution_count": 53,
   "id": "eab6c064",
   "metadata": {},
   "outputs": [
    {
     "data": {
      "text/plain": [
       "{}"
      ]
     },
     "execution_count": 53,
     "metadata": {},
     "output_type": "execute_result"
    }
   ],
   "source": [
    "dict1"
   ]
  },
  {
   "cell_type": "code",
   "execution_count": 54,
   "id": "04b0d11a",
   "metadata": {},
   "outputs": [],
   "source": [
    "#del keyword delete the dictionary completely \n",
    "# del dict1"
   ]
  },
  {
   "cell_type": "code",
   "execution_count": 55,
   "id": "aa0a99d2",
   "metadata": {},
   "outputs": [],
   "source": [
    "# dict1"
   ]
  },
  {
   "cell_type": "code",
   "execution_count": 56,
   "id": "f69bfc7b",
   "metadata": {},
   "outputs": [],
   "source": [
    "Wife = {\n",
    "    \"name\": \"ayesha noor\",\n",
    "    \"age\": 24,\n",
    "    \"married\": \"Yes\",\n",
    "    \"children\": 1,\n",
    "    \"address\":\"rawalpindi\"\n",
    "}"
   ]
  },
  {
   "cell_type": "code",
   "execution_count": 57,
   "id": "04a0df7b",
   "metadata": {},
   "outputs": [
    {
     "name": "stdout",
     "output_type": "stream",
     "text": [
      "('name', 'ayesha noor')\n",
      "('age', 24)\n",
      "('married', 'Yes')\n",
      "('children', 1)\n",
      "('address', 'rawalpindi')\n"
     ]
    }
   ],
   "source": [
    "# using loop to access all the keys and values in Wife dictionary\n",
    "for items in Wife.items():\n",
    "    print(items)"
   ]
  },
  {
   "cell_type": "code",
   "execution_count": 58,
   "id": "22923787",
   "metadata": {},
   "outputs": [
    {
     "name": "stdout",
     "output_type": "stream",
     "text": [
      "ayesha noor\n",
      "24\n",
      "Yes\n",
      "1\n",
      "rawalpindi\n"
     ]
    }
   ],
   "source": [
    "# use loop for access all the values in wife dictionary\n",
    "for values in Wife.values():\n",
    "    print(values)"
   ]
  },
  {
   "cell_type": "code",
   "execution_count": 59,
   "id": "2b883f45",
   "metadata": {},
   "outputs": [
    {
     "name": "stdout",
     "output_type": "stream",
     "text": [
      "ayesha noor\n",
      "24\n",
      "Yes\n",
      "1\n",
      "rawalpindi\n"
     ]
    }
   ],
   "source": [
    "# print all the values in dictionary one by one\n",
    "for x in Wife:\n",
    "    print(Wife[x])"
   ]
  },
  {
   "cell_type": "code",
   "execution_count": 60,
   "id": "26b02f19",
   "metadata": {},
   "outputs": [
    {
     "name": "stdout",
     "output_type": "stream",
     "text": [
      "name ayesha noor\n",
      "age 24\n",
      "married Yes\n",
      "children 1\n",
      "address rawalpindi\n"
     ]
    }
   ],
   "source": [
    "# making a copy of the dictionary\n",
    "a = dict(Wife)\n",
    "for x, y in a.items():\n",
    "    print(x,y)"
   ]
  },
  {
   "cell_type": "markdown",
   "id": "a3454248",
   "metadata": {},
   "source": [
    "# Python If .... Else"
   ]
  },
  {
   "cell_type": "code",
   "execution_count": 61,
   "id": "f217ac3a",
   "metadata": {},
   "outputs": [
    {
     "name": "stdout",
     "output_type": "stream",
     "text": [
      "b is greater 30\n"
     ]
    }
   ],
   "source": [
    "a = 25\n",
    "b = 30\n",
    "if a > b:\n",
    "    print(\"a is greater\",a)\n",
    "else:\n",
    "    print('b is greater',b)"
   ]
  },
  {
   "cell_type": "code",
   "execution_count": 62,
   "id": "8a70cc72",
   "metadata": {},
   "outputs": [],
   "source": [
    "#short hand\n",
    "if a>b:print('a is greater')"
   ]
  },
  {
   "cell_type": "code",
   "execution_count": 63,
   "id": "88fdf700",
   "metadata": {},
   "outputs": [
    {
     "name": "stdout",
     "output_type": "stream",
     "text": [
      "B\n"
     ]
    }
   ],
   "source": [
    "#short hand if else\n",
    "print('A')if a>b else print('B')"
   ]
  },
  {
   "cell_type": "code",
   "execution_count": 64,
   "id": "c882de83",
   "metadata": {},
   "outputs": [
    {
     "name": "stdout",
     "output_type": "stream",
     "text": [
      "B\n"
     ]
    }
   ],
   "source": [
    "# this techinique is knowns as ternory operator or conditional expression\n",
    "print('A') if a>b else print('a is equal to b') if a==b else print(\"B\")"
   ]
  },
  {
   "cell_type": "code",
   "execution_count": 65,
   "id": "55199ac5",
   "metadata": {},
   "outputs": [],
   "source": [
    "if b>a:\n",
    "    pass"
   ]
  },
  {
   "cell_type": "code",
   "execution_count": 66,
   "id": "199b810c",
   "metadata": {},
   "outputs": [
    {
     "name": "stdout",
     "output_type": "stream",
     "text": [
      "above ten\n"
     ]
    }
   ],
   "source": [
    "#nested statement\n",
    "x = 15\n",
    "\n",
    "if x>10:\n",
    "    print(\"above ten\")\n",
    "    if x>20:\n",
    "        print('above twenty')\n",
    "        if x>30:\n",
    "            print('above thirty')\n",
    "        else:\n",
    "            print('above forty')"
   ]
  },
  {
   "cell_type": "markdown",
   "id": "d84205e8",
   "metadata": {},
   "source": [
    "# For and while loop"
   ]
  },
  {
   "cell_type": "markdown",
   "id": "3dd5dafa",
   "metadata": {},
   "source": [
    "# While Loop"
   ]
  },
  {
   "cell_type": "markdown",
   "id": "a8018adf",
   "metadata": {},
   "source": [
    "With the while loop we can execute a set of statements as long as a condition is true"
   ]
  },
  {
   "cell_type": "code",
   "execution_count": 67,
   "id": "05182ad7",
   "metadata": {},
   "outputs": [
    {
     "name": "stdout",
     "output_type": "stream",
     "text": [
      "1\n",
      "2\n",
      "3\n",
      "4\n",
      "5\n",
      "6\n",
      "7\n",
      "8\n",
      "9\n",
      "10\n",
      "11\n",
      "12\n",
      "13\n",
      "14\n",
      "15\n",
      "16\n",
      "17\n",
      "18\n",
      "19\n",
      "20\n",
      "21\n",
      "22\n",
      "23\n",
      "24\n",
      "25\n",
      "26\n",
      "27\n",
      "28\n",
      "29\n",
      "30\n",
      "31\n",
      "32\n",
      "33\n",
      "34\n",
      "35\n",
      "36\n",
      "37\n",
      "38\n",
      "39\n",
      "40\n",
      "41\n",
      "42\n",
      "43\n",
      "44\n",
      "45\n",
      "46\n",
      "47\n",
      "48\n",
      "49\n",
      "50\n",
      "51\n",
      "52\n",
      "53\n",
      "54\n",
      "55\n",
      "56\n",
      "57\n",
      "58\n",
      "59\n",
      "60\n",
      "61\n",
      "62\n",
      "63\n",
      "64\n",
      "65\n",
      "66\n",
      "67\n",
      "68\n",
      "69\n",
      "70\n",
      "71\n",
      "72\n",
      "73\n",
      "74\n",
      "75\n",
      "76\n",
      "77\n",
      "78\n",
      "79\n",
      "80\n",
      "81\n",
      "82\n",
      "83\n",
      "84\n",
      "85\n",
      "86\n",
      "87\n",
      "88\n",
      "89\n",
      "90\n",
      "91\n",
      "92\n",
      "93\n",
      "94\n",
      "95\n",
      "96\n",
      "97\n",
      "98\n",
      "99\n"
     ]
    }
   ],
   "source": [
    "i = 1\n",
    "while i<100:\n",
    "    print(i)\n",
    "    i += 1"
   ]
  },
  {
   "cell_type": "code",
   "execution_count": 68,
   "id": "f59e8365",
   "metadata": {},
   "outputs": [
    {
     "name": "stdout",
     "output_type": "stream",
     "text": [
      "13\n"
     ]
    }
   ],
   "source": [
    "i = 1\n",
    "while i<100:\n",
    "    if i==13:\n",
    "        print(i)\n",
    "    i += 1"
   ]
  },
  {
   "cell_type": "markdown",
   "id": "2be6a629",
   "metadata": {},
   "source": [
    "with the **break** statement we can stop the loop even if the while condition is true"
   ]
  },
  {
   "cell_type": "code",
   "execution_count": 69,
   "id": "7447e881",
   "metadata": {},
   "outputs": [
    {
     "name": "stdout",
     "output_type": "stream",
     "text": [
      "1\n",
      "2\n",
      "3\n",
      "4\n",
      "5\n",
      "6\n",
      "7\n",
      "8\n",
      "9\n",
      "10\n",
      "11\n",
      "12\n",
      "13\n",
      "14\n",
      "15\n",
      "16\n",
      "17\n",
      "18\n",
      "19\n",
      "20\n",
      "21\n",
      "22\n",
      "23\n",
      "24\n",
      "25\n",
      "26\n",
      "27\n",
      "28\n",
      "29\n",
      "30\n",
      "31\n",
      "32\n",
      "33\n",
      "34\n",
      "35\n",
      "36\n",
      "37\n",
      "38\n",
      "39\n",
      "40\n",
      "41\n",
      "42\n",
      "43\n",
      "44\n",
      "45\n",
      "46\n",
      "47\n",
      "48\n",
      "49\n",
      "50\n"
     ]
    }
   ],
   "source": [
    "i = 1\n",
    "while i<=100:\n",
    "    print(i)\n",
    "    if i==50:\n",
    "        break\n",
    "    i += 1"
   ]
  },
  {
   "cell_type": "markdown",
   "id": "e0ab25de",
   "metadata": {},
   "source": [
    "with the **continue** statement we can stop the current iteration, and continue with the next"
   ]
  },
  {
   "cell_type": "code",
   "execution_count": 70,
   "id": "c1a73a37",
   "metadata": {},
   "outputs": [
    {
     "name": "stdout",
     "output_type": "stream",
     "text": [
      "1\n",
      "2\n",
      "3\n",
      "4\n",
      "6\n",
      "7\n",
      "8\n",
      "9\n",
      "10\n"
     ]
    }
   ],
   "source": [
    "i = 0\n",
    "while i<10:\n",
    "    i += 1\n",
    "    if i==5:\n",
    "        continue\n",
    "    print(i)  # 5 will not be printed in the counting"
   ]
  },
  {
   "cell_type": "markdown",
   "id": "2e81a9cd",
   "metadata": {},
   "source": [
    "with the **else** statement we can run a block of code once when the condition is no longer is true:"
   ]
  },
  {
   "cell_type": "code",
   "execution_count": 71,
   "id": "db74cc58",
   "metadata": {},
   "outputs": [
    {
     "name": "stdout",
     "output_type": "stream",
     "text": [
      "1\n",
      "2\n",
      "3\n",
      "4\n",
      "5\n",
      "6\n",
      "7\n",
      "8\n",
      "9\n",
      "10\n",
      "The given condition is met\n"
     ]
    }
   ],
   "source": [
    "i = 1\n",
    "while i<=10:\n",
    "    print(i)\n",
    "    i += 1\n",
    "else:\n",
    "    print(\"The given condition is met\")"
   ]
  },
  {
   "cell_type": "markdown",
   "id": "749f81c3",
   "metadata": {},
   "source": [
    "# For Loop"
   ]
  },
  {
   "cell_type": "markdown",
   "id": "e2207eea",
   "metadata": {},
   "source": [
    "a **for** loop is used for iterating over a sequence (that is either a list, a tuple, a dictionary, a set, or a string)"
   ]
  },
  {
   "cell_type": "code",
   "execution_count": 72,
   "id": "08228646",
   "metadata": {},
   "outputs": [
    {
     "name": "stdout",
     "output_type": "stream",
     "text": [
      "apple\n",
      "banana\n",
      "cherry\n",
      "pineapple\n",
      "jelly\n"
     ]
    }
   ],
   "source": [
    "fruits = ['apple','banana','cherry','pineapple','jelly']\n",
    "for x in fruits:\n",
    "    print(x)"
   ]
  },
  {
   "cell_type": "code",
   "execution_count": 73,
   "id": "86b1c8d6",
   "metadata": {},
   "outputs": [
    {
     "name": "stdout",
     "output_type": "stream",
     "text": [
      "E\n",
      "h\n",
      "t\n",
      "e\n",
      "s\n",
      "h\n",
      "a\n",
      "m\n",
      " \n",
      "A\n",
      "l\n",
      "i\n",
      " \n",
      "K\n",
      "h\n",
      "a\n",
      "n\n"
     ]
    }
   ],
   "source": [
    "# loop thorough a string\n",
    "for letters in 'Ehtesham Ali Khan':\n",
    "    print(letters)\n"
   ]
  },
  {
   "cell_type": "markdown",
   "id": "7d24c4c3",
   "metadata": {},
   "source": [
    "With the **break** statement we can stop the loop before it has looped thorough all the items:"
   ]
  },
  {
   "cell_type": "code",
   "execution_count": 74,
   "id": "77d22d71",
   "metadata": {},
   "outputs": [
    {
     "name": "stdout",
     "output_type": "stream",
     "text": [
      "banana\n",
      "cherry\n"
     ]
    }
   ],
   "source": [
    "# exit the loop when the x is banana\n",
    "\n",
    "fruits1 = ['banana','cherry','apple']\n",
    "for items in fruits1:\n",
    "    print(items)\n",
    "    if items == \"cherry\":\n",
    "        break\n",
    "        "
   ]
  },
  {
   "cell_type": "code",
   "execution_count": 75,
   "id": "2f1d4000",
   "metadata": {},
   "outputs": [],
   "source": [
    "# exit the loop when x is \"banana\", but this time the break comes\n",
    "# before the print\n",
    "\n",
    "# it will show the value before the break applied\n"
   ]
  },
  {
   "cell_type": "code",
   "execution_count": 76,
   "id": "b4b082fd",
   "metadata": {},
   "outputs": [
    {
     "name": "stdout",
     "output_type": "stream",
     "text": [
      "jelly\n",
      "jelly\n"
     ]
    }
   ],
   "source": [
    "meat = ['beef','mutton','fish','chicken']\n",
    "for itm in meat:\n",
    "    if itm == \"fish\":\n",
    "        break\n",
    "    print(x)"
   ]
  },
  {
   "cell_type": "code",
   "execution_count": 77,
   "id": "b4af7836",
   "metadata": {},
   "outputs": [
    {
     "name": "stdout",
     "output_type": "stream",
     "text": [
      "apple\n"
     ]
    }
   ],
   "source": [
    "fruits_8 = [\"apple\", \"banana\", \"cherry\"]\n",
    "for x in fruits_8:\n",
    "    if x == \"banana\":\n",
    "        break\n",
    "    print(x)"
   ]
  },
  {
   "cell_type": "code",
   "execution_count": 78,
   "id": "73ba937a",
   "metadata": {},
   "outputs": [
    {
     "name": "stdout",
     "output_type": "stream",
     "text": [
      "tomatoes\n",
      "brinjal\n"
     ]
    }
   ],
   "source": [
    "vegs = ['tomatoes','brinjal','carrot','turnip','lady finger']\n",
    "for x in vegs:\n",
    "    if x == 'carrot':\n",
    "        break\n",
    "    print(x)\n",
    "# It will print only values which comes before the break statement"
   ]
  },
  {
   "cell_type": "code",
   "execution_count": 79,
   "id": "f1d28862",
   "metadata": {},
   "outputs": [
    {
     "name": "stdout",
     "output_type": "stream",
     "text": [
      "tomatoes\n",
      "brinjal\n",
      "carrot\n"
     ]
    }
   ],
   "source": [
    "vegs = ['tomatoes','brinjal','carrot','turnip','lady finger']\n",
    "for x in vegs:\n",
    "    print(x)\n",
    "    if x == 'carrot':\n",
    "        break\n",
    "# this print the values only that are included in the break statement"
   ]
  },
  {
   "cell_type": "markdown",
   "id": "9cfde5bd",
   "metadata": {},
   "source": [
    "with the **continue** statement we can stop the current iteration of the loop, and continue with the next:"
   ]
  },
  {
   "cell_type": "code",
   "execution_count": 80,
   "id": "43bde954",
   "metadata": {},
   "outputs": [
    {
     "name": "stdout",
     "output_type": "stream",
     "text": [
      "mutton\n",
      "chicken\n"
     ]
    }
   ],
   "source": [
    "meat = ['mutton','beef','chicken']\n",
    "for x in meat:\n",
    "    if x == 'beef':\n",
    "        continue\n",
    "    print(x)"
   ]
  },
  {
   "cell_type": "markdown",
   "id": "36183b26",
   "metadata": {},
   "source": [
    "## The range() function"
   ]
  },
  {
   "cell_type": "markdown",
   "id": "9a594cc9",
   "metadata": {},
   "source": [
    "The loop thorough a set of code a specified number of times, we can use the range() function.\n",
    "The range() function returns a sequence of numbers, starting from 0 by default, and increments by 1 (by default), and ends at a specified number."
   ]
  },
  {
   "cell_type": "markdown",
   "id": "89d2c03d",
   "metadata": {},
   "source": [
    "## Use the range() function"
   ]
  },
  {
   "cell_type": "code",
   "execution_count": 81,
   "id": "e0f338ef",
   "metadata": {},
   "outputs": [
    {
     "name": "stdout",
     "output_type": "stream",
     "text": [
      "0\n",
      "10\n",
      "20\n",
      "30\n",
      "40\n",
      "50\n",
      "60\n",
      "70\n",
      "80\n",
      "90\n"
     ]
    }
   ],
   "source": [
    "# we can use range to print counting\n",
    "\n",
    "for x in range(0,100,10): # first argument is start, 2nd is finishing, 3rd is step \n",
    "    print(x)"
   ]
  },
  {
   "cell_type": "code",
   "execution_count": 82,
   "id": "b035ac29",
   "metadata": {},
   "outputs": [
    {
     "name": "stdout",
     "output_type": "stream",
     "text": [
      "0\n",
      "1\n",
      "2\n",
      "3\n",
      "4\n",
      "5\n",
      "6\n",
      "7\n",
      "8\n",
      "9\n"
     ]
    }
   ],
   "source": [
    "for counting in range(10):\n",
    "    print(counting)"
   ]
  },
  {
   "cell_type": "code",
   "execution_count": 83,
   "id": "c840c62b",
   "metadata": {},
   "outputs": [
    {
     "name": "stdout",
     "output_type": "stream",
     "text": [
      "0\n",
      "1\n",
      "2\n",
      "3\n",
      "4\n",
      "5\n",
      "6\n",
      "7\n",
      "Counting is finally finished\n"
     ]
    }
   ],
   "source": [
    "for counting in range(8):\n",
    "    print(counting)\n",
    "else:\n",
    "    print(\"Counting is finally finished\")"
   ]
  },
  {
   "cell_type": "code",
   "execution_count": 84,
   "id": "25ec52be",
   "metadata": {},
   "outputs": [
    {
     "name": "stdout",
     "output_type": "stream",
     "text": [
      "0\n",
      "1\n",
      "2\n",
      "3\n",
      "4\n",
      "5\n",
      "6\n",
      "7\n",
      "8\n",
      "9\n",
      "10\n",
      "11\n"
     ]
    }
   ],
   "source": [
    "# else block will not executed if we applied break statement\n",
    "for x in range(52):\n",
    "        if x== 12: \n",
    "              break\n",
    "        print(x)\n",
    "else:\n",
    "    print(\"finished\")\n",
    "#  this will stop the loop when the current condition met"
   ]
  },
  {
   "cell_type": "code",
   "execution_count": 85,
   "id": "ec4b059b",
   "metadata": {},
   "outputs": [
    {
     "name": "stdout",
     "output_type": "stream",
     "text": [
      "0\n",
      "1\n",
      "3\n",
      "4\n",
      "5\n",
      "6\n",
      "7\n",
      "8\n",
      "9\n",
      "10\n",
      "11\n",
      "12\n",
      "13\n",
      "14\n",
      "15\n",
      "16\n",
      "17\n",
      "18\n",
      "19\n",
      "finished\n"
     ]
    }
   ],
   "source": [
    "for x in range(20):\n",
    "        if x== 2: \n",
    "              continue\n",
    "        print(x)\n",
    "else:\n",
    "    print(\"finished\")\n",
    "# this will overlap  the  continue value inthe loop"
   ]
  },
  {
   "cell_type": "code",
   "execution_count": 86,
   "id": "e5c802cf",
   "metadata": {},
   "outputs": [
    {
     "ename": "AttributeError",
     "evalue": "'int' object has no attribute 'extend'",
     "output_type": "error",
     "traceback": [
      "\u001b[1;31m---------------------------------------------------------------------------\u001b[0m",
      "\u001b[1;31mAttributeError\u001b[0m                            Traceback (most recent call last)",
      "\u001b[1;32mC:\\Users\\PCWORL~1\\AppData\\Local\\Temp/ipykernel_11052/1098293440.py\u001b[0m in \u001b[0;36m<module>\u001b[1;34m\u001b[0m\n\u001b[0;32m      5\u001b[0m \u001b[1;32mfor\u001b[0m \u001b[0mval1\u001b[0m \u001b[1;32min\u001b[0m \u001b[0mx\u001b[0m\u001b[1;33m:\u001b[0m\u001b[1;33m\u001b[0m\u001b[1;33m\u001b[0m\u001b[0m\n\u001b[0;32m      6\u001b[0m         \u001b[1;32mfor\u001b[0m \u001b[0mval2\u001b[0m \u001b[1;32min\u001b[0m \u001b[0my\u001b[0m\u001b[1;33m:\u001b[0m\u001b[1;33m\u001b[0m\u001b[1;33m\u001b[0m\u001b[0m\n\u001b[1;32m----> 7\u001b[1;33m             \u001b[0mprint\u001b[0m\u001b[1;33m(\u001b[0m\u001b[0mval1\u001b[0m\u001b[1;33m.\u001b[0m\u001b[0mextend\u001b[0m\u001b[1;33m(\u001b[0m\u001b[0mval2\u001b[0m\u001b[1;33m)\u001b[0m\u001b[1;33m)\u001b[0m\u001b[1;33m\u001b[0m\u001b[1;33m\u001b[0m\u001b[0m\n\u001b[0m\u001b[0;32m      8\u001b[0m \u001b[1;31m# could not merge two int lists into a single list.\u001b[0m\u001b[1;33m\u001b[0m\u001b[1;33m\u001b[0m\u001b[0m\n",
      "\u001b[1;31mAttributeError\u001b[0m: 'int' object has no attribute 'extend'"
     ]
    }
   ],
   "source": [
    "#nested loop\n",
    "x = [1,3,5,7]\n",
    "y = [2,4,6,8]\n",
    "z = []\n",
    "for val1 in x:\n",
    "        for val2 in y:\n",
    "            print(val1.extend(val2))\n",
    "# could not merge two int lists into a single list."
   ]
  },
  {
   "cell_type": "code",
   "execution_count": null,
   "id": "b8152e44",
   "metadata": {},
   "outputs": [],
   "source": [
    "%debug"
   ]
  },
  {
   "cell_type": "code",
   "execution_count": null,
   "id": "2b0a383b",
   "metadata": {},
   "outputs": [],
   "source": [
    "# for x in range(1,100,10):\n",
    "#     print(x)"
   ]
  },
  {
   "cell_type": "markdown",
   "id": "3f0a3e8f",
   "metadata": {},
   "source": [
    "# Tuple"
   ]
  },
  {
   "cell_type": "markdown",
   "id": "e547c6ca",
   "metadata": {},
   "source": [
    "Tuples are ordered, unchangeable, allow duplicate members"
   ]
  },
  {
   "cell_type": "code",
   "execution_count": null,
   "id": "a626607d",
   "metadata": {},
   "outputs": [],
   "source": [
    "tuple1 = (\"Ehtesham\",\"Seemab\",\"Hassan\",28,26,22,False,True,True)"
   ]
  },
  {
   "cell_type": "code",
   "execution_count": null,
   "id": "9a845617",
   "metadata": {},
   "outputs": [],
   "source": [
    "display(tuple1)"
   ]
  },
  {
   "cell_type": "code",
   "execution_count": null,
   "id": "4e6e73ac",
   "metadata": {},
   "outputs": [],
   "source": [
    "# to add value in tuple first you have to change it to list\n",
    "\n",
    "list_t = list(tuple1)"
   ]
  },
  {
   "cell_type": "code",
   "execution_count": null,
   "id": "8a9da892",
   "metadata": {},
   "outputs": [],
   "source": [
    "list_t.append(\"Dua\")"
   ]
  },
  {
   "cell_type": "code",
   "execution_count": null,
   "id": "3a97bdb7",
   "metadata": {},
   "outputs": [],
   "source": [
    "list_t.append(\"Umer\")"
   ]
  },
  {
   "cell_type": "code",
   "execution_count": null,
   "id": "91334af8",
   "metadata": {},
   "outputs": [],
   "source": [
    "tuple_1 = tuple(list_t)"
   ]
  },
  {
   "cell_type": "code",
   "execution_count": null,
   "id": "6ef6f499",
   "metadata": {},
   "outputs": [],
   "source": [
    "tuple_1"
   ]
  },
  {
   "cell_type": "code",
   "execution_count": null,
   "id": "d7480c92",
   "metadata": {},
   "outputs": [],
   "source": [
    "if \"Ehtesham\" in tuple_1:\n",
    "    print(\"We have it \")"
   ]
  },
  {
   "cell_type": "code",
   "execution_count": null,
   "id": "2a6fc62d",
   "metadata": {},
   "outputs": [],
   "source": [
    "if \"Reema\" in tuple1:\n",
    "    print(\"Upcoming in the list\")"
   ]
  },
  {
   "cell_type": "code",
   "execution_count": null,
   "id": "c364a65e",
   "metadata": {},
   "outputs": [],
   "source": [
    "a = tuple_1[0]"
   ]
  },
  {
   "cell_type": "code",
   "execution_count": null,
   "id": "c39d3443",
   "metadata": {},
   "outputs": [],
   "source": [
    "print(a)"
   ]
  },
  {
   "cell_type": "code",
   "execution_count": null,
   "id": "e01cc4bc",
   "metadata": {},
   "outputs": [],
   "source": [
    "tuple_1[2]"
   ]
  },
  {
   "cell_type": "code",
   "execution_count": null,
   "id": "5864f013",
   "metadata": {},
   "outputs": [],
   "source": [
    "tuple_1[7]"
   ]
  },
  {
   "cell_type": "code",
   "execution_count": null,
   "id": "27f743d4",
   "metadata": {},
   "outputs": [],
   "source": [
    "len(tuple_1)"
   ]
  },
  {
   "cell_type": "code",
   "execution_count": null,
   "id": "3469e0a9",
   "metadata": {},
   "outputs": [],
   "source": [
    "tuple_1[10]"
   ]
  },
  {
   "cell_type": "code",
   "execution_count": null,
   "id": "90bf803b",
   "metadata": {},
   "outputs": [],
   "source": [
    "tuple_1"
   ]
  },
  {
   "cell_type": "code",
   "execution_count": null,
   "id": "cf53e677",
   "metadata": {},
   "outputs": [],
   "source": [
    "#unpacking tuple\n",
    "a,b,*c, = (\"Ehtesham\",\"Ali\",\"Khan\",\"Hassan\",\"Ali\",\"Khan\",\"Seemab\",\"Shaheen\",\"Khurshida bibi\",\"Muhammad Pervaiz\",\"Umer Javed\")"
   ]
  },
  {
   "cell_type": "code",
   "execution_count": null,
   "id": "39da54e6",
   "metadata": {},
   "outputs": [],
   "source": [
    "c"
   ]
  },
  {
   "cell_type": "code",
   "execution_count": null,
   "id": "10ad50d5",
   "metadata": {},
   "outputs": [],
   "source": [
    "b"
   ]
  },
  {
   "cell_type": "code",
   "execution_count": null,
   "id": "28b8dae0",
   "metadata": {},
   "outputs": [],
   "source": [
    "a"
   ]
  },
  {
   "cell_type": "markdown",
   "id": "faefc83e",
   "metadata": {},
   "source": [
    "# Sets"
   ]
  },
  {
   "cell_type": "markdown",
   "id": "778ced48",
   "metadata": {},
   "source": [
    "Sets are unordered, unchangeable and don't allow duplicate values"
   ]
  },
  {
   "cell_type": "code",
   "execution_count": null,
   "id": "47f663cd",
   "metadata": {},
   "outputs": [],
   "source": [
    "# sets are witten with curly brackets\n",
    "\n",
    "set_1 = {\"Ehtesham\",\"Hassan\",1,2,3}\n",
    "print(set_1)"
   ]
  },
  {
   "cell_type": "code",
   "execution_count": null,
   "id": "54707301",
   "metadata": {},
   "outputs": [],
   "source": [
    "set_1.add(\"reema\")"
   ]
  },
  {
   "cell_type": "code",
   "execution_count": null,
   "id": "1b3e2261",
   "metadata": {},
   "outputs": [],
   "source": [
    "set_1"
   ]
  },
  {
   "cell_type": "code",
   "execution_count": null,
   "id": "10d61ce0",
   "metadata": {},
   "outputs": [],
   "source": [
    "set_1.remove(3)"
   ]
  },
  {
   "cell_type": "code",
   "execution_count": null,
   "id": "22bc9b2d",
   "metadata": {},
   "outputs": [],
   "source": [
    "set_1"
   ]
  },
  {
   "cell_type": "code",
   "execution_count": null,
   "id": "2fb8dc05",
   "metadata": {},
   "outputs": [],
   "source": [
    "for elements in set_1:\n",
    "    print(elements)"
   ]
  },
  {
   "cell_type": "code",
   "execution_count": null,
   "id": "cd93d7cc",
   "metadata": {},
   "outputs": [],
   "source": [
    "len(set_1)"
   ]
  },
  {
   "cell_type": "code",
   "execution_count": null,
   "id": "da95c4ad",
   "metadata": {},
   "outputs": [],
   "source": [
    "type(set_1)"
   ]
  },
  {
   "cell_type": "code",
   "execution_count": null,
   "id": "75329d34",
   "metadata": {},
   "outputs": [],
   "source": [
    "# using update method you can add element in this set\n",
    "\n",
    "set_2 = [2,\"Seemab\",\"Umar\",\"Sidra\"]"
   ]
  },
  {
   "cell_type": "code",
   "execution_count": null,
   "id": "b20a4f49",
   "metadata": {},
   "outputs": [],
   "source": [
    "set_1.update(set_2)"
   ]
  },
  {
   "cell_type": "code",
   "execution_count": null,
   "id": "1b1f5619",
   "metadata": {},
   "outputs": [],
   "source": [
    "print(set_1)"
   ]
  },
  {
   "cell_type": "code",
   "execution_count": null,
   "id": "f6883bdd",
   "metadata": {},
   "outputs": [],
   "source": [
    "set_1.discard(\"reema\")"
   ]
  },
  {
   "cell_type": "code",
   "execution_count": null,
   "id": "d481b24b",
   "metadata": {},
   "outputs": [],
   "source": [
    "set_1"
   ]
  },
  {
   "cell_type": "markdown",
   "id": "6c2322b3",
   "metadata": {},
   "source": [
    "# Functions"
   ]
  },
  {
   "cell_type": "code",
   "execution_count": null,
   "id": "6d011836",
   "metadata": {},
   "outputs": [],
   "source": [
    "def show_max(a,b):\n",
    "    if a>b:\n",
    "        print(a, \" is maximum\")\n",
    "    elif a == b:\n",
    "        print(a, \" is equal to \",b)\n",
    "    else:\n",
    "        print(b, \"is maximum\")"
   ]
  },
  {
   "cell_type": "code",
   "execution_count": null,
   "id": "bbdd7451",
   "metadata": {},
   "outputs": [],
   "source": [
    "a = int(input())\n",
    "b = int(input())\n",
    "print(show_max(a,b))"
   ]
  },
  {
   "cell_type": "code",
   "execution_count": null,
   "id": "6d0e3e69",
   "metadata": {},
   "outputs": [],
   "source": [
    "# Loal variable example\n",
    "x = 100\n",
    "def local_func(x):\n",
    "    print(\"value of x outside the function is \",x)\n",
    "    x = 50\n",
    "    print(\"value of x inside the function is \",x)\n",
    "local_func(x)\n",
    "print('x is still:',x)"
   ]
  },
  {
   "cell_type": "code",
   "execution_count": null,
   "id": "b5cca6d9",
   "metadata": {},
   "outputs": [],
   "source": [
    "# global variable example\n",
    "y = 100\n",
    "def global_func():\n",
    "    global y # declaration of global variable\n",
    "    print(\"value of y outside the function is \",y)\n",
    "    y = 200 # value of y is  changed here\n",
    "    print(\"value of y after changing the function\",y)\n",
    "    \n",
    "global_func()\n",
    "print(\"global variable y value after changing\",y)"
   ]
  },
  {
   "cell_type": "code",
   "execution_count": null,
   "id": "f388c042",
   "metadata": {},
   "outputs": [],
   "source": [
    "# fucntin with default argument valus\n",
    "def default_args(city,name=\"Ehtesham\"):\n",
    "    print(\"name of the city is \",city,\"name of person is \",name)\n",
    "\n",
    "default_args(\"Islamabad\")"
   ]
  },
  {
   "cell_type": "code",
   "execution_count": null,
   "id": "691cedf0",
   "metadata": {},
   "outputs": [],
   "source": [
    "default_args(\"London\",\"Hassan Ali Khan\")"
   ]
  },
  {
   "cell_type": "code",
   "execution_count": null,
   "id": "7ae795da",
   "metadata": {},
   "outputs": [],
   "source": [
    "def total(initial=5,*numbers,**keywords):\n",
    "    count = initial\n",
    "    print('count',count)\n",
    "    for number in numbers:\n",
    "        count += number\n",
    "        print('count',count)\n",
    "    for key in keywords:\n",
    "        count += keywords[key]\n",
    "    return count\n",
    "print(total(vegetables=50,fruits=150))"
   ]
  },
  {
   "cell_type": "code",
   "execution_count": null,
   "id": "d8c6bff0",
   "metadata": {},
   "outputs": [],
   "source": [
    "# values with **args accept values in dictionaries\n",
    "def total(**dicti):\n",
    "    for key, value in dicti.items():\n",
    "        print(\"%s = %s\" %(key,value))\n",
    "total(name=\"Ehtesham\",age=28)"
   ]
  },
  {
   "cell_type": "code",
   "execution_count": null,
   "id": "f5c46b31",
   "metadata": {},
   "outputs": [],
   "source": [
    "def func(*marks,**std_name):\n",
    "    for marks in marks:\n",
    "        print(\"Marks = %s\"% marks)\n",
    "    for key,value in std_name.items():\n",
    "        print(\"%r = %r\" % (key,value))\n",
    "func(900,981,982,983,984,982,981, std1 = \"Ehtesham Ali Khan\", std2 = \"Hassan Ali Khan\", std3 = \"Seemab Shaheen\")"
   ]
  },
  {
   "cell_type": "code",
   "execution_count": null,
   "id": "e26a21ea",
   "metadata": {},
   "outputs": [],
   "source": [
    "def  max_n(a,b):\n",
    "    \"\"\"This fucntion returns the maximum number in the result\"\"\"\n",
    "    if a>b:\n",
    "        return a\n",
    "    elif a==b:\n",
    "        return a==b\n",
    "    else:\n",
    "        return b\n",
    "print(max_n(100,200))"
   ]
  },
  {
   "cell_type": "code",
   "execution_count": null,
   "id": "7b4b4c4f",
   "metadata": {},
   "outputs": [],
   "source": [
    "help(max_n)"
   ]
  },
  {
   "cell_type": "code",
   "execution_count": null,
   "id": "666e6d15",
   "metadata": {},
   "outputs": [],
   "source": [
    "def show_max(a,b):\n",
    "    if a > b:\n",
    "        return a\n",
    "    elif a<b:\n",
    "        return b\n",
    "    else:\n",
    "        return \"None\""
   ]
  },
  {
   "cell_type": "code",
   "execution_count": null,
   "id": "78191f9c",
   "metadata": {},
   "outputs": [],
   "source": [
    "print(show_max(1000,1000))"
   ]
  },
  {
   "cell_type": "code",
   "execution_count": null,
   "id": "51d12673",
   "metadata": {},
   "outputs": [],
   "source": [
    "car = \"Ferrari\"\n",
    "\n",
    "def eak_cars(car):\n",
    "    if car == \"Toyota\":\n",
    "        return \"She have a japanese cars\"\n",
    "    elif car == \"Ford\":\n",
    "        return \"She has a English Car\"\n",
    "    elif car == \"Bugat\":\n",
    "        return \"OMG! She has a French Car\"\n",
    "    else:\n",
    "        return \"Please type car company name\""
   ]
  },
  {
   "cell_type": "code",
   "execution_count": null,
   "id": "c462af0a",
   "metadata": {},
   "outputs": [],
   "source": [
    "print(eak_cars(\"Toyota\"))"
   ]
  },
  {
   "cell_type": "code",
   "execution_count": null,
   "id": "815919a5",
   "metadata": {},
   "outputs": [],
   "source": [
    "print(eak_cars(\"\"))"
   ]
  },
  {
   "cell_type": "code",
   "execution_count": null,
   "id": "d1796d94",
   "metadata": {},
   "outputs": [],
   "source": [
    "def family_tree(**name):\n",
    "    for key,value in name.items():\n",
    "        print(\"%s => %s\"%(key,value))"
   ]
  },
  {
   "cell_type": "code",
   "execution_count": null,
   "id": "3bda26b2",
   "metadata": {},
   "outputs": [],
   "source": [
    "family_tree(name=\"Ehtesham Ali Khan\",second_son = \"Hassan Ali Khan\",daughter_name =\"Seemab Shaheen\", mother_name = \"Khurshida bibi\",father_name = \"Muhammad Pervaiz\",grandmother_name = \"Sahb Nishan\", grand_father = \"Mutawali Khan\")"
   ]
  },
  {
   "cell_type": "code",
   "execution_count": null,
   "id": "b3f9d670",
   "metadata": {},
   "outputs": [],
   "source": [
    "def family_name(*name):\n",
    "    for name_ in name:\n",
    "        print(\"Name => %s\"%(name_))"
   ]
  },
  {
   "cell_type": "code",
   "execution_count": null,
   "id": "3b5a112e",
   "metadata": {},
   "outputs": [],
   "source": [
    "family_name(\"Ehtesham\",\"Hassan\",\"Seemab\",\"Khurshida\",\"Muhammad Pervaiz\",\"Hamna dua\",\"Sidra\",\"Umar\")"
   ]
  },
  {
   "cell_type": "code",
   "execution_count": null,
   "id": "2d37f799",
   "metadata": {},
   "outputs": [],
   "source": [
    "def cube_(a):\n",
    "    return a*a*a"
   ]
  },
  {
   "cell_type": "code",
   "execution_count": null,
   "id": "b3aef41b",
   "metadata": {},
   "outputs": [],
   "source": [
    "cube_(20)"
   ]
  },
  {
   "cell_type": "code",
   "execution_count": null,
   "id": "bbc88003",
   "metadata": {},
   "outputs": [],
   "source": [
    "def square_(n):\n",
    "    return n*n"
   ]
  },
  {
   "cell_type": "code",
   "execution_count": null,
   "id": "854358f9",
   "metadata": {},
   "outputs": [],
   "source": [
    "square_(400)"
   ]
  },
  {
   "cell_type": "code",
   "execution_count": null,
   "id": "1c318586",
   "metadata": {},
   "outputs": [],
   "source": [
    "# Lambda Function or ananoymous function\n",
    "cube = lambda x: x*x*x"
   ]
  },
  {
   "cell_type": "code",
   "execution_count": null,
   "id": "cef9ec77",
   "metadata": {},
   "outputs": [],
   "source": [
    "print(cube(16))"
   ]
  },
  {
   "cell_type": "code",
   "execution_count": null,
   "id": "39e42a06",
   "metadata": {},
   "outputs": [],
   "source": [
    "square = lambda x: x*x"
   ]
  },
  {
   "cell_type": "code",
   "execution_count": null,
   "id": "6425b264",
   "metadata": {},
   "outputs": [],
   "source": [
    "square(int(input()))"
   ]
  },
  {
   "cell_type": "code",
   "execution_count": null,
   "id": "38bb4eec",
   "metadata": {},
   "outputs": [],
   "source": [
    "# Receivng multiple inputs at a time\n",
    "a,b,c = input(\"Please enter values\").split()\n",
    "print(\"First value is \",a)\n",
    "print(\"Second value is\",b)\n",
    "print(\"Third value is\",c)"
   ]
  },
  {
   "cell_type": "code",
   "execution_count": null,
   "id": "4124f48e",
   "metadata": {},
   "outputs": [],
   "source": [
    "b = \"I will have a range rover in life\"\n",
    "print(b,end=\" InshaaAllah !\")"
   ]
  },
  {
   "cell_type": "code",
   "execution_count": null,
   "id": "ec0d2b1a",
   "metadata": {},
   "outputs": [],
   "source": [
    "y = \"Ehtesham Ali Khan\"\n",
    "z = \"Owns a Black Mercedes Car\"\n",
    "print(y,z, sep='\\n', end=\"!\")"
   ]
  },
  {
   "cell_type": "code",
   "execution_count": null,
   "id": "44777081",
   "metadata": {},
   "outputs": [],
   "source": [
    "y = \"Ehtesham Ali Khan\"\n",
    "z = \"Owns a Black Mercedes Car\"\n",
    "print(y,z, sep='\\n\\n', end=\"!\")"
   ]
  },
  {
   "cell_type": "code",
   "execution_count": null,
   "id": "f170551d",
   "metadata": {},
   "outputs": [],
   "source": [
    "y = \"Ehtesham Ali Khan\"\n",
    "z = \"Owns a Black Mercedes Car\"\n",
    "print(y,z, sep='\\n\\n\\n', end=\"!\")"
   ]
  },
  {
   "cell_type": "markdown",
   "id": "4183039b",
   "metadata": {},
   "source": [
    "# Python Classes - Object Oriented Programming"
   ]
  },
  {
   "cell_type": "code",
   "execution_count": null,
   "id": "af8e194d",
   "metadata": {},
   "outputs": [],
   "source": [
    "# Public, Private and Protected Variable\n",
    "\n",
    "# If anything did not write with the variable it will be \n",
    "# - considered as Public variable"
   ]
  },
  {
   "cell_type": "code",
   "execution_count": null,
   "id": "34ea779b",
   "metadata": {},
   "outputs": [],
   "source": [
    "class family:\n",
    "    # Attribute/information  of the family\n",
    "    def __init__(self,fname,mname,sname,dname,gfname,gmname):\n",
    "        self.father_name = fname\n",
    "        self.mother_name = mname\n",
    "        self.son_name = sname\n",
    "        self.daughter_name = dname\n",
    "        self.grand_father_name = gfname\n",
    "        self.grand_mother_name = gmname\n",
    "        \n",
    "    # Defining methods, methods tell us about them what they do\n",
    "    def father_nam(self):\n",
    "        return \"Your father name is {}\".format(self.father_name)\n",
    "    def dada_alive(self):\n",
    "        return \"He is not alive and his name was {}\".format(self.grand_father_name)\n",
    "    \n",
    "    def dadi_alive(self):\n",
    "        return \"She is alive and her name is {}\".format(self.grand_mother_name)\n",
    "    \n",
    "shani_family = family(\"Muhammad Pervaiz\",\"Khurshida Bibi\",\"Ehtesham Ali Khan\",\"Seemab Shaheen\",\"Mutawali Khan\",\"Sahb Nishan\") \n",
    "print(shani_family.dada_alive())\n",
    "print(shani_family.dadi_alive())\n",
    "print(shani_family.father_nam())"
   ]
  },
  {
   "cell_type": "code",
   "execution_count": null,
   "id": "f4f31f4e",
   "metadata": {},
   "outputs": [],
   "source": [
    "class Ehtesham:\n",
    "    \"\"\"This class provides information everything about the Ehtesham\"\"\"\n",
    "    def __init__(self,cars,bikes,helicopter,airplanes,wife,location,profession):\n",
    "        self.eak_cars = cars\n",
    "        self.eak_bikes = bikes\n",
    "        self.eak_helicopter = helicopter\n",
    "        self.eak_airplanes = airplanes\n",
    "        self.eak_wife = wife\n",
    "        self.eak_resident = location\n",
    "        self.eak_profession = profession\n",
    "        \n",
    "    def details_eak(self):\n",
    "        return f\"He has {self.eak_cars} cars ,{self.eak_bikes} bikes,{self.eak_helicopter} Helicopter,{self.eak_airplanes} Airplanes,and his wife name is {self.eak_wife}\""
   ]
  },
  {
   "cell_type": "code",
   "execution_count": null,
   "id": "567439f8",
   "metadata": {},
   "outputs": [],
   "source": [
    "obj1 = Ehtesham(0,0,0,0,\"Reema\",\"London\",\"Businessman\")\n",
    "print(obj1.details_eak())"
   ]
  },
  {
   "cell_type": "code",
   "execution_count": null,
   "id": "dc0ad143",
   "metadata": {},
   "outputs": [],
   "source": [
    "obj2 = Ehtesham(1,0,0,0,\"Sidra\",\"Toronto\",\"Businessman\")\n",
    "print(obj2.details_eak())"
   ]
  },
  {
   "cell_type": "markdown",
   "id": "78eeff16",
   "metadata": {},
   "source": [
    "# Assert "
   ]
  },
  {
   "cell_type": "markdown",
   "id": "7347a71f",
   "metadata": {},
   "source": [
    "python provides the assert statement to check if a given logical expression is true or false. Program execution proceed only if the expression  is true and raise the assertion error when it is false. The following code shows the usage of the assert statement."
   ]
  },
  {
   "cell_type": "code",
   "execution_count": null,
   "id": "98992147",
   "metadata": {},
   "outputs": [],
   "source": [
    "# Example\n",
    "try:\n",
    "    n = int(input(\"Please enter your number \"))\n",
    "    assert n%2 == 0\n",
    "    print(\"This is an even number\")\n",
    "except AssertionError:\n",
    "    print(\"Please enter even number (number which becomes zero by diving with 2)\")"
   ]
  },
  {
   "cell_type": "code",
   "execution_count": null,
   "id": "73a33f36",
   "metadata": {},
   "outputs": [],
   "source": [
    "# Use of assert in class\n",
    "class Bank:\n",
    "    \"This class provides information about the bank employess and departments\"\n",
    "    def __init__(self,cashiers,creditofficers,aoofficers,clearingofficers,remittanceofficer,bmname,internation_branch):\n",
    "        try:\n",
    "            assert type(cashiers) == int\n",
    "            assert type(creditofficers) == int\n",
    "            assert type(aoofficers) == int\n",
    "            assert type(clearingofficers) == int\n",
    "            assert type(remittanceofficer) == int\n",
    "            assert type(bmname) == str\n",
    "            assert type(international_branch) == bool\n",
    "        except NameError:\n",
    "            print(\"Please enter value for variables\")\n",
    "        except TypeError:\n",
    "            print(\"Please assign relevant datatype to the variable\")\n",
    "        except Exception as ex:\n",
    "            print(f\"Alert! {ex} Error found in program\")\n",
    "        else:\n",
    "            self.cashiers = cashiers\n",
    "        finally:\n",
    "            self.creditofficers = creditofficers\n",
    "            self.aoofficers = aoofficers\n",
    "            \n",
    "        self.cashiers = cashiers\n",
    "        self.bmname = bmname\n",
    "            \n",
    "    def info_bank_employees(self):\n",
    "        print(f\"Bank al Habib Attock Br has {self.cashiers},{self.creditofficers}, name of the BM is {self.bmname},This is not a International Branch\")\n",
    "        "
   ]
  },
  {
   "cell_type": "code",
   "execution_count": null,
   "id": "3156acab",
   "metadata": {},
   "outputs": [],
   "source": [
    "ob_1 = Bank(8,5,2,1,1,\"Ibn e Ali\",False)\n",
    "print(ob_1.info_bank_employees())"
   ]
  },
  {
   "cell_type": "markdown",
   "id": "3eef0cd0",
   "metadata": {},
   "source": [
    "## Class Inheritance - Parent Class and Child Class"
   ]
  },
  {
   "cell_type": "code",
   "execution_count": 109,
   "id": "fc8e1ce2",
   "metadata": {},
   "outputs": [],
   "source": [
    "# This is parent class\n",
    "\n",
    "class Person:\n",
    "    \"\"\"This provides information about the person attributes and methods\"\"\"\n",
    "    def __init__(self,name,age,color,race,billionaire):\n",
    "        try:\n",
    "            assert type(name) == str\n",
    "            assert type(age) == float\n",
    "            assert type(color) == str\n",
    "            assert type(race) == str\n",
    "            assert type(billionaire) == bool\n",
    "        except AssertionError:\n",
    "            print(\"Please enter relevant data type\")\n",
    "        \n",
    "        self.person_name = name\n",
    "        self.person_age = age\n",
    "        self.person_color = color\n",
    "        self.person_race = race\n",
    "        self.is_billionaire = billionaire\n",
    "        \n",
    "    def info_person(self):\n",
    "            return f\"His name is {self.person_name} and age is {self.person_age}, and he has {self.person_color} color from {self.person_race}. He is {self.is_billionaire} Billionaire\""
   ]
  },
  {
   "cell_type": "code",
   "execution_count": 110,
   "id": "ab608807",
   "metadata": {},
   "outputs": [],
   "source": [
    "# p1 = Person(\"Ehtesham Ali Khan\",28,\"Brown\",\"Asian\",True)\n",
    "# print(p1.info_person())"
   ]
  },
  {
   "cell_type": "code",
   "execution_count": 111,
   "id": "86644d3a",
   "metadata": {},
   "outputs": [],
   "source": [
    "# This child class Student  has all the properties of Person Parent Class\n",
    "class Child(Person):\n",
    "    \"This is the child class of Person class and inherit all the properties of parent  class\"\n",
    "    pass"
   ]
  },
  {
   "cell_type": "code",
   "execution_count": 112,
   "id": "29705b13",
   "metadata": {},
   "outputs": [
    {
     "name": "stdout",
     "output_type": "stream",
     "text": [
      "Please enter relevant data type\n",
      "His name is Ehtesham Ali Khan and age is 28, and he has Brown color from Asian. He is True Billionaire\n"
     ]
    }
   ],
   "source": [
    "p1 = Child(\"Ehtesham Ali Khan\",28,\"Brown\",\"Asian\",True)\n",
    "print(p1.info_person())"
   ]
  },
  {
   "cell_type": "code",
   "execution_count": 119,
   "id": "2f731f62",
   "metadata": {},
   "outputs": [],
   "source": [
    "class Person1:\n",
    "    def __init__(self,fname,lname):\n",
    "        self.first_name = fname\n",
    "        self.last_name = lname\n",
    "    \n",
    "    def detail_Person1(self):\n",
    "        print(f\"His first name is {self.first_name} and last name is {self.last_name}\")"
   ]
  },
  {
   "cell_type": "code",
   "execution_count": 120,
   "id": "ddb09ede",
   "metadata": {},
   "outputs": [],
   "source": [
    "class student1(Person1):\n",
    "    def __init__(self,fname,lname,year,program):\n",
    "        super().__init__(fname,lname) # this inherit all the properties/parameters and methods/functions from parent class\n",
    "        self.class_year = year\n",
    "        self.class_program = program\n",
    "        \n",
    "    def welcome(self):\n",
    "        print(f\"Welcome {self.first_name}{self.last_name} to the class of {self.class_year} for the program {self.class_program}\")\n",
    "        "
   ]
  },
  {
   "cell_type": "code",
   "execution_count": 121,
   "id": "701a9279",
   "metadata": {},
   "outputs": [
    {
     "name": "stdout",
     "output_type": "stream",
     "text": [
      "Welcome EhteshamKhan to the class of 2023 for the program Arificial Intelligence\n"
     ]
    }
   ],
   "source": [
    "std1= student1(\"Ehtesham\",\"Khan\", 2023, \"Arificial Intelligence\")\n",
    "std1.welcome()"
   ]
  },
  {
   "cell_type": "markdown",
   "id": "33dde664",
   "metadata": {},
   "source": [
    "#  Regular Expression"
   ]
  },
  {
   "cell_type": "markdown",
   "id": "bd2f8d56",
   "metadata": {},
   "source": [
    "A RegEx or Regular Expression is a sequence of characters\n",
    "that forms a search pattern.\n",
    "\n",
    "RegEx can be used to check if a string contains the specified\n",
    "search pattern"
   ]
  },
  {
   "cell_type": "code",
   "execution_count": 122,
   "id": "7c8a17f1",
   "metadata": {},
   "outputs": [],
   "source": [
    "# For regular expression, import re\n",
    "import re"
   ]
  },
  {
   "cell_type": "code",
   "execution_count": 124,
   "id": "1c9fa8a2",
   "metadata": {},
   "outputs": [
    {
     "name": "stdout",
     "output_type": "stream",
     "text": [
      "Yes we have that match\n"
     ]
    }
   ],
   "source": [
    "txt = \"The rain in Pakistan\"\n",
    "x = re.search(\"^The.*Pakistan$\",txt)\n",
    "if x:\n",
    "    print(\"Yes we have that match\")\n",
    "else:\n",
    "    print(\"No match\")"
   ]
  },
  {
   "cell_type": "markdown",
   "id": "2874439c",
   "metadata": {},
   "source": [
    "1. ^ Starts with  \"^The\"\n",
    "2. $  used for checking end \"Pakistan$\"\n",
    "3. * Zero or more occurences  \"he.*0\"\n",
    "4. [] a set of characters \"[a-m]\"\n",
    "5. + one or more occurances\n",
    "6. ? Zero or one Occurances \"he.?o\"\n",
    "7. | Exactly the specified number of occurances    \"he.{2}0\""
   ]
  },
  {
   "cell_type": "code",
   "execution_count": 132,
   "id": "8b8a8c71",
   "metadata": {},
   "outputs": [
    {
     "name": "stdout",
     "output_type": "stream",
     "text": [
      "Match\n"
     ]
    }
   ],
   "source": [
    "y = \"Ehtesham Ali Khan\"\n",
    "z = re.search(\"^E.*n$\",y)\n",
    "if z:\n",
    "    print(\"Match\")\n",
    "else:\n",
    "    print(\"Does not Match\")"
   ]
  },
  {
   "cell_type": "code",
   "execution_count": null,
   "id": "af445200",
   "metadata": {},
   "outputs": [],
   "source": []
  }
 ],
 "metadata": {
  "kernelspec": {
   "display_name": "Python 3 (ipykernel)",
   "language": "python",
   "name": "python3"
  },
  "language_info": {
   "codemirror_mode": {
    "name": "ipython",
    "version": 3
   },
   "file_extension": ".py",
   "mimetype": "text/x-python",
   "name": "python",
   "nbconvert_exporter": "python",
   "pygments_lexer": "ipython3",
   "version": "3.9.7"
  }
 },
 "nbformat": 4,
 "nbformat_minor": 5
}
