{
 "cells": [
  {
   "cell_type": "markdown",
   "id": "24899f5c",
   "metadata": {},
   "source": [
    "# String Formatting in Python"
   ]
  },
  {
   "cell_type": "code",
   "execution_count": 1,
   "id": "ac4fc2ee",
   "metadata": {},
   "outputs": [
    {
     "name": "stdout",
     "output_type": "stream",
     "text": [
      "hello everyone\n"
     ]
    }
   ],
   "source": [
    "print(\"hello everyone\")"
   ]
  },
  {
   "cell_type": "code",
   "execution_count": 2,
   "id": "8d30b6bc",
   "metadata": {},
   "outputs": [],
   "source": [
    "def greeting(name):\n",
    "    return \"Hello {}. Welcome to the community\".format(name)"
   ]
  },
  {
   "cell_type": "code",
   "execution_count": 3,
   "id": "d8524158",
   "metadata": {},
   "outputs": [
    {
     "data": {
      "text/plain": [
       "'Hello Ehtesham Ali Khan. Welcome to the community'"
      ]
     },
     "execution_count": 3,
     "metadata": {},
     "output_type": "execute_result"
    }
   ],
   "source": [
    "greeting(\"Ehtesham Ali Khan\")"
   ]
  },
  {
   "cell_type": "code",
   "execution_count": 4,
   "id": "66759d9b",
   "metadata": {},
   "outputs": [],
   "source": [
    "def greeting(name):\n",
    "    return f\"Hello {name}. Welcome to the community\""
   ]
  },
  {
   "cell_type": "code",
   "execution_count": 5,
   "id": "ec7edea1",
   "metadata": {},
   "outputs": [
    {
     "data": {
      "text/plain": [
       "'Hello Ehtesham Ali Khan. Welcome to the community'"
      ]
     },
     "execution_count": 5,
     "metadata": {},
     "output_type": "execute_result"
    }
   ],
   "source": [
    "greeting(\"Ehtesham Ali Khan\")"
   ]
  },
  {
   "cell_type": "code",
   "execution_count": 6,
   "id": "83d97fab",
   "metadata": {},
   "outputs": [],
   "source": [
    "def greeting(name,age):\n",
    "    return \"Hello {}. Welcome to the community. Your age is {}\".format(name,age)"
   ]
  },
  {
   "cell_type": "code",
   "execution_count": 7,
   "id": "0cf1ca9c",
   "metadata": {},
   "outputs": [
    {
     "data": {
      "text/plain": [
       "'Hello Ehtesham. Welcome to the community. Your age is 28'"
      ]
     },
     "execution_count": 7,
     "metadata": {},
     "output_type": "execute_result"
    }
   ],
   "source": [
    "greeting(\"Ehtesham\",28)"
   ]
  },
  {
   "cell_type": "code",
   "execution_count": 8,
   "id": "08234089",
   "metadata": {},
   "outputs": [],
   "source": [
    "def greeting(name,age):\n",
    "    return \"Hello {name1}. Welcome to the community. Your age is {age1}\".format(age1=age, name1=name)"
   ]
  },
  {
   "cell_type": "code",
   "execution_count": 9,
   "id": "6134b5f2",
   "metadata": {},
   "outputs": [
    {
     "data": {
      "text/plain": [
       "'Hello Ehtesham. Welcome to the community. Your age is 28'"
      ]
     },
     "execution_count": 9,
     "metadata": {},
     "output_type": "execute_result"
    }
   ],
   "source": [
    "greeting(\"Ehtesham\",28)"
   ]
  },
  {
   "cell_type": "code",
   "execution_count": 10,
   "id": "22356f7b",
   "metadata": {},
   "outputs": [],
   "source": [
    "def greeting(name,age):\n",
    "    return \"Hello {name}. Welcome to the community. Your age is {age}\".format(age, name)"
   ]
  },
  {
   "cell_type": "code",
   "execution_count": 11,
   "id": "baac8317",
   "metadata": {},
   "outputs": [
    {
     "ename": "KeyError",
     "evalue": "'name'",
     "output_type": "error",
     "traceback": [
      "\u001b[1;31m---------------------------------------------------------------------------\u001b[0m",
      "\u001b[1;31mKeyError\u001b[0m                                  Traceback (most recent call last)",
      "\u001b[1;32mC:\\Users\\PCWORL~1\\AppData\\Local\\Temp/ipykernel_5252/1590181567.py\u001b[0m in \u001b[0;36m<module>\u001b[1;34m\u001b[0m\n\u001b[1;32m----> 1\u001b[1;33m \u001b[0mgreeting\u001b[0m\u001b[1;33m(\u001b[0m\u001b[1;34m\"Ehtesham\"\u001b[0m\u001b[1;33m,\u001b[0m\u001b[1;36m28\u001b[0m\u001b[1;33m)\u001b[0m\u001b[1;33m\u001b[0m\u001b[1;33m\u001b[0m\u001b[0m\n\u001b[0m",
      "\u001b[1;32mC:\\Users\\PCWORL~1\\AppData\\Local\\Temp/ipykernel_5252/906590884.py\u001b[0m in \u001b[0;36mgreeting\u001b[1;34m(name, age)\u001b[0m\n\u001b[0;32m      1\u001b[0m \u001b[1;32mdef\u001b[0m \u001b[0mgreeting\u001b[0m\u001b[1;33m(\u001b[0m\u001b[0mname\u001b[0m\u001b[1;33m,\u001b[0m\u001b[0mage\u001b[0m\u001b[1;33m)\u001b[0m\u001b[1;33m:\u001b[0m\u001b[1;33m\u001b[0m\u001b[1;33m\u001b[0m\u001b[0m\n\u001b[1;32m----> 2\u001b[1;33m     \u001b[1;32mreturn\u001b[0m \u001b[1;34m\"Hello {name}. Welcome to the community. Your age is {age}\"\u001b[0m\u001b[1;33m.\u001b[0m\u001b[0mformat\u001b[0m\u001b[1;33m(\u001b[0m\u001b[0mage\u001b[0m\u001b[1;33m,\u001b[0m \u001b[0mname\u001b[0m\u001b[1;33m)\u001b[0m\u001b[1;33m\u001b[0m\u001b[1;33m\u001b[0m\u001b[0m\n\u001b[0m",
      "\u001b[1;31mKeyError\u001b[0m: 'name'"
     ]
    }
   ],
   "source": [
    "greeting(\"Ehtesham\",28)"
   ]
  },
  {
   "cell_type": "code",
   "execution_count": 14,
   "id": "26973f3f",
   "metadata": {},
   "outputs": [],
   "source": [
    "def greeting(name,age):\n",
    "    return \"Hello {}. Welcome to the community. Your age is {}\".format(name,age)"
   ]
  },
  {
   "cell_type": "code",
   "execution_count": 15,
   "id": "e304ec33",
   "metadata": {},
   "outputs": [
    {
     "data": {
      "text/plain": [
       "'Hello Ehtesham. Welcome to the community. Your age is 28'"
      ]
     },
     "execution_count": 15,
     "metadata": {},
     "output_type": "execute_result"
    }
   ],
   "source": [
    "greeting(\"Ehtesham\",28)"
   ]
  },
  {
   "cell_type": "code",
   "execution_count": null,
   "id": "128f9f8d",
   "metadata": {},
   "outputs": [],
   "source": []
  }
 ],
 "metadata": {
  "kernelspec": {
   "display_name": "Python 3 (ipykernel)",
   "language": "python",
   "name": "python3"
  },
  "language_info": {
   "codemirror_mode": {
    "name": "ipython",
    "version": 3
   },
   "file_extension": ".py",
   "mimetype": "text/x-python",
   "name": "python",
   "nbconvert_exporter": "python",
   "pygments_lexer": "ipython3",
   "version": "3.9.7"
  }
 },
 "nbformat": 4,
 "nbformat_minor": 5
}
