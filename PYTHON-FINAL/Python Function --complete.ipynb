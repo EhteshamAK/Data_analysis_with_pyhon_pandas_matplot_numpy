{
 "cells": [
  {
   "cell_type": "code",
   "execution_count": 1,
   "id": "b28b221c",
   "metadata": {},
   "outputs": [],
   "source": [
    "def print_max(a,b):\n",
    "    if a > b:\n",
    "        print(a, \"is maximum\")\n",
    "    elif a == b:\n",
    "        print(a, \"is equal to b\")\n",
    "    else:\n",
    "        print(b, \"is maximum\")"
   ]
  },
  {
   "cell_type": "code",
   "execution_count": 2,
   "id": "9ba38a25",
   "metadata": {},
   "outputs": [
    {
     "name": "stdout",
     "output_type": "stream",
     "text": [
      "30 is maximum\n"
     ]
    }
   ],
   "source": [
    "print_max(20,30)"
   ]
  },
  {
   "cell_type": "code",
   "execution_count": 3,
   "id": "6728259b",
   "metadata": {},
   "outputs": [
    {
     "name": "stdout",
     "output_type": "stream",
     "text": [
      "200 is maximum\n"
     ]
    }
   ],
   "source": [
    "a1 = 100\n",
    "b1 = 200\n",
    "print_max(a1,b1)"
   ]
  },
  {
   "cell_type": "code",
   "execution_count": 4,
   "id": "f2b1404b",
   "metadata": {},
   "outputs": [
    {
     "name": "stdout",
     "output_type": "stream",
     "text": [
      "x is  50\n",
      "Changed local x to  100\n",
      "x is still: 50\n"
     ]
    }
   ],
   "source": [
    "#Local variable\n",
    "x = 50\n",
    "\n",
    "def func(x):\n",
    "    print(\"x is \", x)\n",
    "    x = 100\n",
    "    print(\"Changed local x to \",x)\n",
    "    \n",
    "func(x)\n",
    "print(\"x is still:\",x)"
   ]
  },
  {
   "cell_type": "code",
   "execution_count": 5,
   "id": "0b28cc48",
   "metadata": {},
   "outputs": [
    {
     "name": "stdout",
     "output_type": "stream",
     "text": [
      "value of y from outside the func is  100\n",
      "value of y from inside the func is 200\n",
      "value of y is changed from the inside func global variable 200\n"
     ]
    }
   ],
   "source": [
    "# global variable\n",
    "\n",
    "y = 100\n",
    "\n",
    "def globalfunc():\n",
    "    global y\n",
    "    print(\"value of y from outside the func is \",y)\n",
    "    y = 200\n",
    "    print(\"value of y from inside the func is\",y)\n",
    "    \n",
    "    \n",
    "globalfunc()\n",
    "print(\"value of y is changed from the inside func global variable\",y)"
   ]
  },
  {
   "cell_type": "code",
   "execution_count": 6,
   "id": "49b31290",
   "metadata": {},
   "outputs": [
    {
     "name": "stdout",
     "output_type": "stream",
     "text": [
      "Ehtesham and 26\n",
      "Ali and 28\n"
     ]
    }
   ],
   "source": [
    "# Default Argument Values\n",
    "\n",
    "def dav(name, age=26):\n",
    "    print(name, \"and\", age)\n",
    "    \n",
    "dav(\"Ehtesham\")\n",
    "dav(\"Ali\",28)"
   ]
  },
  {
   "cell_type": "code",
   "execution_count": 7,
   "id": "2ff39237",
   "metadata": {},
   "outputs": [
    {
     "name": "stdout",
     "output_type": "stream",
     "text": [
      "166\n"
     ]
    }
   ],
   "source": [
    "def total(initial=5, *numbers, **keywords):\n",
    "    count = initial\n",
    "    for number in numbers:\n",
    "        count += number\n",
    "    for key in keywords:\n",
    "        count += keywords[key]\n",
    "    return count\n",
    "\n",
    "print(total(10, 1, 2, 3, vegetables=50, fruits=100))"
   ]
  },
  {
   "cell_type": "code",
   "execution_count": 8,
   "id": "ffc4cc3c",
   "metadata": {},
   "outputs": [
    {
     "name": "stdout",
     "output_type": "stream",
     "text": [
      "vegetables = 50\n",
      "fruits = 100\n"
     ]
    }
   ],
   "source": [
    "# VAR Args PARAMETER\n",
    "# VALUES WITH Double** accept values in dictionairies\n",
    "def total(**keywords):\n",
    "    for key, value in keywords.items():\n",
    "        print(\"%s = %s\" % (key,value))\n",
    "            \n",
    "total( vegetables=50, fruits=100)"
   ]
  },
  {
   "cell_type": "code",
   "execution_count": 9,
   "id": "ddf3ded6",
   "metadata": {},
   "outputs": [
    {
     "name": "stdout",
     "output_type": "stream",
     "text": [
      "VarArgs Parameter\n",
      "Marks 10\n",
      "Marks 750\n",
      "Marks 850\n",
      "Marks 950\n",
      "Marks 800\n",
      "Marks 870\n",
      "Marks 890\n",
      "Marks 990\n",
      "'student_1' = 'Ehtesham Ali Khan'\n",
      "'student_2' = 'Seemab Shaheen'\n",
      "'student_3' = 'Hassan Ali Khan'\n",
      "'student_4' = 'Sidra'\n",
      "'student_5' = 'Rema Khan'\n"
     ]
    }
   ],
   "source": [
    "def combine(*marks,**students):\n",
    "            for mark in marks:\n",
    "               print(\"Marks\", mark)\n",
    "            for key, value in students.items():\n",
    "                print(\"%r = %r\"%(key,value))\n",
    "             \n",
    "            \n",
    "print(\"VarArgs Parameter\")\n",
    "combine(10, 750,850,950,800,870,890,990, student_1 = \"Ehtesham Ali Khan\", student_2 = \"Seemab Shaheen\", student_3 = \"Hassan Ali Khan\", student_4 = \"Sidra\", student_5 = \"Rema Khan\")"
   ]
  },
  {
   "cell_type": "code",
   "execution_count": 10,
   "id": "589a2587",
   "metadata": {},
   "outputs": [
    {
     "name": "stdout",
     "output_type": "stream",
     "text": [
      "'VarArgs' Parameter\n",
      "Data Science\n",
      "Marks 10\n",
      "Marks 750\n",
      "Marks 850\n",
      "Marks 950\n",
      "Marks 800\n",
      "Marks 870\n",
      "Marks 890\n",
      "Marks 990\n",
      "'student_1' = 'Ehtesham Ali Khan'\n",
      "'student_2' = 'Seemab Shaheen'\n",
      "'student_3' = 'Hassan Ali Khan'\n",
      "'student_4' = 'Sidra'\n",
      "'student_5' = 'Rema Khan'\n"
     ]
    }
   ],
   "source": [
    "def combine(className,*marks,**students):\n",
    "            print(className)\n",
    "            for mark in marks:\n",
    "                print(\"Marks\", mark)\n",
    "            for key, value in students.items():\n",
    "                print(\"%r = %r\"%(key,value))\n",
    "             \n",
    "            \n",
    "print(\"'VarArgs' Parameter\")\n",
    "combine('Data Science',10, 750,850,950,800,870,890,990, student_1 = \"Ehtesham Ali Khan\", student_2 = \"Seemab Shaheen\", student_3 = \"Hassan Ali Khan\", student_4 = \"Sidra\", student_5 = \"Rema Khan\")"
   ]
  },
  {
   "cell_type": "code",
   "execution_count": 11,
   "id": "08cb946f",
   "metadata": {},
   "outputs": [
    {
     "name": "stdout",
     "output_type": "stream",
     "text": [
      "20\n",
      "Help on function print_max in module __main__:\n",
      "\n",
      "print_max(a, b)\n",
      "    This function returns the Max number in a and b\n",
      "\n"
     ]
    }
   ],
   "source": [
    "def print_max(a,b):\n",
    "    \"\"\"This function returns the Max number in a and b\"\"\"\n",
    "    if a > b:\n",
    "        return a\n",
    "    elif a == b:\n",
    "        return a == b\n",
    "    else:\n",
    "        return b\n",
    "    \n",
    "    \n",
    "print(print_max(10,20))\n",
    "help(print_max)"
   ]
  },
  {
   "cell_type": "markdown",
   "id": "63c1c32d",
   "metadata": {},
   "source": [
    "> How It WorksWhen we declare a starred parameter such as ***param**, then all the\n",
    "positional arguments from that point till the end are collected as a **tuple** called 'param'.\n",
    "Similarly, when we declare a double-starred parameter such as ****param** , then all\n",
    "the keyword arguments from that point till the end are collected as a **dictionary** called\n",
    "'param'."
   ]
  },
  {
   "cell_type": "code",
   "execution_count": 12,
   "id": "85fa817f",
   "metadata": {},
   "outputs": [
    {
     "name": "stdout",
     "output_type": "stream",
     "text": [
      "This function return the square\n",
      "16\n"
     ]
    }
   ],
   "source": [
    "# Square function with return value\n",
    "\n",
    "def square(n):\n",
    "    \"\"\"This functions return the square of any number \"\"\"\n",
    "    return n**2\n",
    "\n",
    "\n",
    "print(\"This function return the square\")\n",
    "print(square(4))"
   ]
  },
  {
   "cell_type": "markdown",
   "id": "5b2a75eb",
   "metadata": {},
   "source": [
    ">> In Python, an **anonymous function** means that a function is without a name. As we already know the **def** keyword is used to define the **normal functions** and the **lambda keyword** is used to create **anonymous** functions. "
   ]
  },
  {
   "cell_type": "code",
   "execution_count": 13,
   "id": "dbd77ca2",
   "metadata": {},
   "outputs": [
    {
     "name": "stdout",
     "output_type": "stream",
     "text": [
      "27\n"
     ]
    }
   ],
   "source": [
    "# return the cube of any number in Normal Function \n",
    "def cube(x):\n",
    "    return x*x*x\n",
    "\n",
    "print(cube(3))"
   ]
  },
  {
   "cell_type": "code",
   "execution_count": 14,
   "id": "5e38906a",
   "metadata": {},
   "outputs": [
    {
     "name": "stdout",
     "output_type": "stream",
     "text": [
      "27\n"
     ]
    }
   ],
   "source": [
    "# Lambda/Anonymous function return the cube of any number\n",
    "\n",
    "cube = lambda x: x*x*x\n",
    "print(cube(3))"
   ]
  },
  {
   "cell_type": "code",
   "execution_count": 15,
   "id": "067ffa43",
   "metadata": {},
   "outputs": [
    {
     "name": "stdout",
     "output_type": "stream",
     "text": [
      "Please enter your crush nameRema\n",
      "Hurrah: Your crush name is  Rema\n"
     ]
    }
   ],
   "source": [
    "x = input(\"Please enter your crush name\")\n",
    "print(\"Hurrah: Your crush name is \",x)"
   ]
  },
  {
   "cell_type": "code",
   "execution_count": 17,
   "id": "7923dc45",
   "metadata": {},
   "outputs": [
    {
     "name": "stdout",
     "output_type": "stream",
     "text": [
      "Enter Multiple values10 100\n",
      "First value is  10\n",
      "second value is 100\n"
     ]
    }
   ],
   "source": [
    "# taking two inputs at a time\n",
    "a,b = input(\"Enter Multiple values\").split()\n",
    "print(\"First value is \",a)\n",
    "print(\"second value is\",b)"
   ]
  },
  {
   "cell_type": "markdown",
   "id": "6871f57c",
   "metadata": {},
   "source": [
    "> Python’s print() function comes with a parameter called ‘end’. By default, the value of this parameter is ‘\\n’, i.e. the new line character. You can end a print statement with any character/string using this parameter."
   ]
  },
  {
   "cell_type": "code",
   "execution_count": 18,
   "id": "b18beafb",
   "metadata": {},
   "outputs": [
    {
     "name": "stdout",
     "output_type": "stream",
     "text": [
      "hello how are you doing?"
     ]
    }
   ],
   "source": [
    "x = \"hello how are you doing\"\n",
    "print(x, end = \"?\")"
   ]
  },
  {
   "cell_type": "markdown",
   "id": "6d327985",
   "metadata": {},
   "source": [
    ">>> The separator between the arguments to print() function in Python is space by default (softspace feature) , which can be modified and can be made to any character, integer or string as per our choice. The ‘sep’ parameter is used to achieve the same, it is found only in python 3.x or later. It is also used for formatting the output strings."
   ]
  },
  {
   "cell_type": "code",
   "execution_count": 35,
   "id": "821f5626",
   "metadata": {},
   "outputs": [
    {
     "name": "stdout",
     "output_type": "stream",
     "text": [
      "Hello how are you\n",
      "I am great, how are you doing!"
     ]
    }
   ],
   "source": [
    "y = \"Hello how are you\"\n",
    "z = \"I am great, how are you doing\"\n",
    "print(y,z, sep='\\n', end=\"!\")\n"
   ]
  },
  {
   "cell_type": "code",
   "execution_count": null,
   "id": "afa16bc3",
   "metadata": {},
   "outputs": [],
   "source": []
  }
 ],
 "metadata": {
  "kernelspec": {
   "display_name": "Python 3 (ipykernel)",
   "language": "python",
   "name": "python3"
  },
  "language_info": {
   "codemirror_mode": {
    "name": "ipython",
    "version": 3
   },
   "file_extension": ".py",
   "mimetype": "text/x-python",
   "name": "python",
   "nbconvert_exporter": "python",
   "pygments_lexer": "ipython3",
   "version": "3.9.7"
  }
 },
 "nbformat": 4,
 "nbformat_minor": 5
}
