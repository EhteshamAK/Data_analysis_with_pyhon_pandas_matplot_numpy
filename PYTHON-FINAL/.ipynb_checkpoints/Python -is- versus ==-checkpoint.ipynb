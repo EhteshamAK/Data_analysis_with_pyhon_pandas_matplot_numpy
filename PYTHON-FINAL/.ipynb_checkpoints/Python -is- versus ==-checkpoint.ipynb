{
 "cells": [
  {
   "cell_type": "code",
   "execution_count": 2,
   "id": "e65c484c",
   "metadata": {},
   "outputs": [
    {
     "data": {
      "text/plain": [
       "False"
      ]
     },
     "execution_count": 2,
     "metadata": {},
     "output_type": "execute_result"
    }
   ],
   "source": [
    "list1 = [\"ali\",\"ahmed\",\"asim\"]\n",
    "list2 = [\"khan\",\"bahadur\",\"jasim\"]\n",
    "list1==list2"
   ]
  },
  {
   "cell_type": "code",
   "execution_count": 3,
   "id": "293f0415",
   "metadata": {},
   "outputs": [
    {
     "data": {
      "text/plain": [
       "True"
      ]
     },
     "execution_count": 3,
     "metadata": {},
     "output_type": "execute_result"
    }
   ],
   "source": [
    "list1 = [\"ali\",\"ahmed\",\"asim\"]\n",
    "list2 = [\"ali\",\"ahmed\",\"asim\"]\n",
    "list1==list2"
   ]
  },
  {
   "cell_type": "code",
   "execution_count": 4,
   "id": "7862b8f8",
   "metadata": {},
   "outputs": [],
   "source": [
    "list1 = list2"
   ]
  },
  {
   "cell_type": "code",
   "execution_count": 5,
   "id": "0548b336",
   "metadata": {},
   "outputs": [
    {
     "data": {
      "text/plain": [
       "True"
      ]
     },
     "execution_count": 5,
     "metadata": {},
     "output_type": "execute_result"
    }
   ],
   "source": [
    "list2 is list1"
   ]
  },
  {
   "cell_type": "code",
   "execution_count": 6,
   "id": "2334cae9",
   "metadata": {},
   "outputs": [
    {
     "data": {
      "text/plain": [
       "['ali', 'ahmed', 'asim']"
      ]
     },
     "execution_count": 6,
     "metadata": {},
     "output_type": "execute_result"
    }
   ],
   "source": [
    "list1"
   ]
  },
  {
   "cell_type": "code",
   "execution_count": 8,
   "id": "7a3e1484",
   "metadata": {},
   "outputs": [
    {
     "data": {
      "text/plain": [
       "'ali'"
      ]
     },
     "execution_count": 8,
     "metadata": {},
     "output_type": "execute_result"
    }
   ],
   "source": [
    "list1[0]"
   ]
  },
  {
   "cell_type": "code",
   "execution_count": 10,
   "id": "2dedab8b",
   "metadata": {},
   "outputs": [],
   "source": [
    "list1[0] = \"ahmed\""
   ]
  },
  {
   "cell_type": "code",
   "execution_count": 11,
   "id": "43b8dab1",
   "metadata": {},
   "outputs": [
    {
     "data": {
      "text/plain": [
       "['ahmed', 'ahmed', 'asim']"
      ]
     },
     "execution_count": 11,
     "metadata": {},
     "output_type": "execute_result"
    }
   ],
   "source": [
    "list1"
   ]
  },
  {
   "cell_type": "code",
   "execution_count": 12,
   "id": "24690313",
   "metadata": {},
   "outputs": [
    {
     "data": {
      "text/plain": [
       "['ahmed', 'ahmed', 'asim']"
      ]
     },
     "execution_count": 12,
     "metadata": {},
     "output_type": "execute_result"
    }
   ],
   "source": [
    "list2"
   ]
  },
  {
   "cell_type": "code",
   "execution_count": null,
   "id": "bc4d7b9f",
   "metadata": {},
   "outputs": [],
   "source": []
  }
 ],
 "metadata": {
  "kernelspec": {
   "display_name": "Python 3 (ipykernel)",
   "language": "python",
   "name": "python3"
  },
  "language_info": {
   "codemirror_mode": {
    "name": "ipython",
    "version": 3
   },
   "file_extension": ".py",
   "mimetype": "text/x-python",
   "name": "python",
   "nbconvert_exporter": "python",
   "pygments_lexer": "ipython3",
   "version": "3.9.7"
  }
 },
 "nbformat": 4,
 "nbformat_minor": 5
}
