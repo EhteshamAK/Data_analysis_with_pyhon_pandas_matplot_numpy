{
 "cells": [
  {
   "cell_type": "markdown",
   "id": "6181cc31",
   "metadata": {},
   "source": [
    "# OOPS in Python Classes, Variables, Object and "
   ]
  },
  {
   "cell_type": "markdown",
   "id": "fc2d427b",
   "metadata": {},
   "source": [
    "😂 🤚"
   ]
  },
  {
   "cell_type": "code",
   "execution_count": 1,
   "id": "e36680c8",
   "metadata": {},
   "outputs": [
    {
     "name": "stdout",
     "output_type": "stream",
     "text": [
      "This is Petrol car\n"
     ]
    }
   ],
   "source": [
    "# Public, Private and Protected Variable \n",
    "# if anything does not written with variable it will be treated as public\n",
    "\n",
    "class Car:\n",
    "    # attributes of the car are \n",
    "    def __init__(self,windows,mirror,tyres,doors,engineType):  # initialization instructor\n",
    "            self.No_of_Windows = windows # For protected variable we write underscore(_)\n",
    "            self.No_of_mirror = mirror  # For private we basically write double underscore(__) self.__No_of_mirror\n",
    "            self.No_of_tyres = tyres\n",
    "            self.No_of_doors = doors\n",
    "            self.car_engineType = engineType\n",
    "            \n",
    "    # defining car methods - what actually car does\n",
    "    def self_driving(self):\n",
    "        return \"This is {} car\".format(self.car_engineType)\n",
    "    \n",
    "    def gas_car(self):\n",
    "        return \"This car has {}\".format(self.car_engineType)\n",
    "    def car_mirror(self):\n",
    "        return \"This car has {}\".format(self.No_of_mirror)\n",
    "    \n",
    "    \n",
    "car1 = Car(2,2,4,2,\"Petrol\")\n",
    "print(car1.self_driving())"
   ]
  },
  {
   "cell_type": "code",
   "execution_count": 2,
   "id": "32ec4a31",
   "metadata": {},
   "outputs": [
    {
     "name": "stdout",
     "output_type": "stream",
     "text": [
      "This car has 2\n"
     ]
    }
   ],
   "source": [
    "print(car1.car_mirror())"
   ]
  },
  {
   "cell_type": "markdown",
   "id": "6a0b8118",
   "metadata": {},
   "source": [
    "## OOPS - Inheritance"
   ]
  },
  {
   "cell_type": "code",
   "execution_count": 3,
   "id": "e61cd19a",
   "metadata": {},
   "outputs": [],
   "source": [
    "#  Now we are creating another class -Audi- that has all the functionalities of -Car- class\n",
    "\n",
    "class Audi(Car):\n",
    "    def __init__(self,windows,mirror,tyres,doors,engineType,AudiHQ):\n",
    "        super().__init__(windows,mirror,tyres,doors,engineType)\n",
    "        self.Audi_HeadOffice = AudiHQ\n",
    "        \n",
    "    def audi_office(self):\n",
    "        b = self.Audi_HeadOffice.lower()\n",
    "        if b == \"germany\":\n",
    "            print(\"You are right\")\n",
    "        else:\n",
    "            print(\"Your answe is incorrect\")\n",
    "            \n",
    "Audi_Q7 = Audi(2,2,4,2,\"Petrol\",\"france\")"
   ]
  },
  {
   "cell_type": "code",
   "execution_count": 4,
   "id": "c162b0e6",
   "metadata": {},
   "outputs": [
    {
     "name": "stdout",
     "output_type": "stream",
     "text": [
      "Your answe is incorrect\n"
     ]
    }
   ],
   "source": [
    "Audi_Q7.audi_office()"
   ]
  },
  {
   "cell_type": "code",
   "execution_count": 58,
   "id": "cdc2ccc7",
   "metadata": {},
   "outputs": [],
   "source": [
    "# dir(Audi_Q7)"
   ]
  },
  {
   "cell_type": "markdown",
   "id": "ec2dd09b",
   "metadata": {},
   "source": [
    "## Majic Methods in OOPS"
   ]
  },
  {
   "cell_type": "code",
   "execution_count": 6,
   "id": "e99242a9",
   "metadata": {},
   "outputs": [],
   "source": [
    "class Human:\n",
    "    def __init__(self,name,age,sex,country):\n",
    "        self.name = name\n",
    "        self.age = age\n",
    "        self.sex = sex\n",
    "        self.country = country\n",
    "        \n",
    "    def __str__(self):\n",
    "        return \"This is the majic method from dir(person_1)\"\n",
    "        \n",
    "    def show_name(self):\n",
    "        return \"His name is {}\".format(self.name)"
   ]
  },
  {
   "cell_type": "code",
   "execution_count": 7,
   "id": "741f1a88",
   "metadata": {},
   "outputs": [],
   "source": [
    "person_1 = Human(\"Ehtesham\",28,\"male\",\"Pakistan\")"
   ]
  },
  {
   "cell_type": "code",
   "execution_count": 8,
   "id": "844b223b",
   "metadata": {},
   "outputs": [
    {
     "name": "stdout",
     "output_type": "stream",
     "text": [
      "This is the majic method from dir(person_1)\n"
     ]
    }
   ],
   "source": [
    "print(person_1)"
   ]
  },
  {
   "cell_type": "code",
   "execution_count": 57,
   "id": "3b2c8c0e",
   "metadata": {},
   "outputs": [],
   "source": [
    "# dir(person_1)"
   ]
  },
  {
   "cell_type": "markdown",
   "id": "5918f0ed",
   "metadata": {},
   "source": [
    "# Python Assert \n",
    "\n",
    "Python provides the assert statement to check if a given logical expression is true or false.\n",
    "Program execution proceed only if the expression is true and raise the assertion error when it is false. The following code shows the usage of the assert statement."
   ]
  },
  {
   "cell_type": "code",
   "execution_count": 10,
   "id": "c3d9029a",
   "metadata": {},
   "outputs": [
    {
     "name": "stdout",
     "output_type": "stream",
     "text": [
      "Enter number100\n"
     ]
    }
   ],
   "source": [
    "num = int(input(\"Enter number\"))\n",
    "assert num>=10"
   ]
  },
  {
   "cell_type": "code",
   "execution_count": 11,
   "id": "74b516cc",
   "metadata": {},
   "outputs": [
    {
     "name": "stdout",
     "output_type": "stream",
     "text": [
      "Please enter number100\n",
      "This is an even number\n"
     ]
    }
   ],
   "source": [
    "try:\n",
    "    n = int(input(\"Please enter number\"))\n",
    "    assert n%2==0\n",
    "    print(\"This is an even number\")\n",
    "except AssertionError:\n",
    "    print(\"Please entern even number\")"
   ]
  },
  {
   "cell_type": "markdown",
   "id": "2d272238",
   "metadata": {},
   "source": [
    "# Example "
   ]
  },
  {
   "cell_type": "code",
   "execution_count": 86,
   "id": "a112946f",
   "metadata": {},
   "outputs": [],
   "source": [
    "class Fruit:\n",
    "    \"\"\"\n",
    "    A class is defined for fruits to create objects for this class\n",
    "    \"\"\"\n",
    "    def __init__(self,name,nutrients,is_ripe):\n",
    "        try:\n",
    "            assert type(name) == str\n",
    "            assert type(nutrients) == list\n",
    "            assert type(is_ripe) == bool\n",
    "        except NameError:\n",
    "            print(\"Please give value to variables\")\n",
    "        except TypeError:\n",
    "            print(\"You can assign only relevant data types\")\n",
    "        except Exception as ex:\n",
    "            print(f\"Alert! {ex} Error found in program\")\n",
    "        else:\n",
    "            self.name = name\n",
    "        finally:\n",
    "            self.nutrients = nutrients\n",
    "            self.is_ripe = is_ripe\n",
    "            \n",
    "    def citrus_fruit(self):\n",
    "        a = self.name.lower()\n",
    "        if a in [\"guava\",\"lemon\",\"orange\"]:\n",
    "            return f\"This {a} belong to the citrus family and it has following {self.nutrients} nutrients\"\n",
    "        else:\n",
    "            return f\"This belongs to some other family but it has the following {self.nutrients}\"\n",
    "        \n",
    "    def show_nutrients(self):\n",
    "        for values in self.nutrients:\n",
    "            print(values)"
   ]
  },
  {
   "cell_type": "code",
   "execution_count": 87,
   "id": "a8745088",
   "metadata": {},
   "outputs": [
    {
     "name": "stdout",
     "output_type": "stream",
     "text": [
      "This belongs to some other family but it has the following ['vitaminc', 'vitamin A', 'Vitamin B']\n"
     ]
    }
   ],
   "source": [
    "fruit_1 = Fruit(\"peelo\", [\"vitaminc\",\"vitamin A\", \"Vitamin B\"], True)\n",
    "print(fruit_1.citrus_fruit())"
   ]
  },
  {
   "cell_type": "code",
   "execution_count": 84,
   "id": "8b45d05c",
   "metadata": {},
   "outputs": [],
   "source": [
    "# fruit_1.show_nutrients()"
   ]
  },
  {
   "cell_type": "markdown",
   "id": "da328025",
   "metadata": {},
   "source": [
    "# Class Method and Class Variables"
   ]
  },
  {
   "cell_type": "code",
   "execution_count": 28,
   "id": "75b2f174",
   "metadata": {},
   "outputs": [
    {
     "data": {
      "text/plain": [
       "'Price  of the car is 100000 '"
      ]
     },
     "execution_count": 28,
     "metadata": {},
     "output_type": "execute_result"
    }
   ],
   "source": [
    "class Car:\n",
    "    car_price = 100000 # class variable\n",
    "    def __init__(self,windows,doors,power):\n",
    "        self.windows = windows\n",
    "        self.doors = doors\n",
    "        self.power = power\n",
    "    def what_is_basePrice(self):\n",
    "        return \"Price  of the car is {} \".format(self.car_price)\n",
    "    @classmethod  # Decorator is basically used to access the class varibale and update it for every instance\n",
    "    def revise_carPrice(cls,inflation):\n",
    "        cls.car_price = cls.car_price+cls.car_price*inflation\n",
    "\n",
    "toyota = Car(4,4,1200)\n",
    "toyota.what_is_basePrice()"
   ]
  },
  {
   "cell_type": "code",
   "execution_count": 29,
   "id": "ddc51a3d",
   "metadata": {},
   "outputs": [],
   "source": [
    "Car.revise_carPrice(0.10)"
   ]
  },
  {
   "cell_type": "code",
   "execution_count": 30,
   "id": "d310613a",
   "metadata": {},
   "outputs": [
    {
     "data": {
      "text/plain": [
       "'Price  of the car is 110000.0 '"
      ]
     },
     "execution_count": 30,
     "metadata": {},
     "output_type": "execute_result"
    }
   ],
   "source": [
    "toyota.what_is_basePrice()"
   ]
  },
  {
   "cell_type": "markdown",
   "id": "746e109a",
   "metadata": {},
   "source": [
    "# Static Method"
   ]
  },
  {
   "cell_type": "markdown",
   "id": "d1091304",
   "metadata": {},
   "source": [
    "once the class is loaded the first that is getting initialized is static method"
   ]
  },
  {
   "cell_type": "code",
   "execution_count": 31,
   "id": "6e28a047",
   "metadata": {},
   "outputs": [],
   "source": [
    "import datetime\n",
    "now = datetime.datetime.now()"
   ]
  },
  {
   "cell_type": "code",
   "execution_count": 35,
   "id": "eac7514f",
   "metadata": {},
   "outputs": [
    {
     "data": {
      "text/plain": [
       "2022"
      ]
     },
     "execution_count": 35,
     "metadata": {},
     "output_type": "execute_result"
    }
   ],
   "source": [
    "now.year"
   ]
  },
  {
   "cell_type": "code",
   "execution_count": 42,
   "id": "85fc365d",
   "metadata": {},
   "outputs": [],
   "source": [
    "class Car:\n",
    "    car_price = 100000 # class variable\n",
    "    def __init__(self,windows,doors,power):\n",
    "        self.windows = windows\n",
    "        self.doors = doors\n",
    "        self.power = power\n",
    "    def what_is_basePrice(self):\n",
    "        return \"Price  of the car is {} \".format(self.car_price)\n",
    "    @classmethod  # Decorator is basically used to access the class varibale and update it for every instance\n",
    "    def revise_carPrice(cls,inflation):\n",
    "        cls.car_price = cls.car_price+cls.car_price*inflation\n",
    "    @staticmethod\n",
    "    def check_year():\n",
    "        if now.year == 2022:\n",
    "            pass\n",
    "        else:\n",
    "            Car.revise_carPrice(0.10)\n",
    "            \n"
   ]
  },
  {
   "cell_type": "code",
   "execution_count": 43,
   "id": "b430a753",
   "metadata": {},
   "outputs": [
    {
     "data": {
      "text/plain": [
       "'Price  of the car is 100000 '"
      ]
     },
     "execution_count": 43,
     "metadata": {},
     "output_type": "execute_result"
    }
   ],
   "source": [
    "honda = Car(2,2,3500)\n",
    "honda.what_is_basePrice()"
   ]
  },
  {
   "cell_type": "code",
   "execution_count": 44,
   "id": "37852154",
   "metadata": {},
   "outputs": [],
   "source": [
    "Car.revise_carPrice(0.10)"
   ]
  },
  {
   "cell_type": "code",
   "execution_count": 41,
   "id": "160a7f74",
   "metadata": {},
   "outputs": [
    {
     "data": {
      "text/plain": [
       "'Price  of the car is 110000.0 '"
      ]
     },
     "execution_count": 41,
     "metadata": {},
     "output_type": "execute_result"
    }
   ],
   "source": [
    "honda.what_is_basePrice()"
   ]
  },
  {
   "cell_type": "markdown",
   "id": "72d587b6",
   "metadata": {},
   "source": [
    "# OOPS - Multiple Inheritance in Python"
   ]
  },
  {
   "cell_type": "code",
   "execution_count": 45,
   "id": "0df4dca7",
   "metadata": {},
   "outputs": [],
   "source": [
    "class Car:\n",
    "    def car_model(self):\n",
    "        print(\"Model of the car is Toyota Corolla Grande\")"
   ]
  },
  {
   "cell_type": "code",
   "execution_count": 46,
   "id": "08873ddf",
   "metadata": {},
   "outputs": [],
   "source": [
    "class Bike:\n",
    "    def bike_model(self):\n",
    "        print(\"Bike Model is Yamaha Hayabhusa\")"
   ]
  },
  {
   "cell_type": "code",
   "execution_count": 47,
   "id": "a242fc29",
   "metadata": {},
   "outputs": [],
   "source": [
    "class Horse:\n",
    "    def horse_breed(self):\n",
    "        print(\"Breed of the horse is Arabic-Jordan\")"
   ]
  },
  {
   "cell_type": "code",
   "execution_count": 53,
   "id": "9ec0d0a5",
   "metadata": {},
   "outputs": [],
   "source": [
    "class Combine(Car,Bike,Horse):\n",
    "     def all_class(self):\n",
    "            print(\"You are viewing all the combine classes\")"
   ]
  },
  {
   "cell_type": "code",
   "execution_count": 54,
   "id": "f20247e0",
   "metadata": {},
   "outputs": [
    {
     "name": "stdout",
     "output_type": "stream",
     "text": [
      "You are viewing all the combine classes\n",
      "Model of the car is Toyota Corolla Grande\n"
     ]
    }
   ],
   "source": [
    "object = Combine()\n",
    "object.all_class()\n",
    "object.car_model()"
   ]
  },
  {
   "cell_type": "code",
   "execution_count": 55,
   "id": "9acc4ae5",
   "metadata": {},
   "outputs": [
    {
     "name": "stdout",
     "output_type": "stream",
     "text": [
      "Bike Model is Yamaha Hayabhusa\n"
     ]
    }
   ],
   "source": [
    "object.bike_model()"
   ]
  },
  {
   "cell_type": "code",
   "execution_count": 56,
   "id": "547f7e51",
   "metadata": {},
   "outputs": [
    {
     "name": "stdout",
     "output_type": "stream",
     "text": [
      "Breed of the horse is Arabic-Jordan\n"
     ]
    }
   ],
   "source": [
    "object.horse_breed()"
   ]
  },
  {
   "cell_type": "markdown",
   "id": "76329131",
   "metadata": {},
   "source": [
    "# Python OOPS- Public, Protected and Private Variables"
   ]
  },
  {
   "cell_type": "code",
   "execution_count": 1,
   "id": "8528f544",
   "metadata": {},
   "outputs": [],
   "source": [
    "### All the class variables are public-public var means it can be overridden\n",
    "class Car:\n",
    "    def __init__(self,windows,doors,engineType):\n",
    "        self.windows = windows\n",
    "        self.doors = doors\n",
    "        self.engineType = engineType"
   ]
  },
  {
   "cell_type": "code",
   "execution_count": 2,
   "id": "830097e2",
   "metadata": {},
   "outputs": [],
   "source": [
    "toyota = Car(3,3,\"petrol\")"
   ]
  },
  {
   "cell_type": "code",
   "execution_count": 3,
   "id": "c3933528",
   "metadata": {},
   "outputs": [
    {
     "data": {
      "text/plain": [
       "3"
      ]
     },
     "execution_count": 3,
     "metadata": {},
     "output_type": "execute_result"
    }
   ],
   "source": [
    "toyota.windows"
   ]
  },
  {
   "cell_type": "code",
   "execution_count": 6,
   "id": "ed0b00ec",
   "metadata": {},
   "outputs": [],
   "source": [
    "# It can be over ridden\n",
    "toyota.windows = 4"
   ]
  },
  {
   "cell_type": "code",
   "execution_count": 7,
   "id": "fb7742f3",
   "metadata": {},
   "outputs": [
    {
     "data": {
      "text/plain": [
       "4"
      ]
     },
     "execution_count": 7,
     "metadata": {},
     "output_type": "execute_result"
    }
   ],
   "source": [
    "toyota.windows"
   ]
  },
  {
   "cell_type": "code",
   "execution_count": 22,
   "id": "3848d1f3",
   "metadata": {},
   "outputs": [],
   "source": [
    "### All the class variables are protected (_)- protected variable means it can be overridden only in sub class[inherited class]\n",
    "class Car:\n",
    "    def __init__(self,windows,doors,engineType):\n",
    "        self._windows = windows\n",
    "        self._doors = doors\n",
    "        self._engineType = engineType"
   ]
  },
  {
   "cell_type": "code",
   "execution_count": 40,
   "id": "62f3c44f",
   "metadata": {},
   "outputs": [],
   "source": [
    "class Truck(Car):\n",
    "    def __init__(self,windows,doors,engineType,horsePower):\n",
    "        super().__init__(windows,doors,engineType)\n",
    "        \n",
    "        self.horsePower = horsePower"
   ]
  },
  {
   "cell_type": "code",
   "execution_count": 42,
   "id": "8327e8aa",
   "metadata": {},
   "outputs": [
    {
     "data": {
      "text/plain": [
       "5000"
      ]
     },
     "execution_count": 42,
     "metadata": {},
     "output_type": "execute_result"
    }
   ],
   "source": [
    "truck = Truck(4,4,\"Petrol\",5000)\n",
    "truck.horsePower"
   ]
  },
  {
   "cell_type": "code",
   "execution_count": 43,
   "id": "21942423",
   "metadata": {},
   "outputs": [],
   "source": [
    "truck.horsePower = 10000"
   ]
  },
  {
   "cell_type": "code",
   "execution_count": 44,
   "id": "1761c3f9",
   "metadata": {},
   "outputs": [
    {
     "data": {
      "text/plain": [
       "10000"
      ]
     },
     "execution_count": 44,
     "metadata": {},
     "output_type": "execute_result"
    }
   ],
   "source": [
    "truck.horsePower"
   ]
  },
  {
   "cell_type": "code",
   "execution_count": 46,
   "id": "0570ad0a",
   "metadata": {},
   "outputs": [],
   "source": [
    "### All the class variables are private (__) private variables cann't be accessed, modified outside of the particular class\n",
    "class Car:\n",
    "    def __init__(self,windows,doors,engineType):\n",
    "        self.__windows = windows # initialized with double underscore\n",
    "        self.__doors = doors\n",
    "        self.__engineType = engineType"
   ]
  },
  {
   "cell_type": "code",
   "execution_count": 47,
   "id": "34639a99",
   "metadata": {},
   "outputs": [],
   "source": [
    "bmw = Car(2,3,\"Petrol\")"
   ]
  },
  {
   "cell_type": "code",
   "execution_count": 49,
   "id": "1c112982",
   "metadata": {},
   "outputs": [
    {
     "ename": "AttributeError",
     "evalue": "'Car' object has no attribute 'doors'",
     "output_type": "error",
     "traceback": [
      "\u001b[1;31m---------------------------------------------------------------------------\u001b[0m",
      "\u001b[1;31mAttributeError\u001b[0m                            Traceback (most recent call last)",
      "\u001b[1;32mC:\\Users\\PCWORL~1\\AppData\\Local\\Temp/ipykernel_8820/1377003093.py\u001b[0m in \u001b[0;36m<module>\u001b[1;34m\u001b[0m\n\u001b[1;32m----> 1\u001b[1;33m \u001b[0mbmw\u001b[0m\u001b[1;33m.\u001b[0m\u001b[0mdoors\u001b[0m\u001b[1;33m\u001b[0m\u001b[1;33m\u001b[0m\u001b[0m\n\u001b[0m",
      "\u001b[1;31mAttributeError\u001b[0m: 'Car' object has no attribute 'doors'"
     ]
    }
   ],
   "source": [
    "bmw.doors"
   ]
  },
  {
   "cell_type": "code",
   "execution_count": 50,
   "id": "d66ebeba",
   "metadata": {},
   "outputs": [
    {
     "ename": "AttributeError",
     "evalue": "'Car' object has no attribute '__doors'",
     "output_type": "error",
     "traceback": [
      "\u001b[1;31m---------------------------------------------------------------------------\u001b[0m",
      "\u001b[1;31mAttributeError\u001b[0m                            Traceback (most recent call last)",
      "\u001b[1;32mC:\\Users\\PCWORL~1\\AppData\\Local\\Temp/ipykernel_8820/1605184763.py\u001b[0m in \u001b[0;36m<module>\u001b[1;34m\u001b[0m\n\u001b[1;32m----> 1\u001b[1;33m \u001b[0mbmw\u001b[0m\u001b[1;33m.\u001b[0m\u001b[0m__doors\u001b[0m\u001b[1;33m\u001b[0m\u001b[1;33m\u001b[0m\u001b[0m\n\u001b[0m",
      "\u001b[1;31mAttributeError\u001b[0m: 'Car' object has no attribute '__doors'"
     ]
    }
   ],
   "source": [
    "bmw.__doors"
   ]
  },
  {
   "cell_type": "code",
   "execution_count": null,
   "id": "6a5527cb",
   "metadata": {},
   "outputs": [],
   "source": []
  }
 ],
 "metadata": {
  "kernelspec": {
   "display_name": "Python 3 (ipykernel)",
   "language": "python",
   "name": "python3"
  },
  "language_info": {
   "codemirror_mode": {
    "name": "ipython",
    "version": 3
   },
   "file_extension": ".py",
   "mimetype": "text/x-python",
   "name": "python",
   "nbconvert_exporter": "python",
   "pygments_lexer": "ipython3",
   "version": "3.9.7"
  }
 },
 "nbformat": 4,
 "nbformat_minor": 5
}
