{
 "cells": [
  {
   "cell_type": "code",
   "execution_count": 8,
   "id": "40bd8912",
   "metadata": {},
   "outputs": [
    {
     "name": "stdout",
     "output_type": "stream",
     "text": [
      "Cambridge\n"
     ]
    }
   ],
   "source": [
    "ehtesham = {\n",
    "    \"demographics\":{\n",
    "        \"Address\": \"London\",\n",
    "        \"City\": \"Oxford\",\n",
    "        \"Town\": \"Cambridge\",\n",
    "    },\n",
    "    \"family\":{\n",
    "        \"m_name\" : \"Khurshida\",\n",
    "        \"f_name\": \"Muhammad Pervaiz\",\n",
    "        \"b_name\": \"Hassan Ali Khan\",\n",
    "        \"s_name\": \"Seemab Shaheen\",\n",
    "    },\n",
    "    \"profession\":{\n",
    "        \"job_title\":\"Cash Officer\",\n",
    "        \"Job_organization\":\"Bank al Habib\",\n",
    "        \"Job_location\": \"Attock,Punjab,Pakistan\",\n",
    "    },\n",
    "    \"hobbies\":{\n",
    "        \"hobbie_1\":\"gossips\",\n",
    "        \"hobbie_2\": \"travelling with friends\",\n",
    "        \"hobbie_3\": \"Youtube videos\",\n",
    "    },\n",
    "}\n",
    "\n",
    "a = ehtesham['demographics'][\"Town\"]\n",
    "print(a)"
   ]
  },
  {
   "cell_type": "code",
   "execution_count": 11,
   "id": "3abb6510",
   "metadata": {},
   "outputs": [],
   "source": [
    "#changing the town name\n",
    "ehtesham['demographics']['Town']= 'Palo Alto'"
   ]
  },
  {
   "cell_type": "code",
   "execution_count": 12,
   "id": "3757d26f",
   "metadata": {},
   "outputs": [
    {
     "name": "stdout",
     "output_type": "stream",
     "text": [
      "Palo Alto\n"
     ]
    }
   ],
   "source": [
    "print(ehtesham['demographics']['Town'])"
   ]
  },
  {
   "cell_type": "code",
   "execution_count": 17,
   "id": "1fbc815e",
   "metadata": {},
   "outputs": [
    {
     "name": "stdout",
     "output_type": "stream",
     "text": [
      "demographics\n",
      "family\n",
      "profession\n",
      "hobbies\n"
     ]
    }
   ],
   "source": [
    "for keys in ehtesham:\n",
    "    print(keys)"
   ]
  },
  {
   "cell_type": "code",
   "execution_count": 22,
   "id": "49e706a9",
   "metadata": {},
   "outputs": [
    {
     "name": "stdout",
     "output_type": "stream",
     "text": [
      "Address\n",
      "City\n",
      "Town\n"
     ]
    }
   ],
   "source": [
    "for values in ehtesham['demographics']:\n",
    "    print(values)"
   ]
  },
  {
   "cell_type": "code",
   "execution_count": 24,
   "id": "3f0a7aa7",
   "metadata": {},
   "outputs": [
    {
     "name": "stdout",
     "output_type": "stream",
     "text": [
      "m_name\n",
      "f_name\n",
      "b_name\n",
      "s_name\n"
     ]
    }
   ],
   "source": [
    "for values in ehtesham['family']:\n",
    "    print(values)"
   ]
  },
  {
   "cell_type": "code",
   "execution_count": 28,
   "id": "2e0f7d17",
   "metadata": {},
   "outputs": [],
   "source": [
    "value = []\n",
    "for values in ehtesham['demographics']:\n",
    "    value.append(values)"
   ]
  },
  {
   "cell_type": "code",
   "execution_count": 29,
   "id": "8215c8a0",
   "metadata": {},
   "outputs": [
    {
     "name": "stdout",
     "output_type": "stream",
     "text": [
      "['Address', 'City', 'Town']\n"
     ]
    }
   ],
   "source": [
    "print(value)"
   ]
  },
  {
   "cell_type": "code",
   "execution_count": 30,
   "id": "74c76296",
   "metadata": {},
   "outputs": [
    {
     "name": "stdout",
     "output_type": "stream",
     "text": [
      "Address\n",
      "City\n",
      "Town\n"
     ]
    }
   ],
   "source": [
    "for i in value:\n",
    "    print(i)"
   ]
  },
  {
   "cell_type": "code",
   "execution_count": null,
   "id": "131a24b0",
   "metadata": {},
   "outputs": [],
   "source": []
  }
 ],
 "metadata": {
  "kernelspec": {
   "display_name": "Python 3 (ipykernel)",
   "language": "python",
   "name": "python3"
  },
  "language_info": {
   "codemirror_mode": {
    "name": "ipython",
    "version": 3
   },
   "file_extension": ".py",
   "mimetype": "text/x-python",
   "name": "python",
   "nbconvert_exporter": "python",
   "pygments_lexer": "ipython3",
   "version": "3.9.7"
  }
 },
 "nbformat": 4,
 "nbformat_minor": 5
}
