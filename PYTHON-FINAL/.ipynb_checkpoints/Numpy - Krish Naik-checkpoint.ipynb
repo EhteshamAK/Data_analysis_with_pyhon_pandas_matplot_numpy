{
 "cells": [
  {
   "cell_type": "markdown",
   "id": "9d7b685a",
   "metadata": {},
   "source": [
    "# Numpy Tutorials\n",
    "Numpy is a general-purpose array processing package.It provides a high performance multidimensional array object and tool for working with these arrays. It is the fundamental package for scientific computing with python.\n",
    "\n",
    "# What is an array\n",
    "\n",
    "An array is a data structure that stores values of same data type ([1,2,3,4] or [\"a\",\"b\",\"c\",\"d\"]).In Python, this is the main difference array and lists. While python lists can contain values corresponding to different data types, arrays in python can only contain values corresponding to same data type."
   ]
  },
  {
   "cell_type": "code",
   "execution_count": 1,
   "id": "26a78830",
   "metadata": {},
   "outputs": [],
   "source": [
    "#  use for multidimension array"
   ]
  },
  {
   "cell_type": "code",
   "execution_count": 2,
   "id": "e13dae05",
   "metadata": {},
   "outputs": [],
   "source": [
    "import numpy as np"
   ]
  },
  {
   "cell_type": "code",
   "execution_count": 3,
   "id": "90f9b748",
   "metadata": {},
   "outputs": [],
   "source": [
    "### One dimensional array\n",
    "my_lst = [1,2,3,4,5]\n",
    "arr = np.array(my_lst)"
   ]
  },
  {
   "cell_type": "code",
   "execution_count": 4,
   "id": "b4fad4fd",
   "metadata": {},
   "outputs": [
    {
     "data": {
      "text/plain": [
       "array([1, 2, 3, 4, 5])"
      ]
     },
     "execution_count": 4,
     "metadata": {},
     "output_type": "execute_result"
    }
   ],
   "source": [
    "arr"
   ]
  },
  {
   "cell_type": "code",
   "execution_count": 5,
   "id": "c12e581b",
   "metadata": {},
   "outputs": [
    {
     "data": {
      "text/plain": [
       "(5,)"
      ]
     },
     "execution_count": 5,
     "metadata": {},
     "output_type": "execute_result"
    }
   ],
   "source": [
    "arr.shape"
   ]
  },
  {
   "cell_type": "code",
   "execution_count": 6,
   "id": "a8163fb1",
   "metadata": {},
   "outputs": [
    {
     "data": {
      "text/plain": [
       "numpy.ndarray"
      ]
     },
     "execution_count": 6,
     "metadata": {},
     "output_type": "execute_result"
    }
   ],
   "source": [
    "type(arr)"
   ]
  },
  {
   "cell_type": "code",
   "execution_count": 7,
   "id": "e8d83a94",
   "metadata": {},
   "outputs": [
    {
     "name": "stdout",
     "output_type": "stream",
     "text": [
      "[1 2 3 4 5]\n"
     ]
    }
   ],
   "source": [
    "print(arr)"
   ]
  },
  {
   "cell_type": "code",
   "execution_count": 8,
   "id": "fb2ec1bc",
   "metadata": {},
   "outputs": [],
   "source": [
    "## Multidimensional array\n",
    "list_1 = [1,2,3,4,5]\n",
    "list_2 = [6,7,8,9,10]\n",
    "list_3 = [11,12,13,14,15]\n",
    "# converting these list into multidimension array\n",
    "arr = np.array([list_1,list_2,list_3])"
   ]
  },
  {
   "cell_type": "code",
   "execution_count": 9,
   "id": "15f87c98",
   "metadata": {},
   "outputs": [
    {
     "data": {
      "text/plain": [
       "array([[ 1,  2,  3,  4,  5],\n",
       "       [ 6,  7,  8,  9, 10],\n",
       "       [11, 12, 13, 14, 15]])"
      ]
     },
     "execution_count": 9,
     "metadata": {},
     "output_type": "execute_result"
    }
   ],
   "source": [
    "arr"
   ]
  },
  {
   "cell_type": "code",
   "execution_count": 10,
   "id": "4885bba0",
   "metadata": {},
   "outputs": [
    {
     "data": {
      "text/plain": [
       "(3, 5)"
      ]
     },
     "execution_count": 10,
     "metadata": {},
     "output_type": "execute_result"
    }
   ],
   "source": [
    "arr.shape  # 3 rows and 5 columns"
   ]
  },
  {
   "cell_type": "markdown",
   "id": "8fa8d147",
   "metadata": {},
   "source": [
    "### Two dimension bracket \n",
    "It is always remember that in two dimensional bracket there are 2 opening bracket and 2 closing bracket.\n"
   ]
  },
  {
   "cell_type": "code",
   "execution_count": 11,
   "id": "54386456",
   "metadata": {},
   "outputs": [
    {
     "data": {
      "text/plain": [
       "array([[ 1,  2,  3],\n",
       "       [ 4,  5,  6],\n",
       "       [ 7,  8,  9],\n",
       "       [10, 11, 12],\n",
       "       [13, 14, 15]])"
      ]
     },
     "execution_count": 11,
     "metadata": {},
     "output_type": "execute_result"
    }
   ],
   "source": [
    "arr.reshape(5,3)"
   ]
  },
  {
   "cell_type": "code",
   "execution_count": 12,
   "id": "12b9d3e8",
   "metadata": {},
   "outputs": [
    {
     "data": {
      "text/plain": [
       "(3, 5)"
      ]
     },
     "execution_count": 12,
     "metadata": {},
     "output_type": "execute_result"
    }
   ],
   "source": [
    "arr.shape"
   ]
  },
  {
   "cell_type": "markdown",
   "id": "927cff05",
   "metadata": {},
   "source": [
    "# Indexing"
   ]
  },
  {
   "cell_type": "code",
   "execution_count": 13,
   "id": "32640fd1",
   "metadata": {},
   "outputs": [
    {
     "data": {
      "text/plain": [
       "array([[ 1,  2,  3,  4,  5],\n",
       "       [ 6,  7,  8,  9, 10],\n",
       "       [11, 12, 13, 14, 15]])"
      ]
     },
     "execution_count": 13,
     "metadata": {},
     "output_type": "execute_result"
    }
   ],
   "source": [
    "arr"
   ]
  },
  {
   "cell_type": "code",
   "execution_count": 14,
   "id": "d614c090",
   "metadata": {},
   "outputs": [],
   "source": [
    "arr8 = np.array([1,2,3,4,5,6,7,8,9])"
   ]
  },
  {
   "cell_type": "code",
   "execution_count": 15,
   "id": "6c948ba0",
   "metadata": {},
   "outputs": [
    {
     "data": {
      "text/plain": [
       "1"
      ]
     },
     "execution_count": 15,
     "metadata": {},
     "output_type": "execute_result"
    }
   ],
   "source": [
    "arr8[0]"
   ]
  },
  {
   "cell_type": "code",
   "execution_count": 16,
   "id": "63484b5a",
   "metadata": {},
   "outputs": [
    {
     "data": {
      "text/plain": [
       "array([[ 1,  2,  3,  4,  5],\n",
       "       [ 6,  7,  8,  9, 10],\n",
       "       [11, 12, 13, 14, 15]])"
      ]
     },
     "execution_count": 16,
     "metadata": {},
     "output_type": "execute_result"
    }
   ],
   "source": [
    "arr"
   ]
  },
  {
   "cell_type": "code",
   "execution_count": 17,
   "id": "25d7a979",
   "metadata": {},
   "outputs": [
    {
     "data": {
      "text/plain": [
       "array([[ 1,  2,  3,  4,  5],\n",
       "       [ 6,  7,  8,  9, 10]])"
      ]
     },
     "execution_count": 17,
     "metadata": {},
     "output_type": "execute_result"
    }
   ],
   "source": [
    "arr[0:2,:] #  on left side you can print rows from start to finish using given numbers"
   ]
  },
  {
   "cell_type": "code",
   "execution_count": 19,
   "id": "49b14877",
   "metadata": {},
   "outputs": [
    {
     "data": {
      "text/plain": [
       "array([[ 1,  2,  3],\n",
       "       [ 6,  7,  8],\n",
       "       [11, 12, 13]])"
      ]
     },
     "execution_count": 19,
     "metadata": {},
     "output_type": "execute_result"
    }
   ],
   "source": [
    "arr[:,0:3] # on right side you can print column values"
   ]
  },
  {
   "cell_type": "code",
   "execution_count": 21,
   "id": "8bbd006d",
   "metadata": {},
   "outputs": [],
   "source": [
    "arr_9 = np.arange(0,100)"
   ]
  },
  {
   "cell_type": "code",
   "execution_count": 22,
   "id": "3b29f3b8",
   "metadata": {},
   "outputs": [
    {
     "data": {
      "text/plain": [
       "array([ 0,  1,  2,  3,  4,  5,  6,  7,  8,  9, 10, 11, 12, 13, 14, 15, 16,\n",
       "       17, 18, 19, 20, 21, 22, 23, 24, 25, 26, 27, 28, 29, 30, 31, 32, 33,\n",
       "       34, 35, 36, 37, 38, 39, 40, 41, 42, 43, 44, 45, 46, 47, 48, 49, 50,\n",
       "       51, 52, 53, 54, 55, 56, 57, 58, 59, 60, 61, 62, 63, 64, 65, 66, 67,\n",
       "       68, 69, 70, 71, 72, 73, 74, 75, 76, 77, 78, 79, 80, 81, 82, 83, 84,\n",
       "       85, 86, 87, 88, 89, 90, 91, 92, 93, 94, 95, 96, 97, 98, 99])"
      ]
     },
     "execution_count": 22,
     "metadata": {},
     "output_type": "execute_result"
    }
   ],
   "source": [
    "arr_9"
   ]
  },
  {
   "cell_type": "code",
   "execution_count": 27,
   "id": "803c88c9",
   "metadata": {},
   "outputs": [
    {
     "data": {
      "text/plain": [
       "array([[ 0,  1,  2,  3,  4],\n",
       "       [ 5,  6,  7,  8,  9],\n",
       "       [10, 11, 12, 13, 14],\n",
       "       [15, 16, 17, 18, 19],\n",
       "       [20, 21, 22, 23, 24],\n",
       "       [25, 26, 27, 28, 29],\n",
       "       [30, 31, 32, 33, 34],\n",
       "       [35, 36, 37, 38, 39],\n",
       "       [40, 41, 42, 43, 44],\n",
       "       [45, 46, 47, 48, 49],\n",
       "       [50, 51, 52, 53, 54],\n",
       "       [55, 56, 57, 58, 59],\n",
       "       [60, 61, 62, 63, 64],\n",
       "       [65, 66, 67, 68, 69],\n",
       "       [70, 71, 72, 73, 74],\n",
       "       [75, 76, 77, 78, 79],\n",
       "       [80, 81, 82, 83, 84],\n",
       "       [85, 86, 87, 88, 89],\n",
       "       [90, 91, 92, 93, 94],\n",
       "       [95, 96, 97, 98, 99]])"
      ]
     },
     "execution_count": 27,
     "metadata": {},
     "output_type": "execute_result"
    }
   ],
   "source": [
    "arr_9.reshape([20,5])"
   ]
  },
  {
   "cell_type": "code",
   "execution_count": 33,
   "id": "ff085c58",
   "metadata": {},
   "outputs": [],
   "source": [
    "arr_9 = np.arange(0,11, step =2)"
   ]
  },
  {
   "cell_type": "code",
   "execution_count": 34,
   "id": "72581ec6",
   "metadata": {},
   "outputs": [
    {
     "data": {
      "text/plain": [
       "array([ 0,  2,  4,  6,  8, 10])"
      ]
     },
     "execution_count": 34,
     "metadata": {},
     "output_type": "execute_result"
    }
   ],
   "source": [
    "arr_9"
   ]
  },
  {
   "cell_type": "code",
   "execution_count": 36,
   "id": "c35e7793",
   "metadata": {},
   "outputs": [
    {
     "data": {
      "text/plain": [
       "array([[ 0,  2],\n",
       "       [ 4,  6],\n",
       "       [ 8, 10]])"
      ]
     },
     "execution_count": 36,
     "metadata": {},
     "output_type": "execute_result"
    }
   ],
   "source": [
    "arr_9.reshape(3,2)"
   ]
  },
  {
   "cell_type": "code",
   "execution_count": 38,
   "id": "8f30b74e",
   "metadata": {},
   "outputs": [],
   "source": [
    "arr_0 = np.arange(0,11)"
   ]
  },
  {
   "cell_type": "code",
   "execution_count": 39,
   "id": "afb8cc68",
   "metadata": {},
   "outputs": [
    {
     "data": {
      "text/plain": [
       "array([ 0,  1,  2,  3,  4,  5,  6,  7,  8,  9, 10])"
      ]
     },
     "execution_count": 39,
     "metadata": {},
     "output_type": "execute_result"
    }
   ],
   "source": [
    "arr_0"
   ]
  },
  {
   "cell_type": "code",
   "execution_count": 40,
   "id": "b41e75a2",
   "metadata": {},
   "outputs": [],
   "source": [
    "arr_0[3:]=100"
   ]
  },
  {
   "cell_type": "code",
   "execution_count": 41,
   "id": "9f6f1779",
   "metadata": {},
   "outputs": [
    {
     "data": {
      "text/plain": [
       "array([  0,   1,   2, 100, 100, 100, 100, 100, 100, 100, 100])"
      ]
     },
     "execution_count": 41,
     "metadata": {},
     "output_type": "execute_result"
    }
   ],
   "source": [
    "arr_0"
   ]
  },
  {
   "cell_type": "code",
   "execution_count": 45,
   "id": "5e808f53",
   "metadata": {},
   "outputs": [],
   "source": [
    "# Copy Function"
   ]
  },
  {
   "cell_type": "code",
   "execution_count": 46,
   "id": "00343dd1",
   "metadata": {},
   "outputs": [],
   "source": [
    "arr_01 = arr_0.copy()"
   ]
  },
  {
   "cell_type": "code",
   "execution_count": 47,
   "id": "edd2610b",
   "metadata": {},
   "outputs": [],
   "source": [
    "arr_0[3:]=500"
   ]
  },
  {
   "cell_type": "code",
   "execution_count": 48,
   "id": "3d758171",
   "metadata": {},
   "outputs": [
    {
     "name": "stdout",
     "output_type": "stream",
     "text": [
      "[  0   1   2 500 500 500 500 500 500 500 500]\n",
      "[  0   1   2 500 500 500 500 500 500 500 500]\n"
     ]
    }
   ],
   "source": [
    "print(arr_0)\n",
    "print(arr_01)"
   ]
  },
  {
   "cell_type": "code",
   "execution_count": 49,
   "id": "eb6f8109",
   "metadata": {},
   "outputs": [],
   "source": [
    "# Some conditions very useful in exploratory data analaysis"
   ]
  },
  {
   "cell_type": "code",
   "execution_count": 50,
   "id": "821f4155",
   "metadata": {},
   "outputs": [
    {
     "data": {
      "text/plain": [
       "array([  0,   1,   2, 500, 500, 500, 500, 500, 500, 500, 500])"
      ]
     },
     "execution_count": 50,
     "metadata": {},
     "output_type": "execute_result"
    }
   ],
   "source": [
    "arr_0"
   ]
  },
  {
   "cell_type": "code",
   "execution_count": 56,
   "id": "2ff22fa1",
   "metadata": {},
   "outputs": [
    {
     "data": {
      "text/plain": [
       "array([   0,    3,    6, 1500, 1500, 1500, 1500, 1500, 1500, 1500, 1500])"
      ]
     },
     "execution_count": 56,
     "metadata": {},
     "output_type": "execute_result"
    }
   ],
   "source": [
    "arr_0*3 # perform all kind of math operation using this"
   ]
  },
  {
   "cell_type": "code",
   "execution_count": 57,
   "id": "c154c086",
   "metadata": {},
   "outputs": [
    {
     "data": {
      "text/plain": [
       "array([0, 1, 2])"
      ]
     },
     "execution_count": 57,
     "metadata": {},
     "output_type": "execute_result"
    }
   ],
   "source": [
    "arr_0[arr_0<500]"
   ]
  },
  {
   "cell_type": "code",
   "execution_count": 61,
   "id": "f5f25a19",
   "metadata": {},
   "outputs": [],
   "source": [
    "## creating arrays and reshape\n",
    "arr001 = np.arange(0,50).reshape(10,5)\n",
    "arr002 = np.arange(0,50).reshape(10,5)"
   ]
  },
  {
   "cell_type": "code",
   "execution_count": 62,
   "id": "07f02434",
   "metadata": {},
   "outputs": [
    {
     "data": {
      "text/plain": [
       "array([[   0,    1,    4,    9,   16],\n",
       "       [  25,   36,   49,   64,   81],\n",
       "       [ 100,  121,  144,  169,  196],\n",
       "       [ 225,  256,  289,  324,  361],\n",
       "       [ 400,  441,  484,  529,  576],\n",
       "       [ 625,  676,  729,  784,  841],\n",
       "       [ 900,  961, 1024, 1089, 1156],\n",
       "       [1225, 1296, 1369, 1444, 1521],\n",
       "       [1600, 1681, 1764, 1849, 1936],\n",
       "       [2025, 2116, 2209, 2304, 2401]])"
      ]
     },
     "execution_count": 62,
     "metadata": {},
     "output_type": "execute_result"
    }
   ],
   "source": [
    "arr001*arr002"
   ]
  },
  {
   "cell_type": "code",
   "execution_count": 67,
   "id": "b08e6679",
   "metadata": {},
   "outputs": [
    {
     "data": {
      "text/plain": [
       "array([1., 1., 1.])"
      ]
     },
     "execution_count": 67,
     "metadata": {},
     "output_type": "execute_result"
    }
   ],
   "source": [
    "np.ones(3) #  by default is float"
   ]
  },
  {
   "cell_type": "code",
   "execution_count": 68,
   "id": "96087ec6",
   "metadata": {},
   "outputs": [
    {
     "data": {
      "text/plain": [
       "array([1, 1, 1, 1, 1, 1, 1, 1, 1, 1])"
      ]
     },
     "execution_count": 68,
     "metadata": {},
     "output_type": "execute_result"
    }
   ],
   "source": [
    "np.ones(10,dtype=int)"
   ]
  },
  {
   "cell_type": "code",
   "execution_count": 69,
   "id": "362c4c81",
   "metadata": {},
   "outputs": [
    {
     "data": {
      "text/plain": [
       "array(['1', '1', '1', '1', '1', '1', '1', '1', '1', '1'], dtype='<U1')"
      ]
     },
     "execution_count": 69,
     "metadata": {},
     "output_type": "execute_result"
    }
   ],
   "source": [
    "np.ones(10,dtype=str)"
   ]
  },
  {
   "cell_type": "code",
   "execution_count": 70,
   "id": "66f8ec98",
   "metadata": {},
   "outputs": [
    {
     "data": {
      "text/plain": [
       "array([[0.7761309 , 0.4331947 , 0.05001604],\n",
       "       [0.99881908, 0.40052684, 0.07087931],\n",
       "       [0.52763631, 0.93957595, 0.11986316]])"
      ]
     },
     "execution_count": 70,
     "metadata": {},
     "output_type": "execute_result"
    }
   ],
   "source": [
    "### Random distribution\n",
    "np.random.rand(3,3)"
   ]
  },
  {
   "cell_type": "code",
   "execution_count": 72,
   "id": "d43169cc",
   "metadata": {},
   "outputs": [
    {
     "data": {
      "text/plain": [
       "array([[0.88435903, 0.48089349, 0.05863034, 0.14487077, 0.5249075 ],\n",
       "       [0.46456357, 0.7395209 , 0.69763743, 0.7193077 , 0.00122822],\n",
       "       [0.68389136, 0.57339805, 0.01212926, 0.60867376, 0.61960809]])"
      ]
     },
     "execution_count": 72,
     "metadata": {},
     "output_type": "execute_result"
    }
   ],
   "source": [
    "np.random.rand(3,5)"
   ]
  },
  {
   "cell_type": "code",
   "execution_count": null,
   "id": "603de04a",
   "metadata": {},
   "outputs": [],
   "source": []
  }
 ],
 "metadata": {
  "kernelspec": {
   "display_name": "Python 3 (ipykernel)",
   "language": "python",
   "name": "python3"
  },
  "language_info": {
   "codemirror_mode": {
    "name": "ipython",
    "version": 3
   },
   "file_extension": ".py",
   "mimetype": "text/x-python",
   "name": "python",
   "nbconvert_exporter": "python",
   "pygments_lexer": "ipython3",
   "version": "3.9.7"
  }
 },
 "nbformat": 4,
 "nbformat_minor": 5
}
