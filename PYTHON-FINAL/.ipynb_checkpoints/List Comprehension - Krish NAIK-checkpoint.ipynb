{
 "cells": [
  {
   "cell_type": "markdown",
   "id": "2f15720d",
   "metadata": {},
   "source": [
    "# List Comprehension\n",
    "- list comprehension provide a concise way to  create list\n",
    "- It consist of brackets containing an expression followed by a for clause, then zero or more for of if clause\n",
    "- The expression can be anything, meaning you  can put in  all kind of object in lists "
   ]
  },
  {
   "cell_type": "code",
   "execution_count": 7,
   "id": "d33118b2",
   "metadata": {},
   "outputs": [],
   "source": [
    "list_1 = []\n",
    "def square_list(lst):\n",
    "    for i in lst:\n",
    "        list_1.append(i*i)\n",
    "    return list_1"
   ]
  },
  {
   "cell_type": "code",
   "execution_count": 8,
   "id": "0dc41b08",
   "metadata": {},
   "outputs": [
    {
     "data": {
      "text/plain": [
       "[1, 4, 9, 16, 25, 36]"
      ]
     },
     "execution_count": 8,
     "metadata": {},
     "output_type": "execute_result"
    }
   ],
   "source": [
    "square_list([1,2,3,4,5,6])"
   ]
  },
  {
   "cell_type": "code",
   "execution_count": 9,
   "id": "8376490c",
   "metadata": {},
   "outputs": [
    {
     "data": {
      "text/plain": [
       "[1, 4, 9, 16, 25, 36]"
      ]
     },
     "execution_count": 9,
     "metadata": {},
     "output_type": "execute_result"
    }
   ],
   "source": [
    "# using list comprehension\n",
    "lst = [1,2,3,4,5,6] \n",
    "[i*i for i in lst]"
   ]
  },
  {
   "cell_type": "code",
   "execution_count": 13,
   "id": "26506a30",
   "metadata": {},
   "outputs": [
    {
     "data": {
      "text/plain": [
       "[4, 16, 36]"
      ]
     },
     "execution_count": 13,
     "metadata": {},
     "output_type": "execute_result"
    }
   ],
   "source": [
    "[i*i for i in lst if i%2==0]"
   ]
  }
 ],
 "metadata": {
  "kernelspec": {
   "display_name": "Python 3 (ipykernel)",
   "language": "python",
   "name": "python3"
  },
  "language_info": {
   "codemirror_mode": {
    "name": "ipython",
    "version": 3
   },
   "file_extension": ".py",
   "mimetype": "text/x-python",
   "name": "python",
   "nbconvert_exporter": "python",
   "pygments_lexer": "ipython3",
   "version": "3.9.7"
  }
 },
 "nbformat": 4,
 "nbformat_minor": 5
}
