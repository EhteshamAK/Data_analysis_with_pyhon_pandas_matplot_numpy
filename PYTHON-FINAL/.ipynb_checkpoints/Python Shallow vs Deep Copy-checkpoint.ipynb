{
 "cells": [
  {
   "cell_type": "code",
   "execution_count": null,
   "id": "84ee31e6",
   "metadata": {},
   "outputs": [],
   "source": [
    "## =, copy,deepcopy"
   ]
  },
  {
   "cell_type": "code",
   "execution_count": 2,
   "id": "998f9a59",
   "metadata": {},
   "outputs": [],
   "source": [
    "list1 = [1,2,3,4]\n",
    "list2 = list1"
   ]
  },
  {
   "cell_type": "code",
   "execution_count": 5,
   "id": "43db6539",
   "metadata": {},
   "outputs": [
    {
     "data": {
      "text/plain": [
       "[1, 2, 3, 4]"
      ]
     },
     "execution_count": 5,
     "metadata": {},
     "output_type": "execute_result"
    }
   ],
   "source": [
    "list2"
   ]
  },
  {
   "cell_type": "code",
   "execution_count": 6,
   "id": "4e1c6741",
   "metadata": {},
   "outputs": [],
   "source": [
    "#copy\n",
    "# shallow copy \n",
    "\n",
    "list1 = [1,2,3,4]\n",
    "list2 = list1.copy()"
   ]
  },
  {
   "cell_type": "code",
   "execution_count": 8,
   "id": "6d2fd581",
   "metadata": {},
   "outputs": [
    {
     "data": {
      "text/plain": [
       "([1, 2, 3, 4], [1, 2, 3, 4])"
      ]
     },
     "execution_count": 8,
     "metadata": {},
     "output_type": "execute_result"
    }
   ],
   "source": [
    "list2,list1"
   ]
  },
  {
   "cell_type": "code",
   "execution_count": 9,
   "id": "e0bfbfd3",
   "metadata": {},
   "outputs": [],
   "source": [
    "list2[0] = 10000 # it does affect the original list"
   ]
  },
  {
   "cell_type": "code",
   "execution_count": 10,
   "id": "561ebac3",
   "metadata": {},
   "outputs": [
    {
     "data": {
      "text/plain": [
       "([1, 2, 3, 4], [10000, 2, 3, 4])"
      ]
     },
     "execution_count": 10,
     "metadata": {},
     "output_type": "execute_result"
    }
   ],
   "source": [
    "list1,list2 "
   ]
  },
  {
   "cell_type": "code",
   "execution_count": 12,
   "id": "e57eb132",
   "metadata": {},
   "outputs": [],
   "source": [
    "# shallow copy  nested list\n",
    "lst1 = [[1,2,3,4],[5,6,7,8]]\n",
    "lst2 = lst1.copy()"
   ]
  },
  {
   "cell_type": "code",
   "execution_count": 13,
   "id": "80bdb7f5",
   "metadata": {},
   "outputs": [
    {
     "data": {
      "text/plain": [
       "[[1, 2, 3, 4], [5, 6, 7, 8]]"
      ]
     },
     "execution_count": 13,
     "metadata": {},
     "output_type": "execute_result"
    }
   ],
   "source": [
    "lst2"
   ]
  },
  {
   "cell_type": "code",
   "execution_count": 14,
   "id": "ef335941",
   "metadata": {},
   "outputs": [
    {
     "data": {
      "text/plain": [
       "([[1, 2, 3, 4], [5, 6, 7, 8]], [[1, 2, 3, 4], [5, 6, 7, 8]])"
      ]
     },
     "execution_count": 14,
     "metadata": {},
     "output_type": "execute_result"
    }
   ],
   "source": [
    "lst1,lst2"
   ]
  },
  {
   "cell_type": "markdown",
   "id": "e9577b71",
   "metadata": {},
   "source": [
    "when you make changes in any shallow nested list it  affect the original list. When you add separate list using append method in any list it will make impact\n"
   ]
  },
  {
   "cell_type": "code",
   "execution_count": 15,
   "id": "86578fe0",
   "metadata": {},
   "outputs": [],
   "source": [
    "lst2[0][1] = 1000"
   ]
  },
  {
   "cell_type": "code",
   "execution_count": 16,
   "id": "f5c3dabc",
   "metadata": {},
   "outputs": [
    {
     "data": {
      "text/plain": [
       "[[1, 1000, 3, 4], [5, 6, 7, 8]]"
      ]
     },
     "execution_count": 16,
     "metadata": {},
     "output_type": "execute_result"
    }
   ],
   "source": [
    "lst2"
   ]
  },
  {
   "cell_type": "code",
   "execution_count": 17,
   "id": "c1cf1575",
   "metadata": {},
   "outputs": [
    {
     "data": {
      "text/plain": [
       "[[1, 1000, 3, 4], [5, 6, 7, 8]]"
      ]
     },
     "execution_count": 17,
     "metadata": {},
     "output_type": "execute_result"
    }
   ],
   "source": [
    "lst1"
   ]
  },
  {
   "cell_type": "code",
   "execution_count": 18,
   "id": "cd331552",
   "metadata": {},
   "outputs": [],
   "source": [
    "# deep copy"
   ]
  },
  {
   "cell_type": "code",
   "execution_count": 19,
   "id": "55cffed3",
   "metadata": {},
   "outputs": [],
   "source": [
    "import copy"
   ]
  },
  {
   "cell_type": "code",
   "execution_count": 20,
   "id": "4137ea2a",
   "metadata": {},
   "outputs": [],
   "source": [
    "lst1 = [1,2,3,4]\n",
    "lst2 = copy.deepcopy(lst1)"
   ]
  },
  {
   "cell_type": "code",
   "execution_count": 21,
   "id": "b1770729",
   "metadata": {},
   "outputs": [
    {
     "data": {
      "text/plain": [
       "([1, 2, 3, 4], [1, 2, 3, 4])"
      ]
     },
     "execution_count": 21,
     "metadata": {},
     "output_type": "execute_result"
    }
   ],
   "source": [
    "lst2,lst1"
   ]
  },
  {
   "cell_type": "code",
   "execution_count": 22,
   "id": "02563337",
   "metadata": {},
   "outputs": [],
   "source": [
    "lst1[2] = 100"
   ]
  },
  {
   "cell_type": "code",
   "execution_count": 23,
   "id": "8b1b1a35",
   "metadata": {},
   "outputs": [
    {
     "data": {
      "text/plain": [
       "([1, 2, 100, 4], [1, 2, 3, 4])"
      ]
     },
     "execution_count": 23,
     "metadata": {},
     "output_type": "execute_result"
    }
   ],
   "source": [
    "lst1,lst2"
   ]
  },
  {
   "cell_type": "code",
   "execution_count": 24,
   "id": "70783570",
   "metadata": {},
   "outputs": [],
   "source": [
    "# in a normal list shallow copy  is equal to deep copy"
   ]
  },
  {
   "cell_type": "code",
   "execution_count": 26,
   "id": "30d90947",
   "metadata": {},
   "outputs": [],
   "source": [
    "list1 = [[1,2,3],[4,5,6],[7,8,9]]\n",
    "list2 = copy.deepcopy(list1)"
   ]
  },
  {
   "cell_type": "code",
   "execution_count": 27,
   "id": "85cd6cfc",
   "metadata": {},
   "outputs": [],
   "source": [
    "list2[2][0] = 1000"
   ]
  },
  {
   "cell_type": "code",
   "execution_count": 28,
   "id": "bc93434e",
   "metadata": {},
   "outputs": [
    {
     "data": {
      "text/plain": [
       "[[1, 2, 3], [4, 5, 6], [1000, 8, 9]]"
      ]
     },
     "execution_count": 28,
     "metadata": {},
     "output_type": "execute_result"
    }
   ],
   "source": [
    "list2"
   ]
  },
  {
   "cell_type": "code",
   "execution_count": 30,
   "id": "70ebff01",
   "metadata": {},
   "outputs": [
    {
     "data": {
      "text/plain": [
       "[[1, 2, 3], [4, 5, 6], [7, 8, 9]]"
      ]
     },
     "execution_count": 30,
     "metadata": {},
     "output_type": "execute_result"
    }
   ],
   "source": [
    "list1 # original does not affected"
   ]
  },
  {
   "cell_type": "code",
   "execution_count": 31,
   "id": "2511d87a",
   "metadata": {},
   "outputs": [],
   "source": [
    "##    copy example"
   ]
  },
  {
   "cell_type": "code",
   "execution_count": 33,
   "id": "a65093f9",
   "metadata": {},
   "outputs": [],
   "source": [
    "list_1 = [1,2,3]\n",
    "list_2 = list_1.copy()"
   ]
  },
  {
   "cell_type": "code",
   "execution_count": 34,
   "id": "28c26ff2",
   "metadata": {},
   "outputs": [
    {
     "data": {
      "text/plain": [
       "([1, 2, 3], [1, 2, 3])"
      ]
     },
     "execution_count": 34,
     "metadata": {},
     "output_type": "execute_result"
    }
   ],
   "source": [
    "list_1,list_2"
   ]
  },
  {
   "cell_type": "code",
   "execution_count": 35,
   "id": "9194c6be",
   "metadata": {},
   "outputs": [],
   "source": [
    "list_2[0] = 100"
   ]
  },
  {
   "cell_type": "code",
   "execution_count": 36,
   "id": "59d98b47",
   "metadata": {},
   "outputs": [
    {
     "data": {
      "text/plain": [
       "([100, 2, 3], [1, 2, 3])"
      ]
     },
     "execution_count": 36,
     "metadata": {},
     "output_type": "execute_result"
    }
   ],
   "source": [
    "list_2,list_1"
   ]
  },
  {
   "cell_type": "code",
   "execution_count": null,
   "id": "1f8e5706",
   "metadata": {},
   "outputs": [],
   "source": []
  }
 ],
 "metadata": {
  "kernelspec": {
   "display_name": "Python 3 (ipykernel)",
   "language": "python",
   "name": "python3"
  },
  "language_info": {
   "codemirror_mode": {
    "name": "ipython",
    "version": 3
   },
   "file_extension": ".py",
   "mimetype": "text/x-python",
   "name": "python",
   "nbconvert_exporter": "python",
   "pygments_lexer": "ipython3",
   "version": "3.9.7"
  }
 },
 "nbformat": 4,
 "nbformat_minor": 5
}
