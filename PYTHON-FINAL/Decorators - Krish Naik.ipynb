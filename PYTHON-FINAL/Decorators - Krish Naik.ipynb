{
 "cells": [
  {
   "cell_type": "markdown",
   "id": "bfefe296",
   "metadata": {},
   "source": [
    "1. Function copy\n",
    "2. Closures\n",
    "3. Decorators"
   ]
  },
  {
   "cell_type": "markdown",
   "id": "2e9ddd81",
   "metadata": {},
   "source": [
    "## Function Copy"
   ]
  },
  {
   "cell_type": "code",
   "execution_count": 2,
   "id": "e53b4edd",
   "metadata": {},
   "outputs": [],
   "source": [
    "def welcome():\n",
    "    return \"Welcome to Eak Land\""
   ]
  },
  {
   "cell_type": "code",
   "execution_count": 3,
   "id": "55120814",
   "metadata": {},
   "outputs": [],
   "source": [
    "# we should use return keyword in function for creating a copy"
   ]
  },
  {
   "cell_type": "code",
   "execution_count": 4,
   "id": "546bcc1a",
   "metadata": {},
   "outputs": [],
   "source": [
    "# now we are  creating copy of welcome and in the second step we delete the original function -\n",
    "#  - and copy the name\n",
    "wel = welcome()"
   ]
  },
  {
   "cell_type": "code",
   "execution_count": 5,
   "id": "4b74f76d",
   "metadata": {},
   "outputs": [],
   "source": [
    "del welcome"
   ]
  },
  {
   "cell_type": "code",
   "execution_count": 6,
   "id": "19457649",
   "metadata": {},
   "outputs": [
    {
     "data": {
      "text/plain": [
       "'Welcome to Eak Land'"
      ]
     },
     "execution_count": 6,
     "metadata": {},
     "output_type": "execute_result"
    }
   ],
   "source": [
    "wel"
   ]
  },
  {
   "cell_type": "markdown",
   "id": "67373236",
   "metadata": {},
   "source": [
    "## Closures"
   ]
  },
  {
   "cell_type": "code",
   "execution_count": 7,
   "id": "8e7a9d65",
   "metadata": {},
   "outputs": [],
   "source": [
    "# accessing parameter inside another function is called closured"
   ]
  },
  {
   "cell_type": "code",
   "execution_count": 8,
   "id": "e9d81b0e",
   "metadata": {},
   "outputs": [],
   "source": [
    "def welcome(name):\n",
    "    def sub_welcome():\n",
    "        print(\"Welcome!\")\n",
    "        print(name)\n",
    "        print(\"How are you!\")\n",
    "    return sub_welcome()"
   ]
  },
  {
   "cell_type": "code",
   "execution_count": 9,
   "id": "4d440cb1",
   "metadata": {},
   "outputs": [
    {
     "name": "stdout",
     "output_type": "stream",
     "text": [
      "Welcome!\n",
      "Ali\n",
      "How are you!\n"
     ]
    }
   ],
   "source": [
    "welcome(\"Ali\")"
   ]
  },
  {
   "cell_type": "code",
   "execution_count": 10,
   "id": "1622536e",
   "metadata": {},
   "outputs": [],
   "source": [
    "# closure and initial decorator -- inside a parameter we can give function as a parameter\n",
    "\n",
    "def welcome(function):\n",
    "    def sub_welcome():\n",
    "        print(\"Welcome!\")\n",
    "        function(\"to Pakistan Ehtesham! This is the most beautiful country and \")\n",
    "        print(\"How are you!\")\n",
    "    return sub_welcome()"
   ]
  },
  {
   "cell_type": "code",
   "execution_count": 11,
   "id": "7936fb12",
   "metadata": {},
   "outputs": [
    {
     "name": "stdout",
     "output_type": "stream",
     "text": [
      "Welcome!\n",
      "to Pakistan Ehtesham! This is the most beautiful country and \n",
      "How are you!\n"
     ]
    }
   ],
   "source": [
    "# we can write any in built function in this\n",
    "\n",
    "welcome(print)"
   ]
  },
  {
   "cell_type": "code",
   "execution_count": 14,
   "id": "4cff7885",
   "metadata": {},
   "outputs": [],
   "source": [
    "\n",
    "def welcome(function):\n",
    "    def sub_welcome():\n",
    "        print(\"Welcome!\")\n",
    "        print(function(\"to Pakistan Ehtesham! This is the most beautiful country and \"))\n",
    "        print(\"How are you!\")\n",
    "    return sub_welcome()"
   ]
  },
  {
   "cell_type": "code",
   "execution_count": 15,
   "id": "e9f7571b",
   "metadata": {},
   "outputs": [
    {
     "name": "stdout",
     "output_type": "stream",
     "text": [
      "Welcome!\n",
      "61\n",
      "How are you!\n"
     ]
    }
   ],
   "source": [
    "welcome(len)"
   ]
  },
  {
   "cell_type": "code",
   "execution_count": 16,
   "id": "1772b891",
   "metadata": {},
   "outputs": [],
   "source": [
    "#decorator\n",
    "def welcome(function):\n",
    "    def sub_welcome():\n",
    "        print(\"Welcome!\")\n",
    "        function()\n",
    "        print(\"How are you!\")\n",
    "    return sub_welcome()"
   ]
  },
  {
   "cell_type": "code",
   "execution_count": 17,
   "id": "01bc6ba2",
   "metadata": {},
   "outputs": [],
   "source": [
    "def nested_function():\n",
    "    print(\"This is another function\")"
   ]
  },
  {
   "cell_type": "code",
   "execution_count": 20,
   "id": "ac1e11c4",
   "metadata": {},
   "outputs": [
    {
     "name": "stdout",
     "output_type": "stream",
     "text": [
      "Welcome!\n",
      "This is another function\n",
      "How are you!\n"
     ]
    }
   ],
   "source": [
    "a = welcome(nested_function) # this is just a one way of calling the function"
   ]
  },
  {
   "cell_type": "markdown",
   "id": "4ffd36c2",
   "metadata": {},
   "source": [
    "This is another and the most common way to define decorators. function within function"
   ]
  },
  {
   "cell_type": "code",
   "execution_count": 22,
   "id": "021681ff",
   "metadata": {},
   "outputs": [
    {
     "name": "stdout",
     "output_type": "stream",
     "text": [
      "Welcome!\n",
      "This is another function\n",
      "How are you!\n"
     ]
    }
   ],
   "source": [
    "@welcome\n",
    "def nested_function():\n",
    "    print(\"This is another function\")"
   ]
  },
  {
   "cell_type": "code",
   "execution_count": null,
   "id": "9482a663",
   "metadata": {},
   "outputs": [],
   "source": []
  }
 ],
 "metadata": {
  "kernelspec": {
   "display_name": "Python 3 (ipykernel)",
   "language": "python",
   "name": "python3"
  },
  "language_info": {
   "codemirror_mode": {
    "name": "ipython",
    "version": 3
   },
   "file_extension": ".py",
   "mimetype": "text/x-python",
   "name": "python",
   "nbconvert_exporter": "python",
   "pygments_lexer": "ipython3",
   "version": "3.9.7"
  }
 },
 "nbformat": 4,
 "nbformat_minor": 5
}
