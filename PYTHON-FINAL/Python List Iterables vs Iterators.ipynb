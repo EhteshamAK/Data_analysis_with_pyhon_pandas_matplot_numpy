{
 "cells": [
  {
   "cell_type": "code",
   "execution_count": 3,
   "id": "ba0ed815",
   "metadata": {},
   "outputs": [
    {
     "name": "stdout",
     "output_type": "stream",
     "text": [
      "1\n",
      "5\n",
      "6\n",
      "7\n",
      "8\n",
      "9\n",
      "101\n",
      "11\n",
      "12\n",
      "32\n",
      "25\n"
     ]
    }
   ],
   "source": [
    "### List is Iterable\n",
    "\n",
    "lst = [1,5,6,7,8,9,101,11,12,32,25]\n",
    "\n",
    "for num in lst:\n",
    "    print(num)"
   ]
  },
  {
   "cell_type": "markdown",
   "id": "c7c4ebe9",
   "metadata": {},
   "source": [
    "suppose you have million of values in list that is stored in memory that will take alot of memory location, then we use iterator to store and use only required items in the memory of the computer"
   ]
  },
  {
   "cell_type": "code",
   "execution_count": 9,
   "id": "277a1824",
   "metadata": {},
   "outputs": [],
   "source": [
    "lst1 = iter(lst)"
   ]
  },
  {
   "cell_type": "code",
   "execution_count": 10,
   "id": "bb2a27d5",
   "metadata": {},
   "outputs": [
    {
     "data": {
      "text/plain": [
       "1"
      ]
     },
     "execution_count": 10,
     "metadata": {},
     "output_type": "execute_result"
    }
   ],
   "source": [
    "next(lst1)"
   ]
  },
  {
   "cell_type": "code",
   "execution_count": 11,
   "id": "b926be78",
   "metadata": {},
   "outputs": [
    {
     "data": {
      "text/plain": [
       "5"
      ]
     },
     "execution_count": 11,
     "metadata": {},
     "output_type": "execute_result"
    }
   ],
   "source": [
    "next(lst1)"
   ]
  },
  {
   "cell_type": "code",
   "execution_count": 12,
   "id": "143f5b11",
   "metadata": {
    "scrolled": true
   },
   "outputs": [
    {
     "name": "stdout",
     "output_type": "stream",
     "text": [
      "6\n",
      "7\n",
      "8\n",
      "9\n",
      "101\n",
      "11\n",
      "12\n",
      "32\n",
      "25\n"
     ]
    }
   ],
   "source": [
    "# we can access the remaining values in for loop as well\n",
    "for i in lst1:\n",
    "    print(i)"
   ]
  },
  {
   "cell_type": "code",
   "execution_count": null,
   "id": "d50ce0de",
   "metadata": {},
   "outputs": [],
   "source": []
  }
 ],
 "metadata": {
  "kernelspec": {
   "display_name": "Python 3 (ipykernel)",
   "language": "python",
   "name": "python3"
  },
  "language_info": {
   "codemirror_mode": {
    "name": "ipython",
    "version": 3
   },
   "file_extension": ".py",
   "mimetype": "text/x-python",
   "name": "python",
   "nbconvert_exporter": "python",
   "pygments_lexer": "ipython3",
   "version": "3.9.7"
  }
 },
 "nbformat": 4,
 "nbformat_minor": 5
}
