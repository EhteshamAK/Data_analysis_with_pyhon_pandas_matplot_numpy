{
 "cells": [
  {
   "cell_type": "markdown",
   "id": "a0a07833",
   "metadata": {},
   "source": [
    "# Functions in Python\n",
    "- Why Functions\n",
    "- Function Definition\n",
    "- Positional and Keyword Arguments in Function"
   ]
  },
  {
   "cell_type": "code",
   "execution_count": 2,
   "id": "67086f19",
   "metadata": {},
   "outputs": [],
   "source": [
    "num = 24"
   ]
  },
  {
   "cell_type": "code",
   "execution_count": 3,
   "id": "211d811a",
   "metadata": {},
   "outputs": [],
   "source": [
    "def even(num):\n",
    "    if num%2==0:\n",
    "        print(\"The number is even\")\n",
    "    else:\n",
    "        print(\"the number is odd\")"
   ]
  },
  {
   "cell_type": "code",
   "execution_count": 4,
   "id": "6d50c0c1",
   "metadata": {},
   "outputs": [
    {
     "name": "stdout",
     "output_type": "stream",
     "text": [
      "the number is odd\n"
     ]
    }
   ],
   "source": [
    "even(23)"
   ]
  },
  {
   "cell_type": "code",
   "execution_count": 5,
   "id": "828729d5",
   "metadata": {},
   "outputs": [
    {
     "name": "stdout",
     "output_type": "stream",
     "text": [
      "The number is even\n"
     ]
    }
   ],
   "source": [
    "even(24)"
   ]
  },
  {
   "cell_type": "code",
   "execution_count": 14,
   "id": "54f2fd3a",
   "metadata": {},
   "outputs": [],
   "source": [
    "def two_numbers(num1,num2):\n",
    "    if num1%2==0 and num2%2==0:\n",
    "        print(\"Both numbers are even\")\n",
    "    elif  num1%2==0 and num2%2 !=0:\n",
    "        print(\"Number is even and Number 2 is odd\")\n",
    "    elif num1%2 !=0 and num2%2 == 0:\n",
    "        print(\"Number 1 is even and Number 2 is odd\")\n",
    "    else:\n",
    "        print(\"Both are odd numbers\")\n",
    "    return \"Their sum is {}\".format(num1+num2) "
   ]
  },
  {
   "cell_type": "code",
   "execution_count": 15,
   "id": "60016ba3",
   "metadata": {},
   "outputs": [
    {
     "name": "stdout",
     "output_type": "stream",
     "text": [
      "Number is even and Number 2 is odd\n"
     ]
    },
    {
     "data": {
      "text/plain": [
       "'Their sum is 5'"
      ]
     },
     "execution_count": 15,
     "metadata": {},
     "output_type": "execute_result"
    }
   ],
   "source": [
    "two_numbers(2,3)"
   ]
  },
  {
   "cell_type": "code",
   "execution_count": 16,
   "id": "ab9d8cf5",
   "metadata": {},
   "outputs": [
    {
     "name": "stdout",
     "output_type": "stream",
     "text": [
      "Number is even and Number 2 is odd\n"
     ]
    },
    {
     "data": {
      "text/plain": [
       "'Their sum is 25'"
      ]
     },
     "execution_count": 16,
     "metadata": {},
     "output_type": "execute_result"
    }
   ],
   "source": [
    "two_numbers(10,15)"
   ]
  },
  {
   "cell_type": "code",
   "execution_count": 17,
   "id": "0f678058",
   "metadata": {},
   "outputs": [
    {
     "name": "stdout",
     "output_type": "stream",
     "text": [
      "Both are odd numbers\n"
     ]
    },
    {
     "data": {
      "text/plain": [
       "'Their sum is 22'"
      ]
     },
     "execution_count": 17,
     "metadata": {},
     "output_type": "execute_result"
    }
   ],
   "source": [
    "two_numbers(11,11)"
   ]
  },
  {
   "cell_type": "code",
   "execution_count": 18,
   "id": "e29bfcea",
   "metadata": {},
   "outputs": [
    {
     "name": "stdout",
     "output_type": "stream",
     "text": [
      "Number 1 is even and Number 2 is odd\n"
     ]
    },
    {
     "data": {
      "text/plain": [
       "'Their sum is 23'"
      ]
     },
     "execution_count": 18,
     "metadata": {},
     "output_type": "execute_result"
    }
   ],
   "source": [
    "two_numbers(11,12)"
   ]
  },
  {
   "cell_type": "markdown",
   "id": "370f3893",
   "metadata": {},
   "source": [
    "## Positional Arguments and Keyword argument"
   ]
  },
  {
   "cell_type": "code",
   "execution_count": 25,
   "id": "4eda85c8",
   "metadata": {},
   "outputs": [],
   "source": [
    "def human(name,country=\"Pakistan\"): # name is positional argument and country is keyword argument\n",
    "    print(\"My name is {} and my country is {}\".format(name,country))"
   ]
  },
  {
   "cell_type": "code",
   "execution_count": 26,
   "id": "88ff9908",
   "metadata": {},
   "outputs": [
    {
     "name": "stdout",
     "output_type": "stream",
     "text": [
      "My name is Ehtesham and my country is Saudia Arabia\n"
     ]
    }
   ],
   "source": [
    "human(\"Ehtesham\",\"Saudia Arabia\")"
   ]
  },
  {
   "cell_type": "code",
   "execution_count": 29,
   "id": "783a152d",
   "metadata": {},
   "outputs": [
    {
     "name": "stdout",
     "output_type": "stream",
     "text": [
      "My name is Ali and my country is Pakistan\n"
     ]
    }
   ],
   "source": [
    "human(\"Ali\")"
   ]
  },
  {
   "cell_type": "markdown",
   "id": "6e56676f",
   "metadata": {},
   "source": [
    "You can also present positional argument with one * and keyword argument with **"
   ]
  },
  {
   "cell_type": "code",
   "execution_count": 34,
   "id": "9b86593e",
   "metadata": {},
   "outputs": [],
   "source": [
    "def two_arguments(*args,**kwargs):\n",
    "    print(args)\n",
    "    print(kwargs)"
   ]
  },
  {
   "cell_type": "code",
   "execution_count": 37,
   "id": "275676c8",
   "metadata": {},
   "outputs": [
    {
     "name": "stdout",
     "output_type": "stream",
     "text": [
      "('Ehtesham', 'Ali', 'Khan')\n",
      "{'name': 'Ehtesham', 'age': 28, 'car': 'No', 'bike': 'yes'}\n"
     ]
    }
   ],
   "source": [
    "two_arguments(\"Ehtesham\",\"Ali\",\"Khan\", name=\"Ehtesham\",age=28,car=\"No\",bike=\"yes\")"
   ]
  },
  {
   "cell_type": "markdown",
   "id": "3d4fdd89",
   "metadata": {},
   "source": [
    "#### we can present list in positional argument and dictionary in **keyword argument"
   ]
  },
  {
   "cell_type": "code",
   "execution_count": 42,
   "id": "84b252a7",
   "metadata": {},
   "outputs": [
    {
     "name": "stdout",
     "output_type": "stream",
     "text": [
      "(1, 2, 3, 4, 5, 6, 7, 8, 9, 10, 11)\n",
      "{'name': 'Ehtesham', 'age': 28, 'car': 'No', 'bike': 'yes'}\n"
     ]
    }
   ],
   "source": [
    "list1=[1,2,3,4,5,6,7,8,9,10,11]\n",
    "dict1={\n",
    "    'name':\"Ehtesham\",\n",
    "    'age':28,\n",
    "    'car':\"No\",\n",
    "    'bike':\"yes\"\n",
    "}\n",
    "two_arguments(*list1,**dict1)"
   ]
  },
  {
   "cell_type": "code",
   "execution_count": 43,
   "id": "b9f00392",
   "metadata": {},
   "outputs": [
    {
     "name": "stdout",
     "output_type": "stream",
     "text": [
      "([1, 2, 3, 4, 5, 6, 7, 8, 9, 10, 11], {'name': 'Ehtesham', 'age': 28, 'car': 'No', 'bike': 'yes'})\n",
      "{}\n"
     ]
    }
   ],
   "source": [
    "list1=[1,2,3,4,5,6,7,8,9,10,11]\n",
    "dict1={\n",
    "    'name':\"Ehtesham\",\n",
    "    'age':28,\n",
    "    'car':\"No\",\n",
    "    'bike':\"yes\"\n",
    "}\n",
    "two_arguments(list1,dict1)"
   ]
  },
  {
   "cell_type": "code",
   "execution_count": 44,
   "id": "15b534db",
   "metadata": {},
   "outputs": [],
   "source": [
    "def evenoddsum(lst):\n",
    "    even_sum=0\n",
    "    odd_sum=0\n",
    "    for i in lst:\n",
    "        if i%2 ==0:\n",
    "            even_sum = even_sum + i\n",
    "        else:\n",
    "            odd_sum = odd_sum + i\n",
    "    return even_sum,odd_sum\n",
    "    "
   ]
  },
  {
   "cell_type": "code",
   "execution_count": 45,
   "id": "a5850612",
   "metadata": {},
   "outputs": [
    {
     "data": {
      "text/plain": [
       "(6, 9)"
      ]
     },
     "execution_count": 45,
     "metadata": {},
     "output_type": "execute_result"
    }
   ],
   "source": [
    "evenoddsum([1,2,3,4,5])"
   ]
  },
  {
   "cell_type": "code",
   "execution_count": 47,
   "id": "270ac62b",
   "metadata": {},
   "outputs": [
    {
     "data": {
      "text/plain": [
       "(110, 76)"
      ]
     },
     "execution_count": 47,
     "metadata": {},
     "output_type": "execute_result"
    }
   ],
   "source": [
    "b = [20,40,50,49,27]\n",
    "evenoddsum(b)"
   ]
  },
  {
   "cell_type": "markdown",
   "id": "4f6f7790",
   "metadata": {},
   "source": [
    "# Lambda Function \\ Anonymous Function"
   ]
  },
  {
   "cell_type": "markdown",
   "id": "0409e0bc",
   "metadata": {},
   "source": [
    "function with no name"
   ]
  },
  {
   "cell_type": "code",
   "execution_count": 48,
   "id": "9e1502ef",
   "metadata": {},
   "outputs": [],
   "source": [
    "# You can write only one expression in lambda function"
   ]
  },
  {
   "cell_type": "code",
   "execution_count": 49,
   "id": "75944685",
   "metadata": {},
   "outputs": [],
   "source": [
    "def add(num1,num2):\n",
    "    return num1+num2\n",
    "    "
   ]
  },
  {
   "cell_type": "code",
   "execution_count": 50,
   "id": "450fc883",
   "metadata": {},
   "outputs": [
    {
     "data": {
      "text/plain": [
       "22"
      ]
     },
     "execution_count": 50,
     "metadata": {},
     "output_type": "execute_result"
    }
   ],
   "source": [
    "add(10,12)"
   ]
  },
  {
   "cell_type": "code",
   "execution_count": 51,
   "id": "b7b3cea1",
   "metadata": {},
   "outputs": [],
   "source": [
    "# using lambda\n",
    "addittion = lambda num1,num2:num1+num2"
   ]
  },
  {
   "cell_type": "code",
   "execution_count": 52,
   "id": "5ff3c6cc",
   "metadata": {},
   "outputs": [
    {
     "data": {
      "text/plain": [
       "22"
      ]
     },
     "execution_count": 52,
     "metadata": {},
     "output_type": "execute_result"
    }
   ],
   "source": [
    "addittion(10,12)"
   ]
  },
  {
   "cell_type": "code",
   "execution_count": 53,
   "id": "f6f80131",
   "metadata": {},
   "outputs": [],
   "source": [
    "def even_number(num1):\n",
    "    if num1%2==0:\n",
    "        return True\n",
    "    else:\n",
    "        return False"
   ]
  },
  {
   "cell_type": "code",
   "execution_count": 54,
   "id": "5a1b135d",
   "metadata": {},
   "outputs": [
    {
     "data": {
      "text/plain": [
       "False"
      ]
     },
     "execution_count": 54,
     "metadata": {},
     "output_type": "execute_result"
    }
   ],
   "source": [
    "even_number(23)"
   ]
  },
  {
   "cell_type": "code",
   "execution_count": 55,
   "id": "76a11049",
   "metadata": {},
   "outputs": [
    {
     "data": {
      "text/plain": [
       "True"
      ]
     },
     "execution_count": 55,
     "metadata": {},
     "output_type": "execute_result"
    }
   ],
   "source": [
    "even_number(24)"
   ]
  },
  {
   "cell_type": "code",
   "execution_count": 56,
   "id": "0345b06f",
   "metadata": {},
   "outputs": [],
   "source": [
    "even_number = lambda num1:num1%2==0"
   ]
  },
  {
   "cell_type": "code",
   "execution_count": 57,
   "id": "16dd6163",
   "metadata": {},
   "outputs": [
    {
     "data": {
      "text/plain": [
       "False"
      ]
     },
     "execution_count": 57,
     "metadata": {},
     "output_type": "execute_result"
    }
   ],
   "source": [
    "even_number(23)"
   ]
  },
  {
   "cell_type": "code",
   "execution_count": 58,
   "id": "bf6733a4",
   "metadata": {},
   "outputs": [
    {
     "data": {
      "text/plain": [
       "True"
      ]
     },
     "execution_count": 58,
     "metadata": {},
     "output_type": "execute_result"
    }
   ],
   "source": [
    "even_number(22)"
   ]
  },
  {
   "cell_type": "code",
   "execution_count": 59,
   "id": "f1a12eb8",
   "metadata": {},
   "outputs": [],
   "source": [
    "def add(x,y,z):\n",
    "    return x+y+z"
   ]
  },
  {
   "cell_type": "code",
   "execution_count": 60,
   "id": "9f6a056b",
   "metadata": {},
   "outputs": [
    {
     "data": {
      "text/plain": [
       "36"
      ]
     },
     "execution_count": 60,
     "metadata": {},
     "output_type": "execute_result"
    }
   ],
   "source": [
    "add(10,12,14)"
   ]
  },
  {
   "cell_type": "code",
   "execution_count": 61,
   "id": "d49ada39",
   "metadata": {},
   "outputs": [],
   "source": [
    "add = lambda x,y,z:x+y+z"
   ]
  },
  {
   "cell_type": "code",
   "execution_count": 62,
   "id": "2ec9d187",
   "metadata": {},
   "outputs": [
    {
     "data": {
      "text/plain": [
       "36"
      ]
     },
     "execution_count": 62,
     "metadata": {},
     "output_type": "execute_result"
    }
   ],
   "source": [
    "add(10,12,14)"
   ]
  },
  {
   "cell_type": "markdown",
   "id": "ea1cfbbc",
   "metadata": {},
   "source": [
    "# Map fucntion in python"
   ]
  },
  {
   "cell_type": "code",
   "execution_count": 63,
   "id": "e6514bfe",
   "metadata": {},
   "outputs": [],
   "source": [
    "def even_numbers(num):\n",
    "    if num%2==0:\n",
    "        return \"The {} is even\".format(num)\n",
    "    else:\n",
    "        return \"The {} is odd\".format(num)"
   ]
  },
  {
   "cell_type": "code",
   "execution_count": 64,
   "id": "10d8917f",
   "metadata": {},
   "outputs": [
    {
     "data": {
      "text/plain": [
       "'The 100 is even'"
      ]
     },
     "execution_count": 64,
     "metadata": {},
     "output_type": "execute_result"
    }
   ],
   "source": [
    "even_numbers(100)"
   ]
  },
  {
   "cell_type": "markdown",
   "id": "24282c42",
   "metadata": {},
   "source": [
    "if we have list of numbers to check to check which number is even and which number is odd then we could not use this method we have to use another method that is **map** method"
   ]
  },
  {
   "cell_type": "code",
   "execution_count": 65,
   "id": "68f82c01",
   "metadata": {},
   "outputs": [],
   "source": [
    "lst= [1,22,23,24,25,26,27,28,29,30]"
   ]
  },
  {
   "cell_type": "code",
   "execution_count": 66,
   "id": "3997410d",
   "metadata": {},
   "outputs": [
    {
     "data": {
      "text/plain": [
       "<map at 0x11723e505e0>"
      ]
     },
     "execution_count": 66,
     "metadata": {},
     "output_type": "execute_result"
    }
   ],
   "source": [
    "# map method takes two argument one is function, and the other is list\n",
    "map(even_numbers,lst)"
   ]
  },
  {
   "cell_type": "code",
   "execution_count": 70,
   "id": "5d994a58",
   "metadata": {},
   "outputs": [
    {
     "data": {
      "text/plain": [
       "('The 1 is odd',\n",
       " 'The 22 is even',\n",
       " 'The 23 is odd',\n",
       " 'The 24 is even',\n",
       " 'The 25 is odd',\n",
       " 'The 26 is even',\n",
       " 'The 27 is odd',\n",
       " 'The 28 is even',\n",
       " 'The 29 is odd',\n",
       " 'The 30 is even')"
      ]
     },
     "execution_count": 70,
     "metadata": {},
     "output_type": "execute_result"
    }
   ],
   "source": [
    "tuple(map(even_numbers,lst)) # explicitly we have to give a data structures tuple,set,list"
   ]
  },
  {
   "cell_type": "code",
   "execution_count": 71,
   "id": "aa85ac8c",
   "metadata": {},
   "outputs": [
    {
     "data": {
      "text/plain": [
       "['The 1 is odd',\n",
       " 'The 22 is even',\n",
       " 'The 23 is odd',\n",
       " 'The 24 is even',\n",
       " 'The 25 is odd',\n",
       " 'The 26 is even',\n",
       " 'The 27 is odd',\n",
       " 'The 28 is even',\n",
       " 'The 29 is odd',\n",
       " 'The 30 is even']"
      ]
     },
     "execution_count": 71,
     "metadata": {},
     "output_type": "execute_result"
    }
   ],
   "source": [
    "list(map(even_numbers,lst))"
   ]
  },
  {
   "cell_type": "code",
   "execution_count": 72,
   "id": "7b58b045",
   "metadata": {},
   "outputs": [
    {
     "data": {
      "text/plain": [
       "{'The 1 is odd',\n",
       " 'The 22 is even',\n",
       " 'The 23 is odd',\n",
       " 'The 24 is even',\n",
       " 'The 25 is odd',\n",
       " 'The 26 is even',\n",
       " 'The 27 is odd',\n",
       " 'The 28 is even',\n",
       " 'The 29 is odd',\n",
       " 'The 30 is even'}"
      ]
     },
     "execution_count": 72,
     "metadata": {},
     "output_type": "execute_result"
    }
   ],
   "source": [
    "set(map(even_numbers,lst))"
   ]
  },
  {
   "cell_type": "markdown",
   "id": "a591e3be",
   "metadata": {},
   "source": [
    "# Filter Function"
   ]
  },
  {
   "cell_type": "code",
   "execution_count": 73,
   "id": "ba5cab1f",
   "metadata": {},
   "outputs": [],
   "source": [
    "def even_(num):\n",
    "    if num%2==0:\n",
    "        print(\"The num is even\")"
   ]
  },
  {
   "cell_type": "code",
   "execution_count": 75,
   "id": "0543af53",
   "metadata": {},
   "outputs": [
    {
     "name": "stdout",
     "output_type": "stream",
     "text": [
      "The num is even\n"
     ]
    }
   ],
   "source": [
    "even_(2)"
   ]
  },
  {
   "cell_type": "code",
   "execution_count": 84,
   "id": "ce47fff0",
   "metadata": {},
   "outputs": [],
   "source": [
    "lst=[1,2,3,4,5,6,7,8,9,0]"
   ]
  },
  {
   "cell_type": "code",
   "execution_count": 85,
   "id": "58d5da01",
   "metadata": {},
   "outputs": [
    {
     "data": {
      "text/plain": [
       "<filter at 0x11723ee6610>"
      ]
     },
     "execution_count": 85,
     "metadata": {},
     "output_type": "execute_result"
    }
   ],
   "source": [
    "filter(even_,lst)"
   ]
  },
  {
   "cell_type": "code",
   "execution_count": 86,
   "id": "2f0ea0c0",
   "metadata": {},
   "outputs": [
    {
     "name": "stdout",
     "output_type": "stream",
     "text": [
      "The num is even\n",
      "The num is even\n",
      "The num is even\n",
      "The num is even\n",
      "The num is even\n"
     ]
    },
    {
     "data": {
      "text/plain": [
       "[]"
      ]
     },
     "execution_count": 86,
     "metadata": {},
     "output_type": "execute_result"
    }
   ],
   "source": [
    "list(filter(even_,lst))"
   ]
  },
  {
   "cell_type": "code",
   "execution_count": 87,
   "id": "632abddd",
   "metadata": {},
   "outputs": [
    {
     "name": "stdout",
     "output_type": "stream",
     "text": [
      "The num is even\n",
      "The num is even\n",
      "The num is even\n",
      "The num is even\n",
      "The num is even\n"
     ]
    },
    {
     "data": {
      "text/plain": [
       "set()"
      ]
     },
     "execution_count": 87,
     "metadata": {},
     "output_type": "execute_result"
    }
   ],
   "source": [
    "set(filter(even_,lst))"
   ]
  },
  {
   "cell_type": "code",
   "execution_count": 88,
   "id": "f57814e8",
   "metadata": {},
   "outputs": [
    {
     "data": {
      "text/plain": [
       "[2, 4, 6, 8, 0]"
      ]
     },
     "execution_count": 88,
     "metadata": {},
     "output_type": "execute_result"
    }
   ],
   "source": [
    "list(filter(lambda num:num%2==0,lst))"
   ]
  },
  {
   "cell_type": "code",
   "execution_count": 89,
   "id": "a631af25",
   "metadata": {},
   "outputs": [
    {
     "data": {
      "text/plain": [
       "[False, True, False, True, False, True, False, True, False, True]"
      ]
     },
     "execution_count": 89,
     "metadata": {},
     "output_type": "execute_result"
    }
   ],
   "source": [
    "list(map(lambda num:num%2==0,lst))"
   ]
  },
  {
   "cell_type": "code",
   "execution_count": null,
   "id": "bea46fec",
   "metadata": {},
   "outputs": [],
   "source": []
  }
 ],
 "metadata": {
  "kernelspec": {
   "display_name": "Python 3 (ipykernel)",
   "language": "python",
   "name": "python3"
  },
  "language_info": {
   "codemirror_mode": {
    "name": "ipython",
    "version": 3
   },
   "file_extension": ".py",
   "mimetype": "text/x-python",
   "name": "python",
   "nbconvert_exporter": "python",
   "pygments_lexer": "ipython3",
   "version": "3.9.7"
  }
 },
 "nbformat": 4,
 "nbformat_minor": 5
}
