{
 "cells": [
  {
   "cell_type": "code",
   "execution_count": 1,
   "id": "71a148f2",
   "metadata": {},
   "outputs": [],
   "source": [
    "import numpy as np"
   ]
  },
  {
   "cell_type": "code",
   "execution_count": 2,
   "id": "835c8fa9",
   "metadata": {},
   "outputs": [
    {
     "data": {
      "text/plain": [
       "[1, 2, 3]"
      ]
     },
     "metadata": {},
     "output_type": "display_data"
    },
    {
     "data": {
      "text/plain": [
       "[4, 5, 6]"
      ]
     },
     "metadata": {},
     "output_type": "display_data"
    }
   ],
   "source": [
    "#simple lists\n",
    "a = [1,2,3]\n",
    "b = [4,5,6]\n",
    "# print(a*b) # You cann't perform mathematical and statistical calculation simple array, it will give an error\n",
    "display(a,b)"
   ]
  },
  {
   "cell_type": "code",
   "execution_count": 3,
   "id": "a8612394",
   "metadata": {},
   "outputs": [
    {
     "data": {
      "text/plain": [
       "array([ 4, 10, 18])"
      ]
     },
     "execution_count": 3,
     "metadata": {},
     "output_type": "execute_result"
    }
   ],
   "source": [
    "#numpy array\n",
    "a_ = np.array([1,2,3])\n",
    "b_ = np.array([4,5,6])\n",
    "a_*b_"
   ]
  },
  {
   "cell_type": "code",
   "execution_count": 4,
   "id": "7af2cff0",
   "metadata": {},
   "outputs": [
    {
     "data": {
      "text/plain": [
       "array([5, 7, 9])"
      ]
     },
     "execution_count": 4,
     "metadata": {},
     "output_type": "execute_result"
    }
   ],
   "source": [
    "a_+b_"
   ]
  },
  {
   "cell_type": "code",
   "execution_count": 5,
   "id": "93b94162",
   "metadata": {},
   "outputs": [
    {
     "data": {
      "text/plain": [
       "array([0.25, 0.4 , 0.5 ])"
      ]
     },
     "execution_count": 5,
     "metadata": {},
     "output_type": "execute_result"
    }
   ],
   "source": [
    "a_/b_"
   ]
  },
  {
   "cell_type": "code",
   "execution_count": 6,
   "id": "14543c22",
   "metadata": {},
   "outputs": [],
   "source": [
    "# two dimensional array\n",
    "a1 = np.array([[1,2,3],[4,5,6]],dtype='float64')"
   ]
  },
  {
   "cell_type": "code",
   "execution_count": 7,
   "id": "733e9d01",
   "metadata": {},
   "outputs": [
    {
     "data": {
      "text/plain": [
       "dtype('float64')"
      ]
     },
     "execution_count": 7,
     "metadata": {},
     "output_type": "execute_result"
    }
   ],
   "source": [
    "a1.dtype"
   ]
  },
  {
   "cell_type": "code",
   "execution_count": 8,
   "id": "258f2912",
   "metadata": {},
   "outputs": [
    {
     "data": {
      "text/plain": [
       "(2, 3)"
      ]
     },
     "execution_count": 8,
     "metadata": {},
     "output_type": "execute_result"
    }
   ],
   "source": [
    "a1.shape"
   ]
  },
  {
   "cell_type": "code",
   "execution_count": 9,
   "id": "5462fb44",
   "metadata": {},
   "outputs": [
    {
     "data": {
      "text/plain": [
       "2"
      ]
     },
     "execution_count": 9,
     "metadata": {},
     "output_type": "execute_result"
    }
   ],
   "source": [
    "a1.ndim"
   ]
  },
  {
   "cell_type": "code",
   "execution_count": 10,
   "id": "b52a58ee",
   "metadata": {},
   "outputs": [
    {
     "data": {
      "text/plain": [
       "48"
      ]
     },
     "execution_count": 10,
     "metadata": {},
     "output_type": "execute_result"
    }
   ],
   "source": [
    "a1.nbytes"
   ]
  },
  {
   "cell_type": "code",
   "execution_count": 11,
   "id": "6cacbda7",
   "metadata": {},
   "outputs": [],
   "source": [
    "# three dimensional array\n",
    "b1 = np.array([[[1,2,3],[4,5,6]],[[7,8,9],[10,11,12]]])"
   ]
  },
  {
   "cell_type": "code",
   "execution_count": 12,
   "id": "9c86240d",
   "metadata": {},
   "outputs": [
    {
     "data": {
      "text/plain": [
       "3"
      ]
     },
     "execution_count": 12,
     "metadata": {},
     "output_type": "execute_result"
    }
   ],
   "source": [
    "b1.ndim"
   ]
  },
  {
   "cell_type": "code",
   "execution_count": 13,
   "id": "bf619e25",
   "metadata": {},
   "outputs": [
    {
     "data": {
      "text/plain": [
       "(2, 2, 3)"
      ]
     },
     "execution_count": 13,
     "metadata": {},
     "output_type": "execute_result"
    }
   ],
   "source": [
    "b1.shape"
   ]
  },
  {
   "cell_type": "markdown",
   "id": "7c27334e",
   "metadata": {},
   "source": [
    "### Accessing/Changing Specific Elements, Rows, Columns etc"
   ]
  },
  {
   "cell_type": "code",
   "execution_count": 14,
   "id": "7304dd80",
   "metadata": {},
   "outputs": [
    {
     "data": {
      "text/plain": [
       "(2, 6)"
      ]
     },
     "execution_count": 14,
     "metadata": {},
     "output_type": "execute_result"
    }
   ],
   "source": [
    "# syntax of getting a specific element [row, column]\n",
    "c = np.array([[1,2,3,4,5,6],[7,8,9,10,11,12]])\n",
    "c.shape"
   ]
  },
  {
   "cell_type": "code",
   "execution_count": 15,
   "id": "613b53d3",
   "metadata": {},
   "outputs": [
    {
     "data": {
      "text/plain": [
       "10"
      ]
     },
     "execution_count": 15,
     "metadata": {},
     "output_type": "execute_result"
    }
   ],
   "source": [
    "# get the no 10 in second row -- index starts from 0, 1-6 means 0 - 5\n",
    "c[1,3] "
   ]
  },
  {
   "cell_type": "code",
   "execution_count": 16,
   "id": "dbdfcfe8",
   "metadata": {},
   "outputs": [
    {
     "data": {
      "text/plain": [
       "array([1, 2, 3, 4, 5, 6])"
      ]
     },
     "execution_count": 16,
     "metadata": {},
     "output_type": "execute_result"
    }
   ],
   "source": [
    "# print first row and all columns\n",
    "c[0,]"
   ]
  },
  {
   "cell_type": "code",
   "execution_count": 17,
   "id": "c0c38bf4",
   "metadata": {},
   "outputs": [
    {
     "data": {
      "text/plain": [
       "array([ 7,  9, 11])"
      ]
     },
     "execution_count": 17,
     "metadata": {},
     "output_type": "execute_result"
    }
   ],
   "source": [
    "# similarly print second row and columns step 2\n",
    "c[1,::2] # third parameter is used for step"
   ]
  },
  {
   "cell_type": "code",
   "execution_count": 18,
   "id": "6fd44dbf",
   "metadata": {},
   "outputs": [
    {
     "data": {
      "text/plain": [
       "array([2, 4, 6])"
      ]
     },
     "execution_count": 18,
     "metadata": {},
     "output_type": "execute_result"
    }
   ],
   "source": [
    "c[0,1:6:2]"
   ]
  },
  {
   "cell_type": "code",
   "execution_count": 19,
   "id": "9bfeba5e",
   "metadata": {},
   "outputs": [
    {
     "name": "stdout",
     "output_type": "stream",
     "text": [
      "[[ 1  2  3  4  5  6]\n",
      " [ 7  8  9 10 11 15]]\n"
     ]
    }
   ],
   "source": [
    "# change the value of 12 to 15\n",
    "c[1,5] = 15\n",
    "print(c)"
   ]
  },
  {
   "cell_type": "code",
   "execution_count": 20,
   "id": "13bbba4c",
   "metadata": {},
   "outputs": [
    {
     "data": {
      "text/plain": [
       "3"
      ]
     },
     "execution_count": 20,
     "metadata": {},
     "output_type": "execute_result"
    }
   ],
   "source": [
    "b = np.array([[[1,2,34],[4,6,7]],[[10,12,16],[100,150,250]]])\n",
    "b.ndim"
   ]
  },
  {
   "cell_type": "code",
   "execution_count": 21,
   "id": "ce057ed1",
   "metadata": {},
   "outputs": [
    {
     "data": {
      "text/plain": [
       "(2, 2, 3)"
      ]
     },
     "execution_count": 21,
     "metadata": {},
     "output_type": "execute_result"
    }
   ],
   "source": [
    "b.shape # it shows 2 layers, 2 rows and 3 columns"
   ]
  },
  {
   "cell_type": "code",
   "execution_count": 22,
   "id": "0ac89982",
   "metadata": {},
   "outputs": [
    {
     "data": {
      "text/plain": [
       "34"
      ]
     },
     "execution_count": 22,
     "metadata": {},
     "output_type": "execute_result"
    }
   ],
   "source": [
    "# access first layer in no 34\n",
    "b[0,0,2] # first layer, first row and third column"
   ]
  },
  {
   "cell_type": "markdown",
   "id": "a3c4d8ce",
   "metadata": {},
   "source": [
    "### Initializing different types of arrays"
   ]
  },
  {
   "cell_type": "code",
   "execution_count": 23,
   "id": "0cd5d9b1",
   "metadata": {},
   "outputs": [
    {
     "data": {
      "text/plain": [
       "array([[0, 0, 0],\n",
       "       [0, 0, 0],\n",
       "       [0, 0, 0]])"
      ]
     },
     "execution_count": 23,
     "metadata": {},
     "output_type": "execute_result"
    }
   ],
   "source": [
    "# all 0s matrix\n",
    "np.zeros((3,3),dtype='int32')"
   ]
  },
  {
   "cell_type": "code",
   "execution_count": 24,
   "id": "24be95b6",
   "metadata": {},
   "outputs": [
    {
     "data": {
      "text/plain": [
       "array([[[1., 1., 1.],\n",
       "        [1., 1., 1.],\n",
       "        [1., 1., 1.]],\n",
       "\n",
       "       [[1., 1., 1.],\n",
       "        [1., 1., 1.],\n",
       "        [1., 1., 1.]],\n",
       "\n",
       "       [[1., 1., 1.],\n",
       "        [1., 1., 1.],\n",
       "        [1., 1., 1.]]])"
      ]
     },
     "execution_count": 24,
     "metadata": {},
     "output_type": "execute_result"
    }
   ],
   "source": [
    "# all 1s matrix\n",
    "np.ones((3,3,3))"
   ]
  },
  {
   "cell_type": "code",
   "execution_count": 25,
   "id": "3011468b",
   "metadata": {},
   "outputs": [
    {
     "data": {
      "text/plain": [
       "array([[[8, 8, 8, 8],\n",
       "        [8, 8, 8, 8],\n",
       "        [8, 8, 8, 8],\n",
       "        [8, 8, 8, 8]],\n",
       "\n",
       "       [[8, 8, 8, 8],\n",
       "        [8, 8, 8, 8],\n",
       "        [8, 8, 8, 8],\n",
       "        [8, 8, 8, 8]]])"
      ]
     },
     "execution_count": 25,
     "metadata": {},
     "output_type": "execute_result"
    }
   ],
   "source": [
    "# any other number\n",
    "np.full((2,4,4),8, dtype='int32')"
   ]
  },
  {
   "cell_type": "code",
   "execution_count": 26,
   "id": "5032779d",
   "metadata": {},
   "outputs": [
    {
     "data": {
      "text/plain": [
       "array([[10, 10],\n",
       "       [10, 10]])"
      ]
     },
     "execution_count": 26,
     "metadata": {},
     "output_type": "execute_result"
    }
   ],
   "source": [
    "np.full((2,2),10)"
   ]
  },
  {
   "cell_type": "code",
   "execution_count": 27,
   "id": "26183c42",
   "metadata": {},
   "outputs": [
    {
     "data": {
      "text/plain": [
       "array([[0.09323526, 0.45484148],\n",
       "       [0.83534806, 0.5613173 ]])"
      ]
     },
     "execution_count": 27,
     "metadata": {},
     "output_type": "execute_result"
    }
   ],
   "source": [
    "#generating random numbers\n",
    "np.random.rand(2,2)"
   ]
  },
  {
   "cell_type": "code",
   "execution_count": 28,
   "id": "430eb20d",
   "metadata": {},
   "outputs": [
    {
     "data": {
      "text/plain": [
       "array([[1., 0.],\n",
       "       [0., 1.]])"
      ]
     },
     "execution_count": 28,
     "metadata": {},
     "output_type": "execute_result"
    }
   ],
   "source": [
    "np.identity(2)"
   ]
  },
  {
   "cell_type": "markdown",
   "id": "c5353292",
   "metadata": {},
   "source": [
    "### Be careful when copying array"
   ]
  },
  {
   "cell_type": "code",
   "execution_count": 29,
   "id": "c29c682f",
   "metadata": {},
   "outputs": [
    {
     "name": "stdout",
     "output_type": "stream",
     "text": [
      "[100   2   3]\n"
     ]
    }
   ],
   "source": [
    "d = np.array([1,2,3])\n",
    "e = d\n",
    "e[0] = 100\n",
    "print(d)"
   ]
  },
  {
   "cell_type": "code",
   "execution_count": 30,
   "id": "07552af3",
   "metadata": {},
   "outputs": [
    {
     "name": "stdout",
     "output_type": "stream",
     "text": [
      "[100   2   3]\n"
     ]
    }
   ],
   "source": [
    "# use this method\n",
    "f = np.array([1,2,3])\n",
    "g = f.copy()\n",
    "g[0]= 100\n",
    "print(g) # this will not change the value in original array"
   ]
  },
  {
   "cell_type": "code",
   "execution_count": 31,
   "id": "12e08da7",
   "metadata": {},
   "outputs": [
    {
     "name": "stdout",
     "output_type": "stream",
     "text": [
      "[1 2 3]\n"
     ]
    }
   ],
   "source": [
    "print(f)"
   ]
  },
  {
   "cell_type": "markdown",
   "id": "54de93b1",
   "metadata": {},
   "source": [
    "### Mathematics"
   ]
  },
  {
   "cell_type": "code",
   "execution_count": 32,
   "id": "4b2cfe47",
   "metadata": {},
   "outputs": [],
   "source": [
    "t = np.array([1,2,3,4,5,6])"
   ]
  },
  {
   "cell_type": "code",
   "execution_count": 33,
   "id": "2fab9506",
   "metadata": {},
   "outputs": [
    {
     "data": {
      "text/plain": [
       "array([ 2,  4,  6,  8, 10, 12])"
      ]
     },
     "execution_count": 33,
     "metadata": {},
     "output_type": "execute_result"
    }
   ],
   "source": [
    "t*2"
   ]
  },
  {
   "cell_type": "code",
   "execution_count": 34,
   "id": "b7082c59",
   "metadata": {},
   "outputs": [
    {
     "data": {
      "text/plain": [
       "array([ 1,  4,  9, 16, 25, 36], dtype=int32)"
      ]
     },
     "execution_count": 34,
     "metadata": {},
     "output_type": "execute_result"
    }
   ],
   "source": [
    "t**2"
   ]
  },
  {
   "cell_type": "code",
   "execution_count": 35,
   "id": "cdac5dad",
   "metadata": {},
   "outputs": [
    {
     "data": {
      "text/plain": [
       "array([3, 4, 5, 6, 7, 8])"
      ]
     },
     "execution_count": 35,
     "metadata": {},
     "output_type": "execute_result"
    }
   ],
   "source": [
    "t+2"
   ]
  },
  {
   "cell_type": "code",
   "execution_count": 36,
   "id": "9976a9c7",
   "metadata": {},
   "outputs": [
    {
     "data": {
      "text/plain": [
       "array([3, 4, 5, 6, 7, 8])"
      ]
     },
     "execution_count": 36,
     "metadata": {},
     "output_type": "execute_result"
    }
   ],
   "source": [
    "t += 2\n",
    "t"
   ]
  },
  {
   "cell_type": "code",
   "execution_count": 37,
   "id": "0521052d",
   "metadata": {},
   "outputs": [
    {
     "data": {
      "text/plain": [
       "array([0, 1, 2, 3, 4, 5])"
      ]
     },
     "execution_count": 37,
     "metadata": {},
     "output_type": "execute_result"
    }
   ],
   "source": [
    "t -= 3\n",
    "t"
   ]
  },
  {
   "cell_type": "code",
   "execution_count": 38,
   "id": "e75fd60a",
   "metadata": {},
   "outputs": [
    {
     "data": {
      "text/plain": [
       "array([ 0,  8, 18, 30, 44, 60])"
      ]
     },
     "execution_count": 38,
     "metadata": {},
     "output_type": "execute_result"
    }
   ],
   "source": [
    "u = np.array([7,8,9,10,11,12])\n",
    "t*u"
   ]
  },
  {
   "cell_type": "code",
   "execution_count": 39,
   "id": "53ff8c61",
   "metadata": {},
   "outputs": [
    {
     "data": {
      "text/plain": [
       "array([ 7,  9, 11, 13, 15, 17])"
      ]
     },
     "execution_count": 39,
     "metadata": {},
     "output_type": "execute_result"
    }
   ],
   "source": [
    "t+u"
   ]
  },
  {
   "cell_type": "code",
   "execution_count": 40,
   "id": "e1d04798",
   "metadata": {},
   "outputs": [
    {
     "data": {
      "text/plain": [
       "array([ 1.        ,  0.54030231, -0.41614684, -0.9899925 , -0.65364362,\n",
       "        0.28366219])"
      ]
     },
     "execution_count": 40,
     "metadata": {},
     "output_type": "execute_result"
    }
   ],
   "source": [
    "np.cos(t)"
   ]
  },
  {
   "cell_type": "markdown",
   "id": "891b11b1",
   "metadata": {},
   "source": [
    "### Linear Algebra"
   ]
  },
  {
   "cell_type": "code",
   "execution_count": 41,
   "id": "e4513dc1",
   "metadata": {},
   "outputs": [],
   "source": [
    "# IN linear algebra columns of the first matrix equal to the rows of second one"
   ]
  },
  {
   "cell_type": "code",
   "execution_count": 42,
   "id": "98fea323",
   "metadata": {},
   "outputs": [
    {
     "name": "stdout",
     "output_type": "stream",
     "text": [
      "[[1. 1. 1.]\n",
      " [1. 1. 1.]]\n",
      "[[9 9]\n",
      " [9 9]\n",
      " [9 9]]\n"
     ]
    }
   ],
   "source": [
    "a = np.ones((2,3))\n",
    "print(a)\n",
    "b = np.full((3,2),9)\n",
    "print(b)\n"
   ]
  },
  {
   "cell_type": "code",
   "execution_count": 43,
   "id": "deacc9a3",
   "metadata": {},
   "outputs": [
    {
     "data": {
      "text/plain": [
       "array([[27., 27.],\n",
       "       [27., 27.]])"
      ]
     },
     "execution_count": 43,
     "metadata": {},
     "output_type": "execute_result"
    }
   ],
   "source": [
    "#Multiplying two matrixes\n",
    "np.matmul(a,b)"
   ]
  },
  {
   "cell_type": "markdown",
   "id": "fe9f3a89",
   "metadata": {},
   "source": [
    "### Statistics"
   ]
  },
  {
   "cell_type": "code",
   "execution_count": 44,
   "id": "29c4c7e9",
   "metadata": {},
   "outputs": [
    {
     "data": {
      "text/plain": [
       "array([[1, 2, 3],\n",
       "       [4, 5, 6]])"
      ]
     },
     "execution_count": 44,
     "metadata": {},
     "output_type": "execute_result"
    }
   ],
   "source": [
    "stats  = np.array([[1,2,3],[4,5,6]])\n",
    "stats"
   ]
  },
  {
   "cell_type": "code",
   "execution_count": 45,
   "id": "bd2e6e30",
   "metadata": {},
   "outputs": [
    {
     "data": {
      "text/plain": [
       "6"
      ]
     },
     "execution_count": 45,
     "metadata": {},
     "output_type": "execute_result"
    }
   ],
   "source": [
    "np.max(stats)"
   ]
  },
  {
   "cell_type": "code",
   "execution_count": 46,
   "id": "4a812557",
   "metadata": {},
   "outputs": [
    {
     "data": {
      "text/plain": [
       "1"
      ]
     },
     "execution_count": 46,
     "metadata": {},
     "output_type": "execute_result"
    }
   ],
   "source": [
    "np.min(stats)"
   ]
  },
  {
   "cell_type": "code",
   "execution_count": 47,
   "id": "64282443",
   "metadata": {},
   "outputs": [
    {
     "data": {
      "text/plain": [
       "21"
      ]
     },
     "execution_count": 47,
     "metadata": {},
     "output_type": "execute_result"
    }
   ],
   "source": [
    "np.sum(stats)"
   ]
  },
  {
   "cell_type": "code",
   "execution_count": 48,
   "id": "21b425b0",
   "metadata": {},
   "outputs": [
    {
     "data": {
      "text/plain": [
       "array([4, 5, 6])"
      ]
     },
     "execution_count": 48,
     "metadata": {},
     "output_type": "execute_result"
    }
   ],
   "source": [
    "np.max(stats,axis=0)"
   ]
  },
  {
   "cell_type": "code",
   "execution_count": 49,
   "id": "9e0ed24c",
   "metadata": {},
   "outputs": [
    {
     "data": {
      "text/plain": [
       "array([3, 6])"
      ]
     },
     "execution_count": 49,
     "metadata": {},
     "output_type": "execute_result"
    }
   ],
   "source": [
    "np.max(stats,axis=1)"
   ]
  },
  {
   "cell_type": "markdown",
   "id": "9c72c229",
   "metadata": {},
   "source": [
    "## Reorganizing Arrays"
   ]
  },
  {
   "cell_type": "code",
   "execution_count": 50,
   "id": "da8a1cd7",
   "metadata": {},
   "outputs": [
    {
     "name": "stdout",
     "output_type": "stream",
     "text": [
      "[[ 7  8  9]\n",
      " [10 11 12]]\n"
     ]
    },
    {
     "data": {
      "text/plain": [
       "(2, 3)"
      ]
     },
     "execution_count": 50,
     "metadata": {},
     "output_type": "execute_result"
    }
   ],
   "source": [
    "before = np.array([[7,8,9],[10,11,12]])\n",
    "print(before)\n",
    "before.shape"
   ]
  },
  {
   "cell_type": "code",
   "execution_count": 51,
   "id": "51f8ba5c",
   "metadata": {},
   "outputs": [
    {
     "name": "stdout",
     "output_type": "stream",
     "text": [
      "[[ 7  8]\n",
      " [ 9 10]\n",
      " [11 12]]\n",
      "(3, 2)\n"
     ]
    }
   ],
   "source": [
    "after = before.reshape((3,2))\n",
    "print(after)\n",
    "print(after.shape)"
   ]
  },
  {
   "cell_type": "code",
   "execution_count": 52,
   "id": "16d07bcc",
   "metadata": {},
   "outputs": [
    {
     "name": "stdout",
     "output_type": "stream",
     "text": [
      "orginal =  [[ 4  5  6  7]\n",
      " [ 8  9 10 11]]\n"
     ]
    }
   ],
   "source": [
    "# Vertical stack of vectors - copy of vectors in vertical fashion\n",
    "v1 = np.array([4,5,6,7])\n",
    "v2 = np.array([8,9,10,11])\n",
    "print(\"orginal = \",np.vstack([v1,v2]))"
   ]
  },
  {
   "cell_type": "code",
   "execution_count": 53,
   "id": "0d110913",
   "metadata": {},
   "outputs": [
    {
     "data": {
      "text/plain": [
       "[array([4, 5, 6, 7]),\n",
       " array([ 8,  9, 10, 11]),\n",
       " array([4, 5, 6, 7]),\n",
       " array([ 8,  9, 10, 11]),\n",
       " array([ 8,  9, 10, 11])]"
      ]
     },
     "metadata": {},
     "output_type": "display_data"
    }
   ],
   "source": [
    "display([v1,v2,v1,v2,v2])"
   ]
  },
  {
   "cell_type": "code",
   "execution_count": 54,
   "id": "cd4e9372",
   "metadata": {},
   "outputs": [
    {
     "data": {
      "text/plain": [
       "array([ 4,  5,  6,  7,  8,  9, 10, 11,  4,  5,  6,  7,  8,  9, 10, 11])"
      ]
     },
     "execution_count": 54,
     "metadata": {},
     "output_type": "execute_result"
    }
   ],
   "source": [
    "# Horizontal Stack - copying in the horizonal fashion\n",
    "np.hstack([v1,v2,v1,v2])"
   ]
  },
  {
   "cell_type": "markdown",
   "id": "c44b2303",
   "metadata": {},
   "source": [
    "### Load data from different file using numpy"
   ]
  },
  {
   "cell_type": "code",
   "execution_count": 57,
   "id": "6966397d",
   "metadata": {},
   "outputs": [
    {
     "data": {
      "text/plain": [
       "array([ 1,  2,  3,  4,  5,  6,  7,  8,  9,  1,  0, 11, 12, 13, 14, 15, 16,\n",
       "       17, 18, 19, 20, 21, 22, 23, 24, 25, 26, 27, 28, 29, 30, 31, 32, 33],\n",
       "      dtype=int64)"
      ]
     },
     "execution_count": 57,
     "metadata": {},
     "output_type": "execute_result"
    }
   ],
   "source": [
    "text = np.genfromtxt(r\"C:\\Users\\Pc World Computers\\OneDrive\\Desktop\\counting.txt\",delimiter=',')\n",
    "text.astype('int64')"
   ]
  },
  {
   "cell_type": "code",
   "execution_count": 61,
   "id": "4d9cb43a",
   "metadata": {},
   "outputs": [
    {
     "data": {
      "text/plain": [
       "array([11, 12, 13, 14, 15, 16, 17, 18, 19, 20, 21, 22, 23, 24, 25, 26, 27,\n",
       "       28, 29, 30, 31, 32, 33], dtype=int64)"
      ]
     },
     "execution_count": 61,
     "metadata": {},
     "output_type": "execute_result"
    }
   ],
   "source": [
    "# Boolean Masking and Advance Indexing\n",
    "text[text>10].astype('int64')"
   ]
  },
  {
   "cell_type": "code",
   "execution_count": null,
   "id": "789d5c5b",
   "metadata": {},
   "outputs": [],
   "source": []
  }
 ],
 "metadata": {
  "kernelspec": {
   "display_name": "Python 3 (ipykernel)",
   "language": "python",
   "name": "python3"
  },
  "language_info": {
   "codemirror_mode": {
    "name": "ipython",
    "version": 3
   },
   "file_extension": ".py",
   "mimetype": "text/x-python",
   "name": "python",
   "nbconvert_exporter": "python",
   "pygments_lexer": "ipython3",
   "version": "3.9.7"
  }
 },
 "nbformat": 4,
 "nbformat_minor": 5
}
