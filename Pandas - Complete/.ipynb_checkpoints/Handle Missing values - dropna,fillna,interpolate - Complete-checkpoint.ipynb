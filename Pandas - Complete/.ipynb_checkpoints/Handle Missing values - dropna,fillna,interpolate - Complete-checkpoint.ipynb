{
 "cells": [
  {
   "cell_type": "markdown",
   "id": "60b447f6",
   "metadata": {},
   "source": [
    "# Handle missing values in dataset using dropna(),fillna(),interpolate()"
   ]
  },
  {
   "cell_type": "code",
   "execution_count": 1,
   "id": "e6db6f99",
   "metadata": {},
   "outputs": [],
   "source": [
    "#import   libraries\n",
    "import pandas as pd\n",
    "import numpy as np\n",
    "import matplotlib.pyplot as plt\n",
    "%matplotlib inline"
   ]
  },
  {
   "cell_type": "code",
   "execution_count": 2,
   "id": "ba8f17de",
   "metadata": {},
   "outputs": [
    {
     "data": {
      "text/html": [
       "<div>\n",
       "<style scoped>\n",
       "    .dataframe tbody tr th:only-of-type {\n",
       "        vertical-align: middle;\n",
       "    }\n",
       "\n",
       "    .dataframe tbody tr th {\n",
       "        vertical-align: top;\n",
       "    }\n",
       "\n",
       "    .dataframe thead th {\n",
       "        text-align: right;\n",
       "    }\n",
       "</style>\n",
       "<table border=\"1\" class=\"dataframe\">\n",
       "  <thead>\n",
       "    <tr style=\"text-align: right;\">\n",
       "      <th></th>\n",
       "      <th>Class</th>\n",
       "      <th>student Name</th>\n",
       "      <th>Math</th>\n",
       "      <th>English</th>\n",
       "      <th>Science</th>\n",
       "    </tr>\n",
       "  </thead>\n",
       "  <tbody>\n",
       "    <tr>\n",
       "      <th>0</th>\n",
       "      <td>6</td>\n",
       "      <td>hassan</td>\n",
       "      <td>70.0</td>\n",
       "      <td>60.0</td>\n",
       "      <td>40.0</td>\n",
       "    </tr>\n",
       "    <tr>\n",
       "      <th>1</th>\n",
       "      <td>6</td>\n",
       "      <td>noman</td>\n",
       "      <td>60.0</td>\n",
       "      <td>50.0</td>\n",
       "      <td>NaN</td>\n",
       "    </tr>\n",
       "    <tr>\n",
       "      <th>2</th>\n",
       "      <td>6</td>\n",
       "      <td>reema</td>\n",
       "      <td>80.0</td>\n",
       "      <td>0.0</td>\n",
       "      <td>50.0</td>\n",
       "    </tr>\n",
       "    <tr>\n",
       "      <th>3</th>\n",
       "      <td>7</td>\n",
       "      <td>taha</td>\n",
       "      <td>NaN</td>\n",
       "      <td>80.0</td>\n",
       "      <td>70.0</td>\n",
       "    </tr>\n",
       "    <tr>\n",
       "      <th>4</th>\n",
       "      <td>7</td>\n",
       "      <td>ashal</td>\n",
       "      <td>90.0</td>\n",
       "      <td>NaN</td>\n",
       "      <td>99.0</td>\n",
       "    </tr>\n",
       "    <tr>\n",
       "      <th>5</th>\n",
       "      <td>7</td>\n",
       "      <td>shumaila</td>\n",
       "      <td>NaN</td>\n",
       "      <td>NaN</td>\n",
       "      <td>93.0</td>\n",
       "    </tr>\n",
       "    <tr>\n",
       "      <th>6</th>\n",
       "      <td>9</td>\n",
       "      <td>rohi</td>\n",
       "      <td>99.0</td>\n",
       "      <td>100.0</td>\n",
       "      <td>NaN</td>\n",
       "    </tr>\n",
       "    <tr>\n",
       "      <th>7</th>\n",
       "      <td>9</td>\n",
       "      <td>noor</td>\n",
       "      <td>89.0</td>\n",
       "      <td>NaN</td>\n",
       "      <td>73.0</td>\n",
       "    </tr>\n",
       "    <tr>\n",
       "      <th>8</th>\n",
       "      <td>10</td>\n",
       "      <td>alam jan</td>\n",
       "      <td>67.0</td>\n",
       "      <td>72.0</td>\n",
       "      <td>100.0</td>\n",
       "    </tr>\n",
       "    <tr>\n",
       "      <th>9</th>\n",
       "      <td>10</td>\n",
       "      <td>noor deen</td>\n",
       "      <td>NaN</td>\n",
       "      <td>85.0</td>\n",
       "      <td>42.0</td>\n",
       "    </tr>\n",
       "  </tbody>\n",
       "</table>\n",
       "</div>"
      ],
      "text/plain": [
       "   Class student Name  Math  English  Science\n",
       "0      6       hassan  70.0     60.0     40.0\n",
       "1      6        noman  60.0     50.0      NaN\n",
       "2      6        reema  80.0      0.0     50.0\n",
       "3      7         taha   NaN     80.0     70.0\n",
       "4      7        ashal  90.0      NaN     99.0\n",
       "5      7     shumaila   NaN      NaN     93.0\n",
       "6      9         rohi  99.0    100.0      NaN\n",
       "7      9         noor  89.0      NaN     73.0\n",
       "8     10     alam jan  67.0     72.0    100.0\n",
       "9     10    noor deen   NaN     85.0     42.0"
      ]
     },
     "execution_count": 2,
     "metadata": {},
     "output_type": "execute_result"
    }
   ],
   "source": [
    "dataset=pd.read_excel(r\"C:\\Users\\Pc World Computers\\Desktop\\Pandas - Complete\\students grade.xlsx\")\n",
    "dataset"
   ]
  },
  {
   "cell_type": "code",
   "execution_count": 3,
   "id": "3af26748",
   "metadata": {},
   "outputs": [
    {
     "data": {
      "text/plain": [
       "(10, 5)"
      ]
     },
     "execution_count": 3,
     "metadata": {},
     "output_type": "execute_result"
    }
   ],
   "source": [
    "# checking the shape of the data set\n",
    "dataset.shape"
   ]
  },
  {
   "cell_type": "code",
   "execution_count": 4,
   "id": "ea3c9fe5",
   "metadata": {},
   "outputs": [
    {
     "data": {
      "text/plain": [
       "Class             int64\n",
       "student Name     object\n",
       "Math            float64\n",
       "English         float64\n",
       "Science         float64\n",
       "dtype: object"
      ]
     },
     "execution_count": 4,
     "metadata": {},
     "output_type": "execute_result"
    }
   ],
   "source": [
    "# data types of the data set\n",
    "dataset.dtypes"
   ]
  },
  {
   "cell_type": "code",
   "execution_count": 5,
   "id": "ebb007a5",
   "metadata": {},
   "outputs": [
    {
     "name": "stdout",
     "output_type": "stream",
     "text": [
      "<class 'pandas.core.frame.DataFrame'>\n",
      "RangeIndex: 10 entries, 0 to 9\n",
      "Data columns (total 5 columns):\n",
      " #   Column        Non-Null Count  Dtype  \n",
      "---  ------        --------------  -----  \n",
      " 0   Class         10 non-null     int64  \n",
      " 1   student Name  10 non-null     object \n",
      " 2   Math          7 non-null      float64\n",
      " 3   English       7 non-null      float64\n",
      " 4   Science       8 non-null      float64\n",
      "dtypes: float64(3), int64(1), object(1)\n",
      "memory usage: 528.0+ bytes\n"
     ]
    }
   ],
   "source": [
    "# details about the dataset\n",
    "dataset.info()"
   ]
  },
  {
   "cell_type": "code",
   "execution_count": 6,
   "id": "2642f42e",
   "metadata": {},
   "outputs": [
    {
     "data": {
      "text/plain": [
       "Class           0\n",
       "student Name    0\n",
       "Math            3\n",
       "English         3\n",
       "Science         2\n",
       "dtype: int64"
      ]
     },
     "execution_count": 6,
     "metadata": {},
     "output_type": "execute_result"
    }
   ],
   "source": [
    "#checking the null/missing values in dataset\n",
    "dataset.isnull().sum()"
   ]
  },
  {
   "cell_type": "markdown",
   "id": "64d156ac",
   "metadata": {},
   "source": [
    "#### There are multiple ways to deal with missing values. At first, we will create a copy of the dataset and then we will use *dropna()*"
   ]
  },
  {
   "cell_type": "markdown",
   "id": "0431ca5e",
   "metadata": {},
   "source": [
    "### dropna() is used to drop all the values in the columns that has missing or nan values"
   ]
  },
  {
   "cell_type": "markdown",
   "id": "b6520d35",
   "metadata": {},
   "source": [
    "# dropna() - drop all the rows with missing values"
   ]
  },
  {
   "cell_type": "code",
   "execution_count": 7,
   "id": "7b7b7637",
   "metadata": {},
   "outputs": [],
   "source": [
    "# first we will create the copy of the dataset\n",
    "dataset_copy1 = dataset.copy()"
   ]
  },
  {
   "cell_type": "code",
   "execution_count": 8,
   "id": "22324d71",
   "metadata": {},
   "outputs": [
    {
     "data": {
      "text/html": [
       "<div>\n",
       "<style scoped>\n",
       "    .dataframe tbody tr th:only-of-type {\n",
       "        vertical-align: middle;\n",
       "    }\n",
       "\n",
       "    .dataframe tbody tr th {\n",
       "        vertical-align: top;\n",
       "    }\n",
       "\n",
       "    .dataframe thead th {\n",
       "        text-align: right;\n",
       "    }\n",
       "</style>\n",
       "<table border=\"1\" class=\"dataframe\">\n",
       "  <thead>\n",
       "    <tr style=\"text-align: right;\">\n",
       "      <th></th>\n",
       "      <th>Class</th>\n",
       "      <th>student Name</th>\n",
       "      <th>Math</th>\n",
       "      <th>English</th>\n",
       "      <th>Science</th>\n",
       "    </tr>\n",
       "  </thead>\n",
       "  <tbody>\n",
       "    <tr>\n",
       "      <th>0</th>\n",
       "      <td>6</td>\n",
       "      <td>hassan</td>\n",
       "      <td>70.0</td>\n",
       "      <td>60.0</td>\n",
       "      <td>40.0</td>\n",
       "    </tr>\n",
       "    <tr>\n",
       "      <th>1</th>\n",
       "      <td>6</td>\n",
       "      <td>noman</td>\n",
       "      <td>60.0</td>\n",
       "      <td>50.0</td>\n",
       "      <td>NaN</td>\n",
       "    </tr>\n",
       "    <tr>\n",
       "      <th>2</th>\n",
       "      <td>6</td>\n",
       "      <td>reema</td>\n",
       "      <td>80.0</td>\n",
       "      <td>0.0</td>\n",
       "      <td>50.0</td>\n",
       "    </tr>\n",
       "    <tr>\n",
       "      <th>3</th>\n",
       "      <td>7</td>\n",
       "      <td>taha</td>\n",
       "      <td>NaN</td>\n",
       "      <td>80.0</td>\n",
       "      <td>70.0</td>\n",
       "    </tr>\n",
       "    <tr>\n",
       "      <th>4</th>\n",
       "      <td>7</td>\n",
       "      <td>ashal</td>\n",
       "      <td>90.0</td>\n",
       "      <td>NaN</td>\n",
       "      <td>99.0</td>\n",
       "    </tr>\n",
       "  </tbody>\n",
       "</table>\n",
       "</div>"
      ],
      "text/plain": [
       "   Class student Name  Math  English  Science\n",
       "0      6       hassan  70.0     60.0     40.0\n",
       "1      6        noman  60.0     50.0      NaN\n",
       "2      6        reema  80.0      0.0     50.0\n",
       "3      7         taha   NaN     80.0     70.0\n",
       "4      7        ashal  90.0      NaN     99.0"
      ]
     },
     "execution_count": 8,
     "metadata": {},
     "output_type": "execute_result"
    }
   ],
   "source": [
    "dataset_copy1.head()"
   ]
  },
  {
   "cell_type": "code",
   "execution_count": 9,
   "id": "e3f865ec",
   "metadata": {},
   "outputs": [],
   "source": [
    "# dropping all the rows with missing values\n",
    "dataset_copy1.dropna(inplace=True)"
   ]
  },
  {
   "cell_type": "markdown",
   "id": "93bf3535",
   "metadata": {},
   "source": [
    "All the rows with missing values has been removed"
   ]
  },
  {
   "cell_type": "code",
   "execution_count": 10,
   "id": "c3a64fad",
   "metadata": {},
   "outputs": [
    {
     "data": {
      "text/plain": [
       "Class           0\n",
       "student Name    0\n",
       "Math            0\n",
       "English         0\n",
       "Science         0\n",
       "dtype: int64"
      ]
     },
     "execution_count": 10,
     "metadata": {},
     "output_type": "execute_result"
    }
   ],
   "source": [
    "dataset_copy1.isnull().sum()"
   ]
  },
  {
   "cell_type": "code",
   "execution_count": 11,
   "id": "830c93b9",
   "metadata": {},
   "outputs": [
    {
     "data": {
      "text/html": [
       "<div>\n",
       "<style scoped>\n",
       "    .dataframe tbody tr th:only-of-type {\n",
       "        vertical-align: middle;\n",
       "    }\n",
       "\n",
       "    .dataframe tbody tr th {\n",
       "        vertical-align: top;\n",
       "    }\n",
       "\n",
       "    .dataframe thead th {\n",
       "        text-align: right;\n",
       "    }\n",
       "</style>\n",
       "<table border=\"1\" class=\"dataframe\">\n",
       "  <thead>\n",
       "    <tr style=\"text-align: right;\">\n",
       "      <th></th>\n",
       "      <th>Class</th>\n",
       "      <th>student Name</th>\n",
       "      <th>Math</th>\n",
       "      <th>English</th>\n",
       "      <th>Science</th>\n",
       "    </tr>\n",
       "  </thead>\n",
       "  <tbody>\n",
       "    <tr>\n",
       "      <th>0</th>\n",
       "      <td>6</td>\n",
       "      <td>hassan</td>\n",
       "      <td>70.0</td>\n",
       "      <td>60.0</td>\n",
       "      <td>40.0</td>\n",
       "    </tr>\n",
       "    <tr>\n",
       "      <th>2</th>\n",
       "      <td>6</td>\n",
       "      <td>reema</td>\n",
       "      <td>80.0</td>\n",
       "      <td>0.0</td>\n",
       "      <td>50.0</td>\n",
       "    </tr>\n",
       "    <tr>\n",
       "      <th>8</th>\n",
       "      <td>10</td>\n",
       "      <td>alam jan</td>\n",
       "      <td>67.0</td>\n",
       "      <td>72.0</td>\n",
       "      <td>100.0</td>\n",
       "    </tr>\n",
       "  </tbody>\n",
       "</table>\n",
       "</div>"
      ],
      "text/plain": [
       "   Class student Name  Math  English  Science\n",
       "0      6       hassan  70.0     60.0     40.0\n",
       "2      6        reema  80.0      0.0     50.0\n",
       "8     10     alam jan  67.0     72.0    100.0"
      ]
     },
     "execution_count": 11,
     "metadata": {},
     "output_type": "execute_result"
    }
   ],
   "source": [
    "dataset_copy1"
   ]
  },
  {
   "cell_type": "code",
   "execution_count": 12,
   "id": "60aecc95",
   "metadata": {},
   "outputs": [
    {
     "data": {
      "text/plain": [
       "(3, 5)"
      ]
     },
     "execution_count": 12,
     "metadata": {},
     "output_type": "execute_result"
    }
   ],
   "source": [
    "dataset_copy1.shape"
   ]
  },
  {
   "cell_type": "code",
   "execution_count": 13,
   "id": "f708bf11",
   "metadata": {},
   "outputs": [],
   "source": [
    "# we will export this dataset in excel\n",
    "dataset_copy1.to_excel(\"Handle Missing values with dropna.xlsx\")"
   ]
  },
  {
   "cell_type": "markdown",
   "id": "0ff6b1b2",
   "metadata": {},
   "source": [
    "This method is handy for large dataset,In the smaller dataset this function is not very useful. It will drop all the values that has missing or nan values. There are other better options we could use on smaller dataset like fillna(),interpolate()"
   ]
  },
  {
   "cell_type": "markdown",
   "id": "b2e24c15",
   "metadata": {},
   "source": [
    "# fillna() "
   ]
  },
  {
   "cell_type": "markdown",
   "id": "1f9d8ecf",
   "metadata": {},
   "source": [
    "### fillna() is used for handling missing values or nan values in the column"
   ]
  },
  {
   "cell_type": "markdown",
   "id": "297cbc61",
   "metadata": {},
   "source": [
    "#### We can use fillna() for handling numercial missing data with different techniques like by putting average values(mean),median,mode etc."
   ]
  },
  {
   "cell_type": "code",
   "execution_count": 14,
   "id": "32deab07",
   "metadata": {},
   "outputs": [],
   "source": [
    "# creating a  copy of the dataset\n",
    "dataset_copy2 = dataset.copy()"
   ]
  },
  {
   "cell_type": "code",
   "execution_count": 15,
   "id": "9e00571c",
   "metadata": {},
   "outputs": [
    {
     "data": {
      "text/html": [
       "<div>\n",
       "<style scoped>\n",
       "    .dataframe tbody tr th:only-of-type {\n",
       "        vertical-align: middle;\n",
       "    }\n",
       "\n",
       "    .dataframe tbody tr th {\n",
       "        vertical-align: top;\n",
       "    }\n",
       "\n",
       "    .dataframe thead th {\n",
       "        text-align: right;\n",
       "    }\n",
       "</style>\n",
       "<table border=\"1\" class=\"dataframe\">\n",
       "  <thead>\n",
       "    <tr style=\"text-align: right;\">\n",
       "      <th></th>\n",
       "      <th>Class</th>\n",
       "      <th>student Name</th>\n",
       "      <th>Math</th>\n",
       "      <th>English</th>\n",
       "      <th>Science</th>\n",
       "    </tr>\n",
       "  </thead>\n",
       "  <tbody>\n",
       "    <tr>\n",
       "      <th>0</th>\n",
       "      <td>6</td>\n",
       "      <td>hassan</td>\n",
       "      <td>70.0</td>\n",
       "      <td>60.0</td>\n",
       "      <td>40.0</td>\n",
       "    </tr>\n",
       "    <tr>\n",
       "      <th>1</th>\n",
       "      <td>6</td>\n",
       "      <td>noman</td>\n",
       "      <td>60.0</td>\n",
       "      <td>50.0</td>\n",
       "      <td>NaN</td>\n",
       "    </tr>\n",
       "    <tr>\n",
       "      <th>2</th>\n",
       "      <td>6</td>\n",
       "      <td>reema</td>\n",
       "      <td>80.0</td>\n",
       "      <td>0.0</td>\n",
       "      <td>50.0</td>\n",
       "    </tr>\n",
       "    <tr>\n",
       "      <th>3</th>\n",
       "      <td>7</td>\n",
       "      <td>taha</td>\n",
       "      <td>NaN</td>\n",
       "      <td>80.0</td>\n",
       "      <td>70.0</td>\n",
       "    </tr>\n",
       "    <tr>\n",
       "      <th>4</th>\n",
       "      <td>7</td>\n",
       "      <td>ashal</td>\n",
       "      <td>90.0</td>\n",
       "      <td>NaN</td>\n",
       "      <td>99.0</td>\n",
       "    </tr>\n",
       "    <tr>\n",
       "      <th>5</th>\n",
       "      <td>7</td>\n",
       "      <td>shumaila</td>\n",
       "      <td>NaN</td>\n",
       "      <td>NaN</td>\n",
       "      <td>93.0</td>\n",
       "    </tr>\n",
       "    <tr>\n",
       "      <th>6</th>\n",
       "      <td>9</td>\n",
       "      <td>rohi</td>\n",
       "      <td>99.0</td>\n",
       "      <td>100.0</td>\n",
       "      <td>NaN</td>\n",
       "    </tr>\n",
       "    <tr>\n",
       "      <th>7</th>\n",
       "      <td>9</td>\n",
       "      <td>noor</td>\n",
       "      <td>89.0</td>\n",
       "      <td>NaN</td>\n",
       "      <td>73.0</td>\n",
       "    </tr>\n",
       "    <tr>\n",
       "      <th>8</th>\n",
       "      <td>10</td>\n",
       "      <td>alam jan</td>\n",
       "      <td>67.0</td>\n",
       "      <td>72.0</td>\n",
       "      <td>100.0</td>\n",
       "    </tr>\n",
       "    <tr>\n",
       "      <th>9</th>\n",
       "      <td>10</td>\n",
       "      <td>noor deen</td>\n",
       "      <td>NaN</td>\n",
       "      <td>85.0</td>\n",
       "      <td>42.0</td>\n",
       "    </tr>\n",
       "  </tbody>\n",
       "</table>\n",
       "</div>"
      ],
      "text/plain": [
       "   Class student Name  Math  English  Science\n",
       "0      6       hassan  70.0     60.0     40.0\n",
       "1      6        noman  60.0     50.0      NaN\n",
       "2      6        reema  80.0      0.0     50.0\n",
       "3      7         taha   NaN     80.0     70.0\n",
       "4      7        ashal  90.0      NaN     99.0\n",
       "5      7     shumaila   NaN      NaN     93.0\n",
       "6      9         rohi  99.0    100.0      NaN\n",
       "7      9         noor  89.0      NaN     73.0\n",
       "8     10     alam jan  67.0     72.0    100.0\n",
       "9     10    noor deen   NaN     85.0     42.0"
      ]
     },
     "execution_count": 15,
     "metadata": {},
     "output_type": "execute_result"
    }
   ],
   "source": [
    "dataset_copy2"
   ]
  },
  {
   "cell_type": "markdown",
   "id": "11be7d8f",
   "metadata": {},
   "source": [
    "Handle missing value with **fillna()** by average value(mean)"
   ]
  },
  {
   "cell_type": "code",
   "execution_count": 16,
   "id": "2dad6d04",
   "metadata": {},
   "outputs": [],
   "source": [
    "dataset_copy2[\"Math\"].fillna(dataset_copy2[\"Math\"].mean(),inplace=True)"
   ]
  },
  {
   "cell_type": "code",
   "execution_count": 17,
   "id": "2b483427",
   "metadata": {},
   "outputs": [],
   "source": [
    "dataset_copy2[\"English\"].fillna(dataset_copy2[\"English\"].mean(),inplace=True)"
   ]
  },
  {
   "cell_type": "code",
   "execution_count": 18,
   "id": "137a5496",
   "metadata": {},
   "outputs": [],
   "source": [
    "dataset_copy2[\"Science\"].fillna(dataset_copy2[\"Science\"].mean(),inplace=True)"
   ]
  },
  {
   "cell_type": "code",
   "execution_count": 19,
   "id": "541f6576",
   "metadata": {},
   "outputs": [
    {
     "data": {
      "text/plain": [
       "Class           0\n",
       "student Name    0\n",
       "Math            0\n",
       "English         0\n",
       "Science         0\n",
       "dtype: int64"
      ]
     },
     "execution_count": 19,
     "metadata": {},
     "output_type": "execute_result"
    }
   ],
   "source": [
    "dataset_copy2.isnull().sum()"
   ]
  },
  {
   "cell_type": "markdown",
   "id": "63ada82b",
   "metadata": {},
   "source": [
    "Data is clean now with inseting average values"
   ]
  },
  {
   "cell_type": "code",
   "execution_count": 20,
   "id": "03687c0a",
   "metadata": {},
   "outputs": [
    {
     "data": {
      "text/html": [
       "<div>\n",
       "<style scoped>\n",
       "    .dataframe tbody tr th:only-of-type {\n",
       "        vertical-align: middle;\n",
       "    }\n",
       "\n",
       "    .dataframe tbody tr th {\n",
       "        vertical-align: top;\n",
       "    }\n",
       "\n",
       "    .dataframe thead th {\n",
       "        text-align: right;\n",
       "    }\n",
       "</style>\n",
       "<table border=\"1\" class=\"dataframe\">\n",
       "  <thead>\n",
       "    <tr style=\"text-align: right;\">\n",
       "      <th></th>\n",
       "      <th>Class</th>\n",
       "      <th>student Name</th>\n",
       "      <th>Math</th>\n",
       "      <th>English</th>\n",
       "      <th>Science</th>\n",
       "    </tr>\n",
       "  </thead>\n",
       "  <tbody>\n",
       "    <tr>\n",
       "      <th>0</th>\n",
       "      <td>6</td>\n",
       "      <td>hassan</td>\n",
       "      <td>70.000000</td>\n",
       "      <td>60.000000</td>\n",
       "      <td>40.000</td>\n",
       "    </tr>\n",
       "    <tr>\n",
       "      <th>1</th>\n",
       "      <td>6</td>\n",
       "      <td>noman</td>\n",
       "      <td>60.000000</td>\n",
       "      <td>50.000000</td>\n",
       "      <td>70.875</td>\n",
       "    </tr>\n",
       "    <tr>\n",
       "      <th>2</th>\n",
       "      <td>6</td>\n",
       "      <td>reema</td>\n",
       "      <td>80.000000</td>\n",
       "      <td>0.000000</td>\n",
       "      <td>50.000</td>\n",
       "    </tr>\n",
       "    <tr>\n",
       "      <th>3</th>\n",
       "      <td>7</td>\n",
       "      <td>taha</td>\n",
       "      <td>79.285714</td>\n",
       "      <td>80.000000</td>\n",
       "      <td>70.000</td>\n",
       "    </tr>\n",
       "    <tr>\n",
       "      <th>4</th>\n",
       "      <td>7</td>\n",
       "      <td>ashal</td>\n",
       "      <td>90.000000</td>\n",
       "      <td>63.857143</td>\n",
       "      <td>99.000</td>\n",
       "    </tr>\n",
       "    <tr>\n",
       "      <th>5</th>\n",
       "      <td>7</td>\n",
       "      <td>shumaila</td>\n",
       "      <td>79.285714</td>\n",
       "      <td>63.857143</td>\n",
       "      <td>93.000</td>\n",
       "    </tr>\n",
       "    <tr>\n",
       "      <th>6</th>\n",
       "      <td>9</td>\n",
       "      <td>rohi</td>\n",
       "      <td>99.000000</td>\n",
       "      <td>100.000000</td>\n",
       "      <td>70.875</td>\n",
       "    </tr>\n",
       "    <tr>\n",
       "      <th>7</th>\n",
       "      <td>9</td>\n",
       "      <td>noor</td>\n",
       "      <td>89.000000</td>\n",
       "      <td>63.857143</td>\n",
       "      <td>73.000</td>\n",
       "    </tr>\n",
       "    <tr>\n",
       "      <th>8</th>\n",
       "      <td>10</td>\n",
       "      <td>alam jan</td>\n",
       "      <td>67.000000</td>\n",
       "      <td>72.000000</td>\n",
       "      <td>100.000</td>\n",
       "    </tr>\n",
       "    <tr>\n",
       "      <th>9</th>\n",
       "      <td>10</td>\n",
       "      <td>noor deen</td>\n",
       "      <td>79.285714</td>\n",
       "      <td>85.000000</td>\n",
       "      <td>42.000</td>\n",
       "    </tr>\n",
       "  </tbody>\n",
       "</table>\n",
       "</div>"
      ],
      "text/plain": [
       "   Class student Name       Math     English  Science\n",
       "0      6       hassan  70.000000   60.000000   40.000\n",
       "1      6        noman  60.000000   50.000000   70.875\n",
       "2      6        reema  80.000000    0.000000   50.000\n",
       "3      7         taha  79.285714   80.000000   70.000\n",
       "4      7        ashal  90.000000   63.857143   99.000\n",
       "5      7     shumaila  79.285714   63.857143   93.000\n",
       "6      9         rohi  99.000000  100.000000   70.875\n",
       "7      9         noor  89.000000   63.857143   73.000\n",
       "8     10     alam jan  67.000000   72.000000  100.000\n",
       "9     10    noor deen  79.285714   85.000000   42.000"
      ]
     },
     "execution_count": 20,
     "metadata": {},
     "output_type": "execute_result"
    }
   ],
   "source": [
    "dataset_copy2"
   ]
  },
  {
   "cell_type": "code",
   "execution_count": 21,
   "id": "49caf358",
   "metadata": {},
   "outputs": [
    {
     "data": {
      "text/plain": [
       "Class             int64\n",
       "student Name     object\n",
       "Math            float64\n",
       "English         float64\n",
       "Science         float64\n",
       "dtype: object"
      ]
     },
     "execution_count": 21,
     "metadata": {},
     "output_type": "execute_result"
    }
   ],
   "source": [
    "#checking the data type\n",
    "dataset_copy2.dtypes"
   ]
  },
  {
   "cell_type": "code",
   "execution_count": 22,
   "id": "4b4e8594",
   "metadata": {},
   "outputs": [],
   "source": [
    "# converting the datatype to int of columns: Math,English,Science\n",
    "dataset_copy2[[\"Math\",\"English\",\"Science\"]] = dataset_copy2[[\"Math\",\"English\",\"Science\"]].astype('int64')"
   ]
  },
  {
   "cell_type": "code",
   "execution_count": 23,
   "id": "2238ae0e",
   "metadata": {},
   "outputs": [
    {
     "data": {
      "text/plain": [
       "Class            int64\n",
       "student Name    object\n",
       "Math             int64\n",
       "English          int64\n",
       "Science          int64\n",
       "dtype: object"
      ]
     },
     "execution_count": 23,
     "metadata": {},
     "output_type": "execute_result"
    }
   ],
   "source": [
    "# checking the datatype after manipulation\n",
    "dataset_copy2.dtypes"
   ]
  },
  {
   "cell_type": "code",
   "execution_count": 24,
   "id": "a8c3284a",
   "metadata": {},
   "outputs": [
    {
     "data": {
      "text/html": [
       "<div>\n",
       "<style scoped>\n",
       "    .dataframe tbody tr th:only-of-type {\n",
       "        vertical-align: middle;\n",
       "    }\n",
       "\n",
       "    .dataframe tbody tr th {\n",
       "        vertical-align: top;\n",
       "    }\n",
       "\n",
       "    .dataframe thead th {\n",
       "        text-align: right;\n",
       "    }\n",
       "</style>\n",
       "<table border=\"1\" class=\"dataframe\">\n",
       "  <thead>\n",
       "    <tr style=\"text-align: right;\">\n",
       "      <th></th>\n",
       "      <th>Class</th>\n",
       "      <th>student Name</th>\n",
       "      <th>Math</th>\n",
       "      <th>English</th>\n",
       "      <th>Science</th>\n",
       "    </tr>\n",
       "  </thead>\n",
       "  <tbody>\n",
       "    <tr>\n",
       "      <th>0</th>\n",
       "      <td>6</td>\n",
       "      <td>hassan</td>\n",
       "      <td>70</td>\n",
       "      <td>60</td>\n",
       "      <td>40</td>\n",
       "    </tr>\n",
       "    <tr>\n",
       "      <th>1</th>\n",
       "      <td>6</td>\n",
       "      <td>noman</td>\n",
       "      <td>60</td>\n",
       "      <td>50</td>\n",
       "      <td>70</td>\n",
       "    </tr>\n",
       "    <tr>\n",
       "      <th>2</th>\n",
       "      <td>6</td>\n",
       "      <td>reema</td>\n",
       "      <td>80</td>\n",
       "      <td>0</td>\n",
       "      <td>50</td>\n",
       "    </tr>\n",
       "    <tr>\n",
       "      <th>3</th>\n",
       "      <td>7</td>\n",
       "      <td>taha</td>\n",
       "      <td>79</td>\n",
       "      <td>80</td>\n",
       "      <td>70</td>\n",
       "    </tr>\n",
       "    <tr>\n",
       "      <th>4</th>\n",
       "      <td>7</td>\n",
       "      <td>ashal</td>\n",
       "      <td>90</td>\n",
       "      <td>63</td>\n",
       "      <td>99</td>\n",
       "    </tr>\n",
       "    <tr>\n",
       "      <th>5</th>\n",
       "      <td>7</td>\n",
       "      <td>shumaila</td>\n",
       "      <td>79</td>\n",
       "      <td>63</td>\n",
       "      <td>93</td>\n",
       "    </tr>\n",
       "    <tr>\n",
       "      <th>6</th>\n",
       "      <td>9</td>\n",
       "      <td>rohi</td>\n",
       "      <td>99</td>\n",
       "      <td>100</td>\n",
       "      <td>70</td>\n",
       "    </tr>\n",
       "    <tr>\n",
       "      <th>7</th>\n",
       "      <td>9</td>\n",
       "      <td>noor</td>\n",
       "      <td>89</td>\n",
       "      <td>63</td>\n",
       "      <td>73</td>\n",
       "    </tr>\n",
       "    <tr>\n",
       "      <th>8</th>\n",
       "      <td>10</td>\n",
       "      <td>alam jan</td>\n",
       "      <td>67</td>\n",
       "      <td>72</td>\n",
       "      <td>100</td>\n",
       "    </tr>\n",
       "    <tr>\n",
       "      <th>9</th>\n",
       "      <td>10</td>\n",
       "      <td>noor deen</td>\n",
       "      <td>79</td>\n",
       "      <td>85</td>\n",
       "      <td>42</td>\n",
       "    </tr>\n",
       "  </tbody>\n",
       "</table>\n",
       "</div>"
      ],
      "text/plain": [
       "   Class student Name  Math  English  Science\n",
       "0      6       hassan    70       60       40\n",
       "1      6        noman    60       50       70\n",
       "2      6        reema    80        0       50\n",
       "3      7         taha    79       80       70\n",
       "4      7        ashal    90       63       99\n",
       "5      7     shumaila    79       63       93\n",
       "6      9         rohi    99      100       70\n",
       "7      9         noor    89       63       73\n",
       "8     10     alam jan    67       72      100\n",
       "9     10    noor deen    79       85       42"
      ]
     },
     "execution_count": 24,
     "metadata": {},
     "output_type": "execute_result"
    }
   ],
   "source": [
    "dataset_copy2"
   ]
  },
  {
   "cell_type": "code",
   "execution_count": 25,
   "id": "90e11f31",
   "metadata": {},
   "outputs": [],
   "source": [
    "# exporting the dataset manipulated by fillna() with average value\n",
    "dataset_copy2.to_csv(\"Handle missing data with fillan(mean()).csv\")"
   ]
  },
  {
   "cell_type": "markdown",
   "id": "8e85f556",
   "metadata": {},
   "source": [
    "# fillna() - method=bfill/pad,ffill - limit=1 (could be 1,2,3)"
   ]
  },
  {
   "cell_type": "code",
   "execution_count": 26,
   "id": "c166d949",
   "metadata": {},
   "outputs": [],
   "source": [
    "# making a duplicate  of the original dataset\n",
    "dataset_copy3 = dataset.copy()"
   ]
  },
  {
   "cell_type": "code",
   "execution_count": 27,
   "id": "07b9868a",
   "metadata": {},
   "outputs": [
    {
     "data": {
      "text/plain": [
       "(10, 5)"
      ]
     },
     "execution_count": 27,
     "metadata": {},
     "output_type": "execute_result"
    }
   ],
   "source": [
    "dataset_copy3.shape"
   ]
  },
  {
   "cell_type": "code",
   "execution_count": 28,
   "id": "cd5889b7",
   "metadata": {},
   "outputs": [
    {
     "data": {
      "text/plain": [
       "Class           0\n",
       "student Name    0\n",
       "Math            3\n",
       "English         3\n",
       "Science         2\n",
       "dtype: int64"
      ]
     },
     "execution_count": 28,
     "metadata": {},
     "output_type": "execute_result"
    }
   ],
   "source": [
    "dataset_copy3.isnull().sum()"
   ]
  },
  {
   "cell_type": "markdown",
   "id": "807e9a82",
   "metadata": {},
   "source": [
    "handle missing data with forward or backward values present in the dataset.\n"
   ]
  },
  {
   "cell_type": "code",
   "execution_count": 29,
   "id": "d3a3c16b",
   "metadata": {},
   "outputs": [
    {
     "data": {
      "text/html": [
       "<div>\n",
       "<style scoped>\n",
       "    .dataframe tbody tr th:only-of-type {\n",
       "        vertical-align: middle;\n",
       "    }\n",
       "\n",
       "    .dataframe tbody tr th {\n",
       "        vertical-align: top;\n",
       "    }\n",
       "\n",
       "    .dataframe thead th {\n",
       "        text-align: right;\n",
       "    }\n",
       "</style>\n",
       "<table border=\"1\" class=\"dataframe\">\n",
       "  <thead>\n",
       "    <tr style=\"text-align: right;\">\n",
       "      <th></th>\n",
       "      <th>Class</th>\n",
       "      <th>student Name</th>\n",
       "      <th>Math</th>\n",
       "      <th>English</th>\n",
       "      <th>Science</th>\n",
       "    </tr>\n",
       "  </thead>\n",
       "  <tbody>\n",
       "    <tr>\n",
       "      <th>0</th>\n",
       "      <td>6</td>\n",
       "      <td>hassan</td>\n",
       "      <td>70.0</td>\n",
       "      <td>60.0</td>\n",
       "      <td>40.0</td>\n",
       "    </tr>\n",
       "    <tr>\n",
       "      <th>1</th>\n",
       "      <td>6</td>\n",
       "      <td>noman</td>\n",
       "      <td>60.0</td>\n",
       "      <td>50.0</td>\n",
       "      <td>NaN</td>\n",
       "    </tr>\n",
       "    <tr>\n",
       "      <th>2</th>\n",
       "      <td>6</td>\n",
       "      <td>reema</td>\n",
       "      <td>80.0</td>\n",
       "      <td>0.0</td>\n",
       "      <td>50.0</td>\n",
       "    </tr>\n",
       "    <tr>\n",
       "      <th>3</th>\n",
       "      <td>7</td>\n",
       "      <td>taha</td>\n",
       "      <td>NaN</td>\n",
       "      <td>80.0</td>\n",
       "      <td>70.0</td>\n",
       "    </tr>\n",
       "    <tr>\n",
       "      <th>4</th>\n",
       "      <td>7</td>\n",
       "      <td>ashal</td>\n",
       "      <td>90.0</td>\n",
       "      <td>NaN</td>\n",
       "      <td>99.0</td>\n",
       "    </tr>\n",
       "    <tr>\n",
       "      <th>5</th>\n",
       "      <td>7</td>\n",
       "      <td>shumaila</td>\n",
       "      <td>NaN</td>\n",
       "      <td>NaN</td>\n",
       "      <td>93.0</td>\n",
       "    </tr>\n",
       "    <tr>\n",
       "      <th>6</th>\n",
       "      <td>9</td>\n",
       "      <td>rohi</td>\n",
       "      <td>99.0</td>\n",
       "      <td>100.0</td>\n",
       "      <td>NaN</td>\n",
       "    </tr>\n",
       "    <tr>\n",
       "      <th>7</th>\n",
       "      <td>9</td>\n",
       "      <td>noor</td>\n",
       "      <td>89.0</td>\n",
       "      <td>NaN</td>\n",
       "      <td>73.0</td>\n",
       "    </tr>\n",
       "    <tr>\n",
       "      <th>8</th>\n",
       "      <td>10</td>\n",
       "      <td>alam jan</td>\n",
       "      <td>67.0</td>\n",
       "      <td>72.0</td>\n",
       "      <td>100.0</td>\n",
       "    </tr>\n",
       "    <tr>\n",
       "      <th>9</th>\n",
       "      <td>10</td>\n",
       "      <td>noor deen</td>\n",
       "      <td>NaN</td>\n",
       "      <td>85.0</td>\n",
       "      <td>42.0</td>\n",
       "    </tr>\n",
       "  </tbody>\n",
       "</table>\n",
       "</div>"
      ],
      "text/plain": [
       "   Class student Name  Math  English  Science\n",
       "0      6       hassan  70.0     60.0     40.0\n",
       "1      6        noman  60.0     50.0      NaN\n",
       "2      6        reema  80.0      0.0     50.0\n",
       "3      7         taha   NaN     80.0     70.0\n",
       "4      7        ashal  90.0      NaN     99.0\n",
       "5      7     shumaila   NaN      NaN     93.0\n",
       "6      9         rohi  99.0    100.0      NaN\n",
       "7      9         noor  89.0      NaN     73.0\n",
       "8     10     alam jan  67.0     72.0    100.0\n",
       "9     10    noor deen   NaN     85.0     42.0"
      ]
     },
     "execution_count": 29,
     "metadata": {},
     "output_type": "execute_result"
    }
   ],
   "source": [
    "dataset_copy3"
   ]
  },
  {
   "cell_type": "code",
   "execution_count": 30,
   "id": "e9c0b1c1",
   "metadata": {},
   "outputs": [],
   "source": [
    "dataset_copy3.ffill(limit=2,inplace=True) # limit means it can only fill the value in next 2 columns"
   ]
  },
  {
   "cell_type": "markdown",
   "id": "126d4720",
   "metadata": {},
   "source": [
    "#### The data is handled by ffill - forward fill which insert the row 3  value to row 4,5  in the next column"
   ]
  },
  {
   "cell_type": "markdown",
   "id": "c3774989",
   "metadata": {},
   "source": [
    "## Same could be done using bfill or pad - dataset_copy3.bfill()"
   ]
  },
  {
   "cell_type": "code",
   "execution_count": 41,
   "id": "11f9ce15",
   "metadata": {},
   "outputs": [
    {
     "data": {
      "text/html": [
       "<div>\n",
       "<style scoped>\n",
       "    .dataframe tbody tr th:only-of-type {\n",
       "        vertical-align: middle;\n",
       "    }\n",
       "\n",
       "    .dataframe tbody tr th {\n",
       "        vertical-align: top;\n",
       "    }\n",
       "\n",
       "    .dataframe thead th {\n",
       "        text-align: right;\n",
       "    }\n",
       "</style>\n",
       "<table border=\"1\" class=\"dataframe\">\n",
       "  <thead>\n",
       "    <tr style=\"text-align: right;\">\n",
       "      <th></th>\n",
       "      <th>student Name</th>\n",
       "      <th>Math</th>\n",
       "      <th>English</th>\n",
       "      <th>Science</th>\n",
       "    </tr>\n",
       "    <tr>\n",
       "      <th>Class</th>\n",
       "      <th></th>\n",
       "      <th></th>\n",
       "      <th></th>\n",
       "      <th></th>\n",
       "    </tr>\n",
       "  </thead>\n",
       "  <tbody>\n",
       "    <tr>\n",
       "      <th>6</th>\n",
       "      <td>hassan</td>\n",
       "      <td>70.0</td>\n",
       "      <td>60.0</td>\n",
       "      <td>40.0</td>\n",
       "    </tr>\n",
       "    <tr>\n",
       "      <th>6</th>\n",
       "      <td>noman</td>\n",
       "      <td>60.0</td>\n",
       "      <td>50.0</td>\n",
       "      <td>40.0</td>\n",
       "    </tr>\n",
       "    <tr>\n",
       "      <th>6</th>\n",
       "      <td>reema</td>\n",
       "      <td>80.0</td>\n",
       "      <td>0.0</td>\n",
       "      <td>50.0</td>\n",
       "    </tr>\n",
       "    <tr>\n",
       "      <th>7</th>\n",
       "      <td>taha</td>\n",
       "      <td>80.0</td>\n",
       "      <td>80.0</td>\n",
       "      <td>70.0</td>\n",
       "    </tr>\n",
       "    <tr>\n",
       "      <th>7</th>\n",
       "      <td>ashal</td>\n",
       "      <td>90.0</td>\n",
       "      <td>80.0</td>\n",
       "      <td>99.0</td>\n",
       "    </tr>\n",
       "    <tr>\n",
       "      <th>7</th>\n",
       "      <td>shumaila</td>\n",
       "      <td>90.0</td>\n",
       "      <td>80.0</td>\n",
       "      <td>93.0</td>\n",
       "    </tr>\n",
       "    <tr>\n",
       "      <th>9</th>\n",
       "      <td>rohi</td>\n",
       "      <td>99.0</td>\n",
       "      <td>100.0</td>\n",
       "      <td>93.0</td>\n",
       "    </tr>\n",
       "    <tr>\n",
       "      <th>9</th>\n",
       "      <td>noor</td>\n",
       "      <td>89.0</td>\n",
       "      <td>100.0</td>\n",
       "      <td>73.0</td>\n",
       "    </tr>\n",
       "    <tr>\n",
       "      <th>10</th>\n",
       "      <td>alam jan</td>\n",
       "      <td>67.0</td>\n",
       "      <td>72.0</td>\n",
       "      <td>100.0</td>\n",
       "    </tr>\n",
       "    <tr>\n",
       "      <th>10</th>\n",
       "      <td>noor deen</td>\n",
       "      <td>67.0</td>\n",
       "      <td>85.0</td>\n",
       "      <td>42.0</td>\n",
       "    </tr>\n",
       "  </tbody>\n",
       "</table>\n",
       "</div>"
      ],
      "text/plain": [
       "      student Name  Math  English  Science\n",
       "Class                                     \n",
       "6           hassan  70.0     60.0     40.0\n",
       "6            noman  60.0     50.0     40.0\n",
       "6            reema  80.0      0.0     50.0\n",
       "7             taha  80.0     80.0     70.0\n",
       "7            ashal  90.0     80.0     99.0\n",
       "7         shumaila  90.0     80.0     93.0\n",
       "9             rohi  99.0    100.0     93.0\n",
       "9             noor  89.0    100.0     73.0\n",
       "10        alam jan  67.0     72.0    100.0\n",
       "10       noor deen  67.0     85.0     42.0"
      ]
     },
     "execution_count": 41,
     "metadata": {},
     "output_type": "execute_result"
    }
   ],
   "source": [
    "dataset_copy3"
   ]
  },
  {
   "cell_type": "code",
   "execution_count": 45,
   "id": "40df682c",
   "metadata": {},
   "outputs": [],
   "source": [
    "# exporting the dataset into excel\n",
    "dataset_copy3.to_excel(\"fillna with ffill,limit.xlsx\")"
   ]
  },
  {
   "cell_type": "markdown",
   "id": "89a9e9ed",
   "metadata": {},
   "source": [
    "### handling missing values with dictionary "
   ]
  },
  {
   "cell_type": "code",
   "execution_count": 47,
   "id": "bd3218ea",
   "metadata": {},
   "outputs": [],
   "source": [
    "# creating a copy of the original dataset\n",
    "dataset_copy4 = dataset.copy()"
   ]
  },
  {
   "cell_type": "code",
   "execution_count": 49,
   "id": "76b23dab",
   "metadata": {},
   "outputs": [
    {
     "data": {
      "text/plain": [
       "Class           0\n",
       "student Name    0\n",
       "Math            3\n",
       "English         3\n",
       "Science         2\n",
       "dtype: int64"
      ]
     },
     "execution_count": 49,
     "metadata": {},
     "output_type": "execute_result"
    }
   ],
   "source": [
    "dataset_copy4.isnull().sum()"
   ]
  },
  {
   "cell_type": "code",
   "execution_count": 50,
   "id": "209140da",
   "metadata": {},
   "outputs": [],
   "source": [
    "# handle missing data in dictionary \n",
    "dataset_copy4.fillna({\n",
    "    'Math': 50,\n",
    "    'Science':50,\n",
    "    'English':50\n",
    "},inplace=True)"
   ]
  },
  {
   "cell_type": "code",
   "execution_count": 52,
   "id": "9f381051",
   "metadata": {},
   "outputs": [
    {
     "data": {
      "text/plain": [
       "Class           0\n",
       "student Name    0\n",
       "Math            0\n",
       "English         0\n",
       "Science         0\n",
       "dtype: int64"
      ]
     },
     "execution_count": 52,
     "metadata": {},
     "output_type": "execute_result"
    }
   ],
   "source": [
    "dataset_copy4.isnull().sum()"
   ]
  },
  {
   "cell_type": "code",
   "execution_count": 53,
   "id": "ce483757",
   "metadata": {},
   "outputs": [],
   "source": [
    "# creating a copy of the dataset\n",
    "dataset_copy4.to_excel(\"fillna with dictionary.xlsx\")"
   ]
  },
  {
   "cell_type": "markdown",
   "id": "f21fccf6",
   "metadata": {},
   "source": [
    "# interpolate()"
   ]
  },
  {
   "cell_type": "markdown",
   "id": "934392e5",
   "metadata": {},
   "source": [
    "### --- interpolate() is used different methods to insert value in the missing columns by default its method is linear, it could be time, nearest,bfill,ffill,pad etc"
   ]
  },
  {
   "cell_type": "markdown",
   "id": "81ddee3d",
   "metadata": {},
   "source": [
    "> for example, row 5 is nan/missing and we want a value in it. Then we could use  interpolate() to insert values, by default linear method it will add the average value of row 6 and row 4 to the missing field. By time method it will use the neares time,date etc."
   ]
  },
  {
   "cell_type": "code",
   "execution_count": 54,
   "id": "34d0c71e",
   "metadata": {},
   "outputs": [],
   "source": [
    "# creating a copy of the original dataset\n",
    "dataset_copy5 = dataset.copy()"
   ]
  },
  {
   "cell_type": "code",
   "execution_count": 55,
   "id": "5bf709b5",
   "metadata": {},
   "outputs": [
    {
     "data": {
      "text/plain": [
       "Class           0\n",
       "student Name    0\n",
       "Math            3\n",
       "English         3\n",
       "Science         2\n",
       "dtype: int64"
      ]
     },
     "execution_count": 55,
     "metadata": {},
     "output_type": "execute_result"
    }
   ],
   "source": [
    "dataset_copy5.isnull().sum()"
   ]
  },
  {
   "cell_type": "code",
   "execution_count": 66,
   "id": "929118ce",
   "metadata": {},
   "outputs": [],
   "source": [
    "# Now we are going to handle these values by interpolate()  with linear method.\n",
    "dataset_copy5.interpolate(inplace=True) # linear is used for continous values time works well on date"
   ]
  },
  {
   "cell_type": "code",
   "execution_count": 67,
   "id": "0d6e5bbd",
   "metadata": {},
   "outputs": [
    {
     "data": {
      "text/html": [
       "<div>\n",
       "<style scoped>\n",
       "    .dataframe tbody tr th:only-of-type {\n",
       "        vertical-align: middle;\n",
       "    }\n",
       "\n",
       "    .dataframe tbody tr th {\n",
       "        vertical-align: top;\n",
       "    }\n",
       "\n",
       "    .dataframe thead th {\n",
       "        text-align: right;\n",
       "    }\n",
       "</style>\n",
       "<table border=\"1\" class=\"dataframe\">\n",
       "  <thead>\n",
       "    <tr style=\"text-align: right;\">\n",
       "      <th></th>\n",
       "      <th>Class</th>\n",
       "      <th>student Name</th>\n",
       "      <th>Math</th>\n",
       "      <th>English</th>\n",
       "      <th>Science</th>\n",
       "    </tr>\n",
       "  </thead>\n",
       "  <tbody>\n",
       "    <tr>\n",
       "      <th>0</th>\n",
       "      <td>6</td>\n",
       "      <td>hassan</td>\n",
       "      <td>70.0</td>\n",
       "      <td>60.000000</td>\n",
       "      <td>40.0</td>\n",
       "    </tr>\n",
       "    <tr>\n",
       "      <th>1</th>\n",
       "      <td>6</td>\n",
       "      <td>noman</td>\n",
       "      <td>60.0</td>\n",
       "      <td>50.000000</td>\n",
       "      <td>45.0</td>\n",
       "    </tr>\n",
       "    <tr>\n",
       "      <th>2</th>\n",
       "      <td>6</td>\n",
       "      <td>reema</td>\n",
       "      <td>80.0</td>\n",
       "      <td>0.000000</td>\n",
       "      <td>50.0</td>\n",
       "    </tr>\n",
       "    <tr>\n",
       "      <th>3</th>\n",
       "      <td>7</td>\n",
       "      <td>taha</td>\n",
       "      <td>85.0</td>\n",
       "      <td>80.000000</td>\n",
       "      <td>70.0</td>\n",
       "    </tr>\n",
       "    <tr>\n",
       "      <th>4</th>\n",
       "      <td>7</td>\n",
       "      <td>ashal</td>\n",
       "      <td>90.0</td>\n",
       "      <td>86.666667</td>\n",
       "      <td>99.0</td>\n",
       "    </tr>\n",
       "    <tr>\n",
       "      <th>5</th>\n",
       "      <td>7</td>\n",
       "      <td>shumaila</td>\n",
       "      <td>94.5</td>\n",
       "      <td>93.333333</td>\n",
       "      <td>93.0</td>\n",
       "    </tr>\n",
       "    <tr>\n",
       "      <th>6</th>\n",
       "      <td>9</td>\n",
       "      <td>rohi</td>\n",
       "      <td>99.0</td>\n",
       "      <td>100.000000</td>\n",
       "      <td>83.0</td>\n",
       "    </tr>\n",
       "    <tr>\n",
       "      <th>7</th>\n",
       "      <td>9</td>\n",
       "      <td>noor</td>\n",
       "      <td>89.0</td>\n",
       "      <td>86.000000</td>\n",
       "      <td>73.0</td>\n",
       "    </tr>\n",
       "    <tr>\n",
       "      <th>8</th>\n",
       "      <td>10</td>\n",
       "      <td>alam jan</td>\n",
       "      <td>67.0</td>\n",
       "      <td>72.000000</td>\n",
       "      <td>100.0</td>\n",
       "    </tr>\n",
       "    <tr>\n",
       "      <th>9</th>\n",
       "      <td>10</td>\n",
       "      <td>noor deen</td>\n",
       "      <td>67.0</td>\n",
       "      <td>85.000000</td>\n",
       "      <td>42.0</td>\n",
       "    </tr>\n",
       "  </tbody>\n",
       "</table>\n",
       "</div>"
      ],
      "text/plain": [
       "   Class student Name  Math     English  Science\n",
       "0      6       hassan  70.0   60.000000     40.0\n",
       "1      6        noman  60.0   50.000000     45.0\n",
       "2      6        reema  80.0    0.000000     50.0\n",
       "3      7         taha  85.0   80.000000     70.0\n",
       "4      7        ashal  90.0   86.666667     99.0\n",
       "5      7     shumaila  94.5   93.333333     93.0\n",
       "6      9         rohi  99.0  100.000000     83.0\n",
       "7      9         noor  89.0   86.000000     73.0\n",
       "8     10     alam jan  67.0   72.000000    100.0\n",
       "9     10    noor deen  67.0   85.000000     42.0"
      ]
     },
     "execution_count": 67,
     "metadata": {},
     "output_type": "execute_result"
    }
   ],
   "source": [
    "dataset_copy5"
   ]
  },
  {
   "cell_type": "code",
   "execution_count": 68,
   "id": "b7f91615",
   "metadata": {},
   "outputs": [],
   "source": [
    "dataset_copy5.to_excel('interpolate.xlsx')"
   ]
  }
 ],
 "metadata": {
  "kernelspec": {
   "display_name": "Python 3 (ipykernel)",
   "language": "python",
   "name": "python3"
  },
  "language_info": {
   "codemirror_mode": {
    "name": "ipython",
    "version": 3
   },
   "file_extension": ".py",
   "mimetype": "text/x-python",
   "name": "python",
   "nbconvert_exporter": "python",
   "pygments_lexer": "ipython3",
   "version": "3.9.7"
  }
 },
 "nbformat": 4,
 "nbformat_minor": 5
}
