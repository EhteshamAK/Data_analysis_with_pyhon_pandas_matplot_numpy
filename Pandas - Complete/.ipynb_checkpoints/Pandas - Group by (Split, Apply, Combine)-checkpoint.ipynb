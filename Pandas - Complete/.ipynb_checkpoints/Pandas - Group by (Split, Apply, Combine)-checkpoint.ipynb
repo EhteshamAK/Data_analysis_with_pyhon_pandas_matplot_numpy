{
 "cells": [
  {
   "cell_type": "code",
   "execution_count": 1,
   "id": "fffbe027",
   "metadata": {},
   "outputs": [],
   "source": [
    "import pandas as pd\n",
    "import numpy as np"
   ]
  },
  {
   "cell_type": "code",
   "execution_count": 2,
   "id": "66c25755",
   "metadata": {},
   "outputs": [],
   "source": [
    "df = pd.read_excel(r'C:\\Users\\Pc World Computers\\Downloads\\Ijaz - data.xlsx')"
   ]
  },
  {
   "cell_type": "code",
   "execution_count": 3,
   "id": "538d1e1d",
   "metadata": {},
   "outputs": [
    {
     "data": {
      "text/html": [
       "<div>\n",
       "<style scoped>\n",
       "    .dataframe tbody tr th:only-of-type {\n",
       "        vertical-align: middle;\n",
       "    }\n",
       "\n",
       "    .dataframe tbody tr th {\n",
       "        vertical-align: top;\n",
       "    }\n",
       "\n",
       "    .dataframe thead th {\n",
       "        text-align: right;\n",
       "    }\n",
       "</style>\n",
       "<table border=\"1\" class=\"dataframe\">\n",
       "  <thead>\n",
       "    <tr style=\"text-align: right;\">\n",
       "      <th></th>\n",
       "      <th>Column1</th>\n",
       "      <th>call_org_num</th>\n",
       "      <th>CALL_DIALED_NUM</th>\n",
       "      <th>IMEI</th>\n",
       "      <th>CALL_START_Date</th>\n",
       "      <th>Call_Start_Time</th>\n",
       "      <th>CALL_END_Date</th>\n",
       "      <th>Call_End_Time</th>\n",
       "      <th>INBOUND_OUTBOUND_IND</th>\n",
       "      <th>Call_Network_Volume</th>\n",
       "      <th>Lac_Id</th>\n",
       "      <th>Site_Id</th>\n",
       "      <th>Cell_SITE_ID</th>\n",
       "      <th>lat</th>\n",
       "      <th>longitude</th>\n",
       "      <th>CALL_TYPE</th>\n",
       "      <th>location</th>\n",
       "    </tr>\n",
       "  </thead>\n",
       "  <tbody>\n",
       "    <tr>\n",
       "      <th>0</th>\n",
       "      <td>923022231404</td>\n",
       "      <td>923022231404</td>\n",
       "      <td>923003793494</td>\n",
       "      <td>35451387002712</td>\n",
       "      <td>2022-04-29</td>\n",
       "      <td>22:07:47</td>\n",
       "      <td>2022-04-29</td>\n",
       "      <td>22:37:47</td>\n",
       "      <td>OUTGOING</td>\n",
       "      <td>1800</td>\n",
       "      <td>332</td>\n",
       "      <td>9083</td>\n",
       "      <td>9083332</td>\n",
       "      <td>33.5103</td>\n",
       "      <td>72.2391</td>\n",
       "      <td>CALL</td>\n",
       "      <td>Village &amp; P.O. Mithial Chowk, Tehsil Jand, Dis...</td>\n",
       "    </tr>\n",
       "    <tr>\n",
       "      <th>1</th>\n",
       "      <td>923022231404</td>\n",
       "      <td>923025037110</td>\n",
       "      <td>923022231404</td>\n",
       "      <td>35451387002712</td>\n",
       "      <td>2022-06-28</td>\n",
       "      <td>11:45:15</td>\n",
       "      <td>2022-06-28</td>\n",
       "      <td>11:47:42</td>\n",
       "      <td>INCOMING</td>\n",
       "      <td>147</td>\n",
       "      <td>332</td>\n",
       "      <td>9112</td>\n",
       "      <td>9112332</td>\n",
       "      <td>33.5568</td>\n",
       "      <td>72.2253</td>\n",
       "      <td>CALL</td>\n",
       "      <td>Village Thatta, Near Basal Railway Phatek, Teh...</td>\n",
       "    </tr>\n",
       "    <tr>\n",
       "      <th>2</th>\n",
       "      <td>923022231404</td>\n",
       "      <td>923022231404</td>\n",
       "      <td>923003793494</td>\n",
       "      <td>35451387002712</td>\n",
       "      <td>2022-05-21</td>\n",
       "      <td>11:14:21</td>\n",
       "      <td>2022-05-21</td>\n",
       "      <td>11:32:49</td>\n",
       "      <td>OUTGOING</td>\n",
       "      <td>1108</td>\n",
       "      <td>332</td>\n",
       "      <td>9112</td>\n",
       "      <td>9112332</td>\n",
       "      <td>33.5568</td>\n",
       "      <td>72.2253</td>\n",
       "      <td>CALL</td>\n",
       "      <td>Village Thatta, Near Basal Railway Phatek, Teh...</td>\n",
       "    </tr>\n",
       "    <tr>\n",
       "      <th>3</th>\n",
       "      <td>923022231404</td>\n",
       "      <td>923022231404</td>\n",
       "      <td>923025468338</td>\n",
       "      <td>35451387002712</td>\n",
       "      <td>2022-05-31</td>\n",
       "      <td>20:37:14</td>\n",
       "      <td>2022-05-31</td>\n",
       "      <td>20:55:37</td>\n",
       "      <td>OUTGOING</td>\n",
       "      <td>1103</td>\n",
       "      <td>332</td>\n",
       "      <td>9083</td>\n",
       "      <td>9083332</td>\n",
       "      <td>33.5103</td>\n",
       "      <td>72.2391</td>\n",
       "      <td>CALL</td>\n",
       "      <td>Village &amp; P.O. Mithial Chowk, Tehsil Jand, Dis...</td>\n",
       "    </tr>\n",
       "    <tr>\n",
       "      <th>4</th>\n",
       "      <td>923022231404</td>\n",
       "      <td>923465960096</td>\n",
       "      <td>923022231404</td>\n",
       "      <td>35451387002712</td>\n",
       "      <td>2022-06-25</td>\n",
       "      <td>05:08:34</td>\n",
       "      <td>2022-06-25</td>\n",
       "      <td>05:08:50</td>\n",
       "      <td>INCOMING</td>\n",
       "      <td>16</td>\n",
       "      <td>332</td>\n",
       "      <td>9083</td>\n",
       "      <td>9083332</td>\n",
       "      <td>33.5103</td>\n",
       "      <td>72.2391</td>\n",
       "      <td>CALL</td>\n",
       "      <td>Village &amp; P.O. Mithial Chowk, Tehsil Jand, Dis...</td>\n",
       "    </tr>\n",
       "    <tr>\n",
       "      <th>5</th>\n",
       "      <td>923022231404</td>\n",
       "      <td>923465960096</td>\n",
       "      <td>923022231404</td>\n",
       "      <td>35451387002712</td>\n",
       "      <td>2022-06-25</td>\n",
       "      <td>05:07:35</td>\n",
       "      <td>2022-06-25</td>\n",
       "      <td>05:07:48</td>\n",
       "      <td>INCOMING</td>\n",
       "      <td>13</td>\n",
       "      <td>332</td>\n",
       "      <td>9083</td>\n",
       "      <td>9083332</td>\n",
       "      <td>33.5103</td>\n",
       "      <td>72.2391</td>\n",
       "      <td>CALL</td>\n",
       "      <td>Village &amp; P.O. Mithial Chowk, Tehsil Jand, Dis...</td>\n",
       "    </tr>\n",
       "    <tr>\n",
       "      <th>6</th>\n",
       "      <td>923022231404</td>\n",
       "      <td>923022231404</td>\n",
       "      <td>923025468338</td>\n",
       "      <td>35451387002712</td>\n",
       "      <td>2022-05-17</td>\n",
       "      <td>14:02:54</td>\n",
       "      <td>2022-05-17</td>\n",
       "      <td>14:19:38</td>\n",
       "      <td>OUTGOING</td>\n",
       "      <td>1004</td>\n",
       "      <td>332</td>\n",
       "      <td>9083</td>\n",
       "      <td>9083332</td>\n",
       "      <td>33.5103</td>\n",
       "      <td>72.2391</td>\n",
       "      <td>CALL</td>\n",
       "      <td>Village &amp; P.O. Mithial Chowk, Tehsil Jand, Dis...</td>\n",
       "    </tr>\n",
       "    <tr>\n",
       "      <th>7</th>\n",
       "      <td>923022231404</td>\n",
       "      <td>923022231404</td>\n",
       "      <td>923499298209</td>\n",
       "      <td>35451387002712</td>\n",
       "      <td>2022-04-12</td>\n",
       "      <td>18:53:56</td>\n",
       "      <td>2022-04-12</td>\n",
       "      <td>19:10:35</td>\n",
       "      <td>OUTGOING</td>\n",
       "      <td>999</td>\n",
       "      <td>332</td>\n",
       "      <td>9083</td>\n",
       "      <td>9083332</td>\n",
       "      <td>33.5103</td>\n",
       "      <td>72.2391</td>\n",
       "      <td>CALL</td>\n",
       "      <td>Village &amp; P.O. Mithial Chowk, Tehsil Jand, Dis...</td>\n",
       "    </tr>\n",
       "    <tr>\n",
       "      <th>8</th>\n",
       "      <td>923022231404</td>\n",
       "      <td>923005976007</td>\n",
       "      <td>923022231404</td>\n",
       "      <td>35451387002712</td>\n",
       "      <td>2022-06-25</td>\n",
       "      <td>05:58:42</td>\n",
       "      <td>2022-06-25</td>\n",
       "      <td>05:58:49</td>\n",
       "      <td>INCOMING</td>\n",
       "      <td>7</td>\n",
       "      <td>332</td>\n",
       "      <td>9081</td>\n",
       "      <td>9081332</td>\n",
       "      <td>33.5103</td>\n",
       "      <td>72.2391</td>\n",
       "      <td>CALL</td>\n",
       "      <td>Village &amp; P.O. Mithial Chowk, Tehsil Jand, Dis...</td>\n",
       "    </tr>\n",
       "    <tr>\n",
       "      <th>9</th>\n",
       "      <td>923022231404</td>\n",
       "      <td>923022231404</td>\n",
       "      <td>923411512974</td>\n",
       "      <td>35451387002712</td>\n",
       "      <td>2022-05-21</td>\n",
       "      <td>20:03:05</td>\n",
       "      <td>2022-05-21</td>\n",
       "      <td>20:17:15</td>\n",
       "      <td>OUTGOING</td>\n",
       "      <td>850</td>\n",
       "      <td>332</td>\n",
       "      <td>9083</td>\n",
       "      <td>9083332</td>\n",
       "      <td>33.5103</td>\n",
       "      <td>72.2391</td>\n",
       "      <td>CALL</td>\n",
       "      <td>Village &amp; P.O. Mithial Chowk, Tehsil Jand, Dis...</td>\n",
       "    </tr>\n",
       "  </tbody>\n",
       "</table>\n",
       "</div>"
      ],
      "text/plain": [
       "        Column1  call_org_num  CALL_DIALED_NUM            IMEI  \\\n",
       "0  923022231404  923022231404     923003793494  35451387002712   \n",
       "1  923022231404  923025037110     923022231404  35451387002712   \n",
       "2  923022231404  923022231404     923003793494  35451387002712   \n",
       "3  923022231404  923022231404     923025468338  35451387002712   \n",
       "4  923022231404  923465960096     923022231404  35451387002712   \n",
       "5  923022231404  923465960096     923022231404  35451387002712   \n",
       "6  923022231404  923022231404     923025468338  35451387002712   \n",
       "7  923022231404  923022231404     923499298209  35451387002712   \n",
       "8  923022231404  923005976007     923022231404  35451387002712   \n",
       "9  923022231404  923022231404     923411512974  35451387002712   \n",
       "\n",
       "  CALL_START_Date Call_Start_Time CALL_END_Date Call_End_Time  \\\n",
       "0      2022-04-29        22:07:47    2022-04-29      22:37:47   \n",
       "1      2022-06-28        11:45:15    2022-06-28      11:47:42   \n",
       "2      2022-05-21        11:14:21    2022-05-21      11:32:49   \n",
       "3      2022-05-31        20:37:14    2022-05-31      20:55:37   \n",
       "4      2022-06-25        05:08:34    2022-06-25      05:08:50   \n",
       "5      2022-06-25        05:07:35    2022-06-25      05:07:48   \n",
       "6      2022-05-17        14:02:54    2022-05-17      14:19:38   \n",
       "7      2022-04-12        18:53:56    2022-04-12      19:10:35   \n",
       "8      2022-06-25        05:58:42    2022-06-25      05:58:49   \n",
       "9      2022-05-21        20:03:05    2022-05-21      20:17:15   \n",
       "\n",
       "  INBOUND_OUTBOUND_IND  Call_Network_Volume  Lac_Id  Site_Id  Cell_SITE_ID  \\\n",
       "0             OUTGOING                 1800     332     9083       9083332   \n",
       "1             INCOMING                  147     332     9112       9112332   \n",
       "2             OUTGOING                 1108     332     9112       9112332   \n",
       "3             OUTGOING                 1103     332     9083       9083332   \n",
       "4             INCOMING                   16     332     9083       9083332   \n",
       "5             INCOMING                   13     332     9083       9083332   \n",
       "6             OUTGOING                 1004     332     9083       9083332   \n",
       "7             OUTGOING                  999     332     9083       9083332   \n",
       "8             INCOMING                    7     332     9081       9081332   \n",
       "9             OUTGOING                  850     332     9083       9083332   \n",
       "\n",
       "       lat  longitude CALL_TYPE  \\\n",
       "0  33.5103    72.2391      CALL   \n",
       "1  33.5568    72.2253      CALL   \n",
       "2  33.5568    72.2253      CALL   \n",
       "3  33.5103    72.2391      CALL   \n",
       "4  33.5103    72.2391      CALL   \n",
       "5  33.5103    72.2391      CALL   \n",
       "6  33.5103    72.2391      CALL   \n",
       "7  33.5103    72.2391      CALL   \n",
       "8  33.5103    72.2391      CALL   \n",
       "9  33.5103    72.2391      CALL   \n",
       "\n",
       "                                            location  \n",
       "0  Village & P.O. Mithial Chowk, Tehsil Jand, Dis...  \n",
       "1  Village Thatta, Near Basal Railway Phatek, Teh...  \n",
       "2  Village Thatta, Near Basal Railway Phatek, Teh...  \n",
       "3  Village & P.O. Mithial Chowk, Tehsil Jand, Dis...  \n",
       "4  Village & P.O. Mithial Chowk, Tehsil Jand, Dis...  \n",
       "5  Village & P.O. Mithial Chowk, Tehsil Jand, Dis...  \n",
       "6  Village & P.O. Mithial Chowk, Tehsil Jand, Dis...  \n",
       "7  Village & P.O. Mithial Chowk, Tehsil Jand, Dis...  \n",
       "8  Village & P.O. Mithial Chowk, Tehsil Jand, Dis...  \n",
       "9  Village & P.O. Mithial Chowk, Tehsil Jand, Dis...  "
      ]
     },
     "execution_count": 3,
     "metadata": {},
     "output_type": "execute_result"
    }
   ],
   "source": [
    "df.head(10)"
   ]
  },
  {
   "cell_type": "code",
   "execution_count": 4,
   "id": "5b466054",
   "metadata": {},
   "outputs": [
    {
     "data": {
      "text/plain": [
       "(2339, 17)"
      ]
     },
     "execution_count": 4,
     "metadata": {},
     "output_type": "execute_result"
    }
   ],
   "source": [
    "df.shape"
   ]
  },
  {
   "cell_type": "code",
   "execution_count": 5,
   "id": "8cefd05f",
   "metadata": {},
   "outputs": [
    {
     "data": {
      "text/plain": [
       "Index(['Column1', 'call_org_num', 'CALL_DIALED_NUM', 'IMEI', 'CALL_START_Date',\n",
       "       'Call_Start_Time', 'CALL_END_Date', 'Call_End_Time',\n",
       "       'INBOUND_OUTBOUND_IND', 'Call_Network_Volume', 'Lac_Id', 'Site_Id',\n",
       "       'Cell_SITE_ID', 'lat', 'longitude', 'CALL_TYPE', 'location'],\n",
       "      dtype='object')"
      ]
     },
     "execution_count": 5,
     "metadata": {},
     "output_type": "execute_result"
    }
   ],
   "source": [
    "df.columns"
   ]
  },
  {
   "cell_type": "code",
   "execution_count": 6,
   "id": "f0433410",
   "metadata": {},
   "outputs": [],
   "source": [
    "df_copy = df.copy()"
   ]
  },
  {
   "cell_type": "code",
   "execution_count": 7,
   "id": "ace72413",
   "metadata": {},
   "outputs": [],
   "source": [
    "df_copy.drop(\"Column1\",axis=1,inplace=True)"
   ]
  },
  {
   "cell_type": "code",
   "execution_count": 8,
   "id": "b8f5bf9e",
   "metadata": {},
   "outputs": [
    {
     "data": {
      "text/html": [
       "<div>\n",
       "<style scoped>\n",
       "    .dataframe tbody tr th:only-of-type {\n",
       "        vertical-align: middle;\n",
       "    }\n",
       "\n",
       "    .dataframe tbody tr th {\n",
       "        vertical-align: top;\n",
       "    }\n",
       "\n",
       "    .dataframe thead th {\n",
       "        text-align: right;\n",
       "    }\n",
       "</style>\n",
       "<table border=\"1\" class=\"dataframe\">\n",
       "  <thead>\n",
       "    <tr style=\"text-align: right;\">\n",
       "      <th></th>\n",
       "      <th>call_org_num</th>\n",
       "      <th>CALL_DIALED_NUM</th>\n",
       "      <th>IMEI</th>\n",
       "      <th>CALL_START_Date</th>\n",
       "      <th>Call_Start_Time</th>\n",
       "      <th>CALL_END_Date</th>\n",
       "      <th>Call_End_Time</th>\n",
       "      <th>INBOUND_OUTBOUND_IND</th>\n",
       "      <th>Call_Network_Volume</th>\n",
       "      <th>Lac_Id</th>\n",
       "      <th>Site_Id</th>\n",
       "      <th>Cell_SITE_ID</th>\n",
       "      <th>lat</th>\n",
       "      <th>longitude</th>\n",
       "      <th>CALL_TYPE</th>\n",
       "      <th>location</th>\n",
       "    </tr>\n",
       "  </thead>\n",
       "  <tbody>\n",
       "    <tr>\n",
       "      <th>0</th>\n",
       "      <td>923022231404</td>\n",
       "      <td>923003793494</td>\n",
       "      <td>35451387002712</td>\n",
       "      <td>2022-04-29</td>\n",
       "      <td>22:07:47</td>\n",
       "      <td>2022-04-29</td>\n",
       "      <td>22:37:47</td>\n",
       "      <td>OUTGOING</td>\n",
       "      <td>1800</td>\n",
       "      <td>332</td>\n",
       "      <td>9083</td>\n",
       "      <td>9083332</td>\n",
       "      <td>33.5103</td>\n",
       "      <td>72.2391</td>\n",
       "      <td>CALL</td>\n",
       "      <td>Village &amp; P.O. Mithial Chowk, Tehsil Jand, Dis...</td>\n",
       "    </tr>\n",
       "    <tr>\n",
       "      <th>1</th>\n",
       "      <td>923025037110</td>\n",
       "      <td>923022231404</td>\n",
       "      <td>35451387002712</td>\n",
       "      <td>2022-06-28</td>\n",
       "      <td>11:45:15</td>\n",
       "      <td>2022-06-28</td>\n",
       "      <td>11:47:42</td>\n",
       "      <td>INCOMING</td>\n",
       "      <td>147</td>\n",
       "      <td>332</td>\n",
       "      <td>9112</td>\n",
       "      <td>9112332</td>\n",
       "      <td>33.5568</td>\n",
       "      <td>72.2253</td>\n",
       "      <td>CALL</td>\n",
       "      <td>Village Thatta, Near Basal Railway Phatek, Teh...</td>\n",
       "    </tr>\n",
       "    <tr>\n",
       "      <th>2</th>\n",
       "      <td>923022231404</td>\n",
       "      <td>923003793494</td>\n",
       "      <td>35451387002712</td>\n",
       "      <td>2022-05-21</td>\n",
       "      <td>11:14:21</td>\n",
       "      <td>2022-05-21</td>\n",
       "      <td>11:32:49</td>\n",
       "      <td>OUTGOING</td>\n",
       "      <td>1108</td>\n",
       "      <td>332</td>\n",
       "      <td>9112</td>\n",
       "      <td>9112332</td>\n",
       "      <td>33.5568</td>\n",
       "      <td>72.2253</td>\n",
       "      <td>CALL</td>\n",
       "      <td>Village Thatta, Near Basal Railway Phatek, Teh...</td>\n",
       "    </tr>\n",
       "    <tr>\n",
       "      <th>3</th>\n",
       "      <td>923022231404</td>\n",
       "      <td>923025468338</td>\n",
       "      <td>35451387002712</td>\n",
       "      <td>2022-05-31</td>\n",
       "      <td>20:37:14</td>\n",
       "      <td>2022-05-31</td>\n",
       "      <td>20:55:37</td>\n",
       "      <td>OUTGOING</td>\n",
       "      <td>1103</td>\n",
       "      <td>332</td>\n",
       "      <td>9083</td>\n",
       "      <td>9083332</td>\n",
       "      <td>33.5103</td>\n",
       "      <td>72.2391</td>\n",
       "      <td>CALL</td>\n",
       "      <td>Village &amp; P.O. Mithial Chowk, Tehsil Jand, Dis...</td>\n",
       "    </tr>\n",
       "    <tr>\n",
       "      <th>4</th>\n",
       "      <td>923465960096</td>\n",
       "      <td>923022231404</td>\n",
       "      <td>35451387002712</td>\n",
       "      <td>2022-06-25</td>\n",
       "      <td>05:08:34</td>\n",
       "      <td>2022-06-25</td>\n",
       "      <td>05:08:50</td>\n",
       "      <td>INCOMING</td>\n",
       "      <td>16</td>\n",
       "      <td>332</td>\n",
       "      <td>9083</td>\n",
       "      <td>9083332</td>\n",
       "      <td>33.5103</td>\n",
       "      <td>72.2391</td>\n",
       "      <td>CALL</td>\n",
       "      <td>Village &amp; P.O. Mithial Chowk, Tehsil Jand, Dis...</td>\n",
       "    </tr>\n",
       "    <tr>\n",
       "      <th>5</th>\n",
       "      <td>923465960096</td>\n",
       "      <td>923022231404</td>\n",
       "      <td>35451387002712</td>\n",
       "      <td>2022-06-25</td>\n",
       "      <td>05:07:35</td>\n",
       "      <td>2022-06-25</td>\n",
       "      <td>05:07:48</td>\n",
       "      <td>INCOMING</td>\n",
       "      <td>13</td>\n",
       "      <td>332</td>\n",
       "      <td>9083</td>\n",
       "      <td>9083332</td>\n",
       "      <td>33.5103</td>\n",
       "      <td>72.2391</td>\n",
       "      <td>CALL</td>\n",
       "      <td>Village &amp; P.O. Mithial Chowk, Tehsil Jand, Dis...</td>\n",
       "    </tr>\n",
       "    <tr>\n",
       "      <th>6</th>\n",
       "      <td>923022231404</td>\n",
       "      <td>923025468338</td>\n",
       "      <td>35451387002712</td>\n",
       "      <td>2022-05-17</td>\n",
       "      <td>14:02:54</td>\n",
       "      <td>2022-05-17</td>\n",
       "      <td>14:19:38</td>\n",
       "      <td>OUTGOING</td>\n",
       "      <td>1004</td>\n",
       "      <td>332</td>\n",
       "      <td>9083</td>\n",
       "      <td>9083332</td>\n",
       "      <td>33.5103</td>\n",
       "      <td>72.2391</td>\n",
       "      <td>CALL</td>\n",
       "      <td>Village &amp; P.O. Mithial Chowk, Tehsil Jand, Dis...</td>\n",
       "    </tr>\n",
       "  </tbody>\n",
       "</table>\n",
       "</div>"
      ],
      "text/plain": [
       "   call_org_num  CALL_DIALED_NUM            IMEI CALL_START_Date  \\\n",
       "0  923022231404     923003793494  35451387002712      2022-04-29   \n",
       "1  923025037110     923022231404  35451387002712      2022-06-28   \n",
       "2  923022231404     923003793494  35451387002712      2022-05-21   \n",
       "3  923022231404     923025468338  35451387002712      2022-05-31   \n",
       "4  923465960096     923022231404  35451387002712      2022-06-25   \n",
       "5  923465960096     923022231404  35451387002712      2022-06-25   \n",
       "6  923022231404     923025468338  35451387002712      2022-05-17   \n",
       "\n",
       "  Call_Start_Time CALL_END_Date Call_End_Time INBOUND_OUTBOUND_IND  \\\n",
       "0        22:07:47    2022-04-29      22:37:47             OUTGOING   \n",
       "1        11:45:15    2022-06-28      11:47:42             INCOMING   \n",
       "2        11:14:21    2022-05-21      11:32:49             OUTGOING   \n",
       "3        20:37:14    2022-05-31      20:55:37             OUTGOING   \n",
       "4        05:08:34    2022-06-25      05:08:50             INCOMING   \n",
       "5        05:07:35    2022-06-25      05:07:48             INCOMING   \n",
       "6        14:02:54    2022-05-17      14:19:38             OUTGOING   \n",
       "\n",
       "   Call_Network_Volume  Lac_Id  Site_Id  Cell_SITE_ID      lat  longitude  \\\n",
       "0                 1800     332     9083       9083332  33.5103    72.2391   \n",
       "1                  147     332     9112       9112332  33.5568    72.2253   \n",
       "2                 1108     332     9112       9112332  33.5568    72.2253   \n",
       "3                 1103     332     9083       9083332  33.5103    72.2391   \n",
       "4                   16     332     9083       9083332  33.5103    72.2391   \n",
       "5                   13     332     9083       9083332  33.5103    72.2391   \n",
       "6                 1004     332     9083       9083332  33.5103    72.2391   \n",
       "\n",
       "  CALL_TYPE                                           location  \n",
       "0      CALL  Village & P.O. Mithial Chowk, Tehsil Jand, Dis...  \n",
       "1      CALL  Village Thatta, Near Basal Railway Phatek, Teh...  \n",
       "2      CALL  Village Thatta, Near Basal Railway Phatek, Teh...  \n",
       "3      CALL  Village & P.O. Mithial Chowk, Tehsil Jand, Dis...  \n",
       "4      CALL  Village & P.O. Mithial Chowk, Tehsil Jand, Dis...  \n",
       "5      CALL  Village & P.O. Mithial Chowk, Tehsil Jand, Dis...  \n",
       "6      CALL  Village & P.O. Mithial Chowk, Tehsil Jand, Dis...  "
      ]
     },
     "execution_count": 8,
     "metadata": {},
     "output_type": "execute_result"
    }
   ],
   "source": [
    "df_copy.head(7)"
   ]
  },
  {
   "cell_type": "code",
   "execution_count": 9,
   "id": "8788069e",
   "metadata": {},
   "outputs": [
    {
     "data": {
      "text/plain": [
       "call_org_num                    object\n",
       "CALL_DIALED_NUM                  int64\n",
       "IMEI                             int64\n",
       "CALL_START_Date         datetime64[ns]\n",
       "Call_Start_Time                 object\n",
       "CALL_END_Date           datetime64[ns]\n",
       "Call_End_Time                   object\n",
       "INBOUND_OUTBOUND_IND            object\n",
       "Call_Network_Volume              int64\n",
       "Lac_Id                           int64\n",
       "Site_Id                          int64\n",
       "Cell_SITE_ID                     int64\n",
       "lat                            float64\n",
       "longitude                      float64\n",
       "CALL_TYPE                       object\n",
       "location                        object\n",
       "dtype: object"
      ]
     },
     "execution_count": 9,
     "metadata": {},
     "output_type": "execute_result"
    }
   ],
   "source": [
    "df_copy.dtypes"
   ]
  },
  {
   "cell_type": "markdown",
   "id": "c6168341",
   "metadata": {},
   "source": [
    "# Printing only required columns"
   ]
  },
  {
   "cell_type": "markdown",
   "id": "dcd4ca1e",
   "metadata": {},
   "source": [
    "### Select columns by name"
   ]
  },
  {
   "cell_type": "code",
   "execution_count": 10,
   "id": "ff70f3a9",
   "metadata": {},
   "outputs": [
    {
     "ename": "KeyError",
     "evalue": "\"['CALL_START_DT_TM', 'CALL_END_DT_TM'] not in index\"",
     "output_type": "error",
     "traceback": [
      "\u001b[1;31m---------------------------------------------------------------------------\u001b[0m",
      "\u001b[1;31mKeyError\u001b[0m                                  Traceback (most recent call last)",
      "\u001b[1;32mC:\\Users\\PCWORL~1\\AppData\\Local\\Temp/ipykernel_2496/3719257861.py\u001b[0m in \u001b[0;36m<module>\u001b[1;34m\u001b[0m\n\u001b[1;32m----> 1\u001b[1;33m \u001b[0mdf_cols\u001b[0m \u001b[1;33m=\u001b[0m \u001b[0mdf_copy\u001b[0m\u001b[1;33m[\u001b[0m\u001b[1;33m[\u001b[0m\u001b[1;34m'call_org_num'\u001b[0m\u001b[1;33m,\u001b[0m\u001b[1;34m'CALL_DIALED_NUM'\u001b[0m\u001b[1;33m,\u001b[0m\u001b[1;34m'CALL_START_DT_TM'\u001b[0m\u001b[1;33m,\u001b[0m\u001b[1;34m'CALL_END_DT_TM'\u001b[0m\u001b[1;33m]\u001b[0m\u001b[1;33m]\u001b[0m\u001b[1;33m\u001b[0m\u001b[1;33m\u001b[0m\u001b[0m\n\u001b[0m",
      "\u001b[1;32mC:\\ProgramData\\Anaconda3\\envs\\pythonProject\\lib\\site-packages\\pandas\\core\\frame.py\u001b[0m in \u001b[0;36m__getitem__\u001b[1;34m(self, key)\u001b[0m\n\u001b[0;32m   3462\u001b[0m             \u001b[1;32mif\u001b[0m \u001b[0mis_iterator\u001b[0m\u001b[1;33m(\u001b[0m\u001b[0mkey\u001b[0m\u001b[1;33m)\u001b[0m\u001b[1;33m:\u001b[0m\u001b[1;33m\u001b[0m\u001b[1;33m\u001b[0m\u001b[0m\n\u001b[0;32m   3463\u001b[0m                 \u001b[0mkey\u001b[0m \u001b[1;33m=\u001b[0m \u001b[0mlist\u001b[0m\u001b[1;33m(\u001b[0m\u001b[0mkey\u001b[0m\u001b[1;33m)\u001b[0m\u001b[1;33m\u001b[0m\u001b[1;33m\u001b[0m\u001b[0m\n\u001b[1;32m-> 3464\u001b[1;33m             \u001b[0mindexer\u001b[0m \u001b[1;33m=\u001b[0m \u001b[0mself\u001b[0m\u001b[1;33m.\u001b[0m\u001b[0mloc\u001b[0m\u001b[1;33m.\u001b[0m\u001b[0m_get_listlike_indexer\u001b[0m\u001b[1;33m(\u001b[0m\u001b[0mkey\u001b[0m\u001b[1;33m,\u001b[0m \u001b[0maxis\u001b[0m\u001b[1;33m=\u001b[0m\u001b[1;36m1\u001b[0m\u001b[1;33m)\u001b[0m\u001b[1;33m[\u001b[0m\u001b[1;36m1\u001b[0m\u001b[1;33m]\u001b[0m\u001b[1;33m\u001b[0m\u001b[1;33m\u001b[0m\u001b[0m\n\u001b[0m\u001b[0;32m   3465\u001b[0m \u001b[1;33m\u001b[0m\u001b[0m\n\u001b[0;32m   3466\u001b[0m         \u001b[1;31m# take() does not accept boolean indexers\u001b[0m\u001b[1;33m\u001b[0m\u001b[1;33m\u001b[0m\u001b[0m\n",
      "\u001b[1;32mC:\\ProgramData\\Anaconda3\\envs\\pythonProject\\lib\\site-packages\\pandas\\core\\indexing.py\u001b[0m in \u001b[0;36m_get_listlike_indexer\u001b[1;34m(self, key, axis)\u001b[0m\n\u001b[0;32m   1312\u001b[0m             \u001b[0mkeyarr\u001b[0m\u001b[1;33m,\u001b[0m \u001b[0mindexer\u001b[0m\u001b[1;33m,\u001b[0m \u001b[0mnew_indexer\u001b[0m \u001b[1;33m=\u001b[0m \u001b[0max\u001b[0m\u001b[1;33m.\u001b[0m\u001b[0m_reindex_non_unique\u001b[0m\u001b[1;33m(\u001b[0m\u001b[0mkeyarr\u001b[0m\u001b[1;33m)\u001b[0m\u001b[1;33m\u001b[0m\u001b[1;33m\u001b[0m\u001b[0m\n\u001b[0;32m   1313\u001b[0m \u001b[1;33m\u001b[0m\u001b[0m\n\u001b[1;32m-> 1314\u001b[1;33m         \u001b[0mself\u001b[0m\u001b[1;33m.\u001b[0m\u001b[0m_validate_read_indexer\u001b[0m\u001b[1;33m(\u001b[0m\u001b[0mkeyarr\u001b[0m\u001b[1;33m,\u001b[0m \u001b[0mindexer\u001b[0m\u001b[1;33m,\u001b[0m \u001b[0maxis\u001b[0m\u001b[1;33m)\u001b[0m\u001b[1;33m\u001b[0m\u001b[1;33m\u001b[0m\u001b[0m\n\u001b[0m\u001b[0;32m   1315\u001b[0m \u001b[1;33m\u001b[0m\u001b[0m\n\u001b[0;32m   1316\u001b[0m         if needs_i8_conversion(ax.dtype) or isinstance(\n",
      "\u001b[1;32mC:\\ProgramData\\Anaconda3\\envs\\pythonProject\\lib\\site-packages\\pandas\\core\\indexing.py\u001b[0m in \u001b[0;36m_validate_read_indexer\u001b[1;34m(self, key, indexer, axis)\u001b[0m\n\u001b[0;32m   1375\u001b[0m \u001b[1;33m\u001b[0m\u001b[0m\n\u001b[0;32m   1376\u001b[0m             \u001b[0mnot_found\u001b[0m \u001b[1;33m=\u001b[0m \u001b[0mlist\u001b[0m\u001b[1;33m(\u001b[0m\u001b[0mensure_index\u001b[0m\u001b[1;33m(\u001b[0m\u001b[0mkey\u001b[0m\u001b[1;33m)\u001b[0m\u001b[1;33m[\u001b[0m\u001b[0mmissing_mask\u001b[0m\u001b[1;33m.\u001b[0m\u001b[0mnonzero\u001b[0m\u001b[1;33m(\u001b[0m\u001b[1;33m)\u001b[0m\u001b[1;33m[\u001b[0m\u001b[1;36m0\u001b[0m\u001b[1;33m]\u001b[0m\u001b[1;33m]\u001b[0m\u001b[1;33m.\u001b[0m\u001b[0munique\u001b[0m\u001b[1;33m(\u001b[0m\u001b[1;33m)\u001b[0m\u001b[1;33m)\u001b[0m\u001b[1;33m\u001b[0m\u001b[1;33m\u001b[0m\u001b[0m\n\u001b[1;32m-> 1377\u001b[1;33m             \u001b[1;32mraise\u001b[0m \u001b[0mKeyError\u001b[0m\u001b[1;33m(\u001b[0m\u001b[1;34mf\"{not_found} not in index\"\u001b[0m\u001b[1;33m)\u001b[0m\u001b[1;33m\u001b[0m\u001b[1;33m\u001b[0m\u001b[0m\n\u001b[0m\u001b[0;32m   1378\u001b[0m \u001b[1;33m\u001b[0m\u001b[0m\n\u001b[0;32m   1379\u001b[0m \u001b[1;33m\u001b[0m\u001b[0m\n",
      "\u001b[1;31mKeyError\u001b[0m: \"['CALL_START_DT_TM', 'CALL_END_DT_TM'] not in index\""
     ]
    }
   ],
   "source": [
    "df_cols = df_copy[['call_org_num','CALL_DIALED_NUM','CALL_START_DT_TM','CALL_END_DT_TM']]"
   ]
  },
  {
   "cell_type": "code",
   "execution_count": null,
   "id": "9dfba16b",
   "metadata": {},
   "outputs": [],
   "source": [
    "df_cols.head(50)"
   ]
  },
  {
   "cell_type": "code",
   "execution_count": null,
   "id": "07ddff5c",
   "metadata": {},
   "outputs": [],
   "source": [
    "df_copy.dtypes"
   ]
  },
  {
   "cell_type": "markdown",
   "id": "401017ca",
   "metadata": {},
   "source": [
    "### Select columns by index  using iloc"
   ]
  },
  {
   "cell_type": "markdown",
   "id": "d7a33ef6",
   "metadata": {},
   "source": [
    "df_cols = df_copy.iloc[:,[1,2,5,6]]"
   ]
  },
  {
   "cell_type": "code",
   "execution_count": null,
   "id": "819cbfc6",
   "metadata": {},
   "outputs": [],
   "source": [
    "df_cols = df_copy.iloc[:,[0,1,4,5]]"
   ]
  },
  {
   "cell_type": "code",
   "execution_count": null,
   "id": "71e525e2",
   "metadata": {},
   "outputs": [],
   "source": [
    "df_cols"
   ]
  },
  {
   "cell_type": "markdown",
   "id": "07afdb5e",
   "metadata": {},
   "source": [
    "# Group by "
   ]
  },
  {
   "cell_type": "code",
   "execution_count": null,
   "id": "39516150",
   "metadata": {},
   "outputs": [],
   "source": [
    "df_copy.drop(['IMSI','IMEI','Lac_Id','Site_Id','Cell_SITE_ID','lat','longitude'],axis=1,inplace=True)"
   ]
  },
  {
   "cell_type": "code",
   "execution_count": null,
   "id": "950f290d",
   "metadata": {},
   "outputs": [],
   "source": [
    "df_group = df_copy.groupby('INBOUND_OUTBOUND_IND')"
   ]
  },
  {
   "cell_type": "code",
   "execution_count": null,
   "id": "d241dcf5",
   "metadata": {},
   "outputs": [],
   "source": [
    "for inb,outb in df_group:\n",
    "    print(inb)\n",
    "    print(outb)"
   ]
  },
  {
   "cell_type": "code",
   "execution_count": null,
   "id": "3652aca5",
   "metadata": {},
   "outputs": [],
   "source": [
    "df_group.get_group(\"OUTGOING\").head(50)"
   ]
  },
  {
   "cell_type": "code",
   "execution_count": null,
   "id": "67d69f3b",
   "metadata": {},
   "outputs": [],
   "source": [
    "df_group.get_group(\"INCOMING\").head(50)"
   ]
  },
  {
   "cell_type": "code",
   "execution_count": null,
   "id": "be8bbbed",
   "metadata": {},
   "outputs": [],
   "source": [
    "df_group.max()"
   ]
  },
  {
   "cell_type": "code",
   "execution_count": null,
   "id": "f62fa2f8",
   "metadata": {},
   "outputs": [],
   "source": [
    "df_group.min()"
   ]
  },
  {
   "cell_type": "code",
   "execution_count": null,
   "id": "4079d139",
   "metadata": {},
   "outputs": [],
   "source": [
    "df_group.median()"
   ]
  },
  {
   "cell_type": "code",
   "execution_count": null,
   "id": "fb3e1bf8",
   "metadata": {},
   "outputs": [],
   "source": [
    "df_group .describe()"
   ]
  },
  {
   "cell_type": "code",
   "execution_count": null,
   "id": "36053517",
   "metadata": {},
   "outputs": [],
   "source": [
    "df_copy.columns"
   ]
  },
  {
   "cell_type": "code",
   "execution_count": null,
   "id": "547709b8",
   "metadata": {},
   "outputs": [],
   "source": [
    "df_copy.set_index('call_org_num',inplace=True)"
   ]
  },
  {
   "cell_type": "code",
   "execution_count": null,
   "id": "36713f7b",
   "metadata": {},
   "outputs": [],
   "source": [
    "df_copy.dtypes"
   ]
  },
  {
   "cell_type": "code",
   "execution_count": null,
   "id": "0b03d2c3",
   "metadata": {},
   "outputs": [],
   "source": [
    "df_copy[[\"CALL_START_DT_TM\",\"CALL_END_DT_TM\"]] = df_copy[[\"CALL_START_DT_TM\",\"CALL_END_DT_TM\"]].astype('str')"
   ]
  },
  {
   "cell_type": "code",
   "execution_count": null,
   "id": "e2861ff6",
   "metadata": {},
   "outputs": [],
   "source": [
    "df_copy.dtypes"
   ]
  },
  {
   "cell_type": "code",
   "execution_count": null,
   "id": "84040e75",
   "metadata": {},
   "outputs": [],
   "source": [
    "df_copy[[\"Call_Start_Date\",\"Call_start_time\"]] = df_copy[[\"CALL_START_DT_TM\"]].object.split(\" \", expand=True)"
   ]
  },
  {
   "cell_type": "code",
   "execution_count": null,
   "id": "c4d2592a",
   "metadata": {},
   "outputs": [],
   "source": []
  }
 ],
 "metadata": {
  "kernelspec": {
   "display_name": "Python 3 (ipykernel)",
   "language": "python",
   "name": "python3"
  },
  "language_info": {
   "codemirror_mode": {
    "name": "ipython",
    "version": 3
   },
   "file_extension": ".py",
   "mimetype": "text/x-python",
   "name": "python",
   "nbconvert_exporter": "python",
   "pygments_lexer": "ipython3",
   "version": "3.9.7"
  }
 },
 "nbformat": 4,
 "nbformat_minor": 5
}
